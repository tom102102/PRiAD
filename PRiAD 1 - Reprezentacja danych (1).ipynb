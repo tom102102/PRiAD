{
 "cells": [
  {
   "cell_type": "markdown",
   "metadata": {},
   "source": [
    "\n",
    "\n",
    "\n",
    "\n",
    "\n",
    "\n",
    "\n",
    "\n",
    "\n",
    "\n",
    "\n",
    "\n",
    "\n",
    "\n",
    "\n",
    "\n",
    "\n",
    "\n",
    "\n",
    "\n",
    "\n",
    "\n",
    "\n",
    "\n",
    "\n",
    "\n",
    "\n",
    "\n",
    "\n",
    "\n",
    "\n",
    "\n",
    "\n",
    "\n",
    "\n",
    "\n",
    "\n",
    "\n",
    "\n",
    "\n",
    "\n",
    "\n",
    "\n",
    "\n",
    "\n",
    "\n",
    "\n",
    "\n",
    "\n",
    "\n",
    "\n",
    "\n",
    "\n",
    "\n",
    "\n",
    "\n",
    "\n",
    "\n",
    "\n",
    "\n",
    "\n",
    "\n",
    "\n",
    "\n",
    "\n",
    "\n",
    "\n",
    "\n",
    "\n",
    "\n",
    "\n",
    "\n",
    "\n",
    "\n",
    "\n",
    "\n",
    "\n",
    "\n",
    "\n",
    "\n",
    "\n",
    "\n",
    "\n",
    "\n",
    "\n",
    "\n",
    "\n",
    "\n",
    "\n",
    "\n",
    "\n",
    "\n",
    "\n",
    "\n",
    "\n",
    "\n",
    "\n",
    "\n",
    "\n",
    "\n",
    "\n",
    "\n",
    "\n",
    "\n",
    "\n",
    "\n",
    "\n",
    "\n",
    "\n",
    "\n",
    "\n",
    "\n",
    "\n",
    "\n",
    "\n",
    "\n",
    "\n",
    "\n",
    "\n",
    "\n",
    "\n",
    "\n",
    "\n",
    "\n",
    "\n",
    "\n",
    "\n",
    "\n",
    "\n",
    "\n",
    "\n",
    "\n",
    "\n",
    "\n",
    "\n",
    "\n",
    "\n",
    "\n",
    "\n",
    "\n",
    "\n",
    "\n",
    "\n",
    "\n",
    "\n",
    "\n",
    "\n",
    "\n",
    "\n",
    "\n",
    "\n",
    "\n",
    "\n",
    "\n",
    "\n",
    "\n",
    "\n",
    "\n",
    "\n",
    "\n",
    "\n",
    "\n",
    "\n",
    "\n",
    "\n",
    "\n",
    "\n",
    "\n",
    "## PRiAD 1\n",
    "\n",
    "# Przetwarzanie danych w języku Python\n"
   ]
  },
  {
   "cell_type": "markdown",
   "metadata": {},
   "source": [
    "# 1. Serie i ramki danych"
   ]
  },
  {
   "cell_type": "markdown",
   "metadata": {},
   "source": [
    "Pakiety `NumPy` i `Pandas` są kluczowymi pakietami wykorzystywanymi w analizie danych. Pakiety `NumPy` oznacza **numerical Python** i posiada struktury pozwalające na składowanie danych zapewniający szybki dostęp do nich oraz zoptymalizowane pod kątem obliczeniowym podstawowe operacje matematyczne. Natomiast podstawową funkcją pakietu `Pandas` jest nadbudowa struktur `NumPy` dostarczająca użytkownikowi wygody w przechowywaniu danych i ich późniejszej eksploracji. W szczególności pakiet `Pandas` oferuje struktury danych **series** i **data frame**, służące do przechowywania i dostępu do odpowiednio serii i macierzy danych. Ramki danych to inna nazwa dwuwymiarowych macierzy danych, w których kolumny są atrybutami (cechami, zmiennymi), zaś wiersze to obiekty (instancje, przykłady uczące). Seria danych w terminologii pakietu `pandas` to macierz danych o dokładnie jednej kolumnie. \n",
    "\n",
    "Wykorzystanie tych pakietów wymaga ich importu w każdej nowej sesji:"
   ]
  },
  {
   "cell_type": "code",
   "execution_count": 1,
   "metadata": {},
   "outputs": [],
   "source": [
    "import numpy as np\n",
    "import pandas as pd"
   ]
  },
  {
   "cell_type": "markdown",
   "metadata": {},
   "source": [
    "## 1.1 Seria danych"
   ]
  },
  {
   "cell_type": "markdown",
   "metadata": {},
   "source": [
    "Typ danych **series** służy do pojedynczych przechowywania serii danych. Zmienną tego typu tworzymy z wykorzystaniem metody `series`, której argument zwiera informację o danych tworzących dany szereg. Informacja ta może być umieszczona w liście zawierającej kolejne wartości."
   ]
  },
  {
   "cell_type": "code",
   "execution_count": 2,
   "metadata": {},
   "outputs": [
    {
     "name": "stdout",
     "output_type": "stream",
     "text": [
      "<class 'pandas.core.series.Series'>\n"
     ]
    },
    {
     "data": {
      "text/plain": [
       "0    1.0\n",
       "1    3.0\n",
       "2    5.0\n",
       "3    NaN\n",
       "4    6.0\n",
       "5    8.0\n",
       "dtype: float64"
      ]
     },
     "execution_count": 2,
     "metadata": {},
     "output_type": "execute_result"
    }
   ],
   "source": [
    "import pandas as pd\n",
    "import numpy as np\n",
    "s = pd.Series([1, 3, 5, np.nan, 6, 8])\n",
    "print(type(s))\n",
    "s"
   ]
  },
  {
   "cell_type": "code",
   "execution_count": 3,
   "metadata": {},
   "outputs": [
    {
     "name": "stdout",
     "output_type": "stream",
     "text": [
      "0      1.0\n",
      "1     12.0\n",
      "2     23.0\n",
      "3     34.0\n",
      "4     45.0\n",
      "5     56.0\n",
      "6     67.0\n",
      "7     78.0\n",
      "8     89.0\n",
      "9    100.0\n",
      "dtype: float64\n"
     ]
    }
   ],
   "source": [
    "s2 = pd.Series(np.linspace(1, 100, 10))  \n",
    "print(s2)  "
   ]
  },
  {
   "cell_type": "code",
   "execution_count": 4,
   "metadata": {},
   "outputs": [
    {
     "name": "stdout",
     "output_type": "stream",
     "text": [
      "0    -0.818382\n",
      "1     1.495351\n",
      "2     0.087412\n",
      "3     0.206558\n",
      "4     1.843265\n",
      "5     1.083990\n",
      "6    -1.043582\n",
      "7    -0.344091\n",
      "8    -0.124592\n",
      "9    -0.977672\n",
      "10   -1.522919\n",
      "11   -0.366178\n",
      "12    1.498555\n",
      "13   -0.302819\n",
      "14    0.317245\n",
      "15   -1.051480\n",
      "16    1.430768\n",
      "17    0.892246\n",
      "18    0.998966\n",
      "19   -0.943631\n",
      "dtype: float64\n"
     ]
    }
   ],
   "source": [
    "s3 = pd.Series(np.random.randn(20))  \n",
    "print(s3)  "
   ]
  },
  {
   "cell_type": "markdown",
   "metadata": {},
   "source": [
    "Liczbę elementów serii otrzymujemy przy pomocy metody `count()`."
   ]
  },
  {
   "cell_type": "code",
   "execution_count": 5,
   "metadata": {},
   "outputs": [
    {
     "data": {
      "text/plain": [
       "20"
      ]
     },
     "execution_count": 5,
     "metadata": {},
     "output_type": "execute_result"
    }
   ],
   "source": [
    "s3.count()"
   ]
  },
  {
   "cell_type": "markdown",
   "metadata": {},
   "source": [
    "Pierwsze i ostatnie elementy serii danych można otrzymać używając metod, odpowiednio, `head()` oraz `tail()`. Opcjonalny argument definiuje liczbę pierwszych/ostatnich elementów. "
   ]
  },
  {
   "cell_type": "code",
   "execution_count": 6,
   "metadata": {},
   "outputs": [
    {
     "data": {
      "text/plain": [
       "0   -0.818382\n",
       "1    1.495351\n",
       "2    0.087412\n",
       "3    0.206558\n",
       "4    1.843265\n",
       "5    1.083990\n",
       "6   -1.043582\n",
       "7   -0.344091\n",
       "8   -0.124592\n",
       "9   -0.977672\n",
       "dtype: float64"
      ]
     },
     "execution_count": 6,
     "metadata": {},
     "output_type": "execute_result"
    }
   ],
   "source": [
    "s3.head(10)"
   ]
  },
  {
   "cell_type": "code",
   "execution_count": 7,
   "metadata": {},
   "outputs": [
    {
     "data": {
      "text/plain": [
       "17    0.892246\n",
       "18    0.998966\n",
       "19   -0.943631\n",
       "dtype: float64"
      ]
     },
     "execution_count": 7,
     "metadata": {},
     "output_type": "execute_result"
    }
   ],
   "source": [
    "s3.tail(3)"
   ]
  },
  {
   "cell_type": "markdown",
   "metadata": {},
   "source": [
    "Metoda `sort_values` umożliwia sortowanie elementów serii danych. Zwróć uwage na sposób wywołania tej metody w poniższym przykładzie wraz z metodą `head()`. Jaki jest efekt takiego wywołania ?"
   ]
  },
  {
   "cell_type": "code",
   "execution_count": 8,
   "metadata": {},
   "outputs": [
    {
     "data": {
      "text/plain": [
       "2     0.087412\n",
       "3     0.206558\n",
       "14    0.317245\n",
       "17    0.892246\n",
       "18    0.998966\n",
       "5     1.083990\n",
       "16    1.430768\n",
       "1     1.495351\n",
       "12    1.498555\n",
       "4     1.843265\n",
       "dtype: float64"
      ]
     },
     "execution_count": 8,
     "metadata": {},
     "output_type": "execute_result"
    }
   ],
   "source": [
    "s3.sort_values().tail(10)"
   ]
  },
  {
   "cell_type": "markdown",
   "metadata": {},
   "source": [
    "## 1.2 Ramka danych"
   ]
  },
  {
   "cell_type": "markdown",
   "metadata": {},
   "source": [
    "Podstawową strukturą danych pakietu `pandas` jest macierz danych nazywana **ramką danych**. Metodą umożliwiającą tworzenie ramki danych jest metoda `DataFrame`, której argumenty decydują o formie tworzonej ramki. "
   ]
  },
  {
   "cell_type": "code",
   "execution_count": 9,
   "metadata": {},
   "outputs": [
    {
     "data": {
      "text/plain": [
       "array([[ 0.8184905 ,  1.02305897,  1.6724297 , -1.53483308],\n",
       "       [ 0.84289695,  0.54675979,  0.5725751 , -1.24123533],\n",
       "       [-2.2983794 ,  1.04734485, -0.34768841, -0.29626959],\n",
       "       [-1.5757164 ,  1.63081517,  0.39913841, -1.28708606],\n",
       "       [ 0.95290187,  0.05111969,  0.05738969, -1.39304195],\n",
       "       [ 0.72083335,  0.4593635 , -1.16156848,  1.38328497]])"
      ]
     },
     "execution_count": 9,
     "metadata": {},
     "output_type": "execute_result"
    }
   ],
   "source": [
    "np.random.randn(6, 4)"
   ]
  },
  {
   "cell_type": "markdown",
   "metadata": {},
   "source": [
    "\n",
    "\n",
    "\n",
    "\n",
    "\n",
    "\n",
    "\n",
    "\n",
    "\n",
    "\n",
    "\n",
    "\n",
    "\n",
    "\n",
    "\n",
    "\n",
    "\n",
    "\n",
    "\n",
    "\n",
    "\n",
    "\n",
    "\n",
    "\n",
    "\n",
    "\n",
    "\n",
    "\n",
    "\n",
    "\n",
    "\n",
    "\n",
    "\n",
    "\n",
    "\n",
    "\n",
    "\n",
    "\n",
    "\n",
    "\n",
    "\n",
    "\n",
    "\n",
    "\n",
    "\n",
    "\n",
    "\n",
    "\n",
    "\n",
    "\n",
    "\n",
    "\n",
    "\n",
    "\n",
    "\n",
    "\n",
    "\n",
    "\n",
    "\n",
    "\n",
    "\n",
    "\n",
    "\n",
    "\n",
    "\n",
    "\n",
    "\n",
    "\n",
    "\n",
    "\n",
    "\n",
    "\n",
    "\n",
    "\n",
    "\n",
    "\n",
    "\n",
    "\n",
    "\n",
    "\n",
    "\n",
    "\n",
    "\n",
    "\n",
    "\n",
    "\n",
    "\n",
    "\n",
    "\n",
    "\n",
    "\n",
    "\n",
    "\n",
    "\n",
    "\n",
    "\n",
    "\n",
    "\n",
    "\n",
    "\n",
    "\n",
    "\n",
    "\n",
    "\n",
    "\n",
    "\n",
    "\n",
    "\n",
    "\n",
    "\n",
    "\n",
    "\n",
    "\n",
    "\n",
    "\n",
    "\n",
    "\n",
    "\n",
    "\n",
    "\n",
    "\n",
    "\n",
    "\n",
    "\n",
    "\n",
    "\n",
    "\n",
    "\n",
    "\n",
    "\n",
    "\n",
    "\n",
    "\n",
    "\n",
    "\n",
    "\n",
    "\n",
    "\n",
    "\n",
    " \n",
    " \n",
    " \n",
    " \n",
    " \n",
    " \n",
    " \n",
    " \n",
    " \n",
    " \n",
    " \n",
    " \n",
    " \n",
    "  \n",
    "  \n",
    "  \n",
    "  \n",
    "  \n",
    "  \n",
    "  \n",
    "  \n",
    "  \n",
    "  \n",
    "  \n",
    "  \n",
    "  \n",
    "  \n",
    "  \n",
    "  \n",
    "  \n",
    "  \n",
    "  \n",
    "  \n",
    "  \n",
    "  \n",
    "  \n",
    "  \n",
    "  \n",
    "  \n",
    "  \n",
    "  \n",
    " \n",
    " \n",
    " \n",
    " \n",
    " \n",
    " \n",
    " \n",
    " \n",
    " \n",
    " \n",
    " \n",
    " \n",
    " \n",
    " \n",
    " \n",
    " \n",
    " \n",
    " \n",
    " \n",
    " \n",
    " \n",
    " \n",
    " \n",
    " \n",
    " \n",
    " \n",
    " \n",
    " \n",
    " \n",
    " \n",
    " \n",
    " \n",
    " \n",
    " \n",
    " \n",
    " \n",
    " \n",
    " \n",
    " \n",
    " \n",
    " \n",
    " \n",
    " \n",
    " \n",
    " \n",
    " \n",
    " \n",
    " \n",
    " \n",
    " \n",
    " \n",
    " \n",
    " \n",
    " \n",
    " \n",
    " \n",
    " \n",
    " \n",
    " \n",
    " \n",
    " \n",
    " \n",
    " \n",
    " \n",
    " \n",
    " \n",
    " \n",
    " \n",
    " \n",
    " \n",
    " \n",
    " \n",
    " \n",
    " \n",
    " \n",
    " \n",
    " \n",
    " \n",
    "\n",
    "\n",
    "\n",
    "\n",
    "\n",
    "\n",
    "\n",
    "\n",
    "\n",
    "\n",
    "\n",
    "\n",
    "\n",
    "\n",
    "\n",
    "\n",
    "\n",
    "\n",
    "\n",
    "\n",
    "\n",
    "\n",
    "\n",
    "\n",
    "\n",
    "\n",
    "\n",
    "\n",
    "W tak utworzonej ramce odwołania do poszczególnych jej elementów można realizować jedynie poprzez indeksy. Możliwe jest jednak dodatkowe opisanie wierszy (obiektów) oraz kolumn (atrybutów) dowolnymi etykietami. Nadanie etykiet atrybutom umożliwia argument `columns`. "
   ]
  },
  {
   "cell_type": "code",
   "execution_count": 10,
   "metadata": {},
   "outputs": [
    {
     "data": {
      "text/plain": [
       "['A', 'B', 'C', 'D']"
      ]
     },
     "execution_count": 10,
     "metadata": {},
     "output_type": "execute_result"
    }
   ],
   "source": [
    "list('ABCD')"
   ]
  },
  {
   "cell_type": "code",
   "execution_count": 11,
   "metadata": {},
   "outputs": [
    {
     "data": {
      "text/html": [
       "<div>\n",
       "<style scoped>\n",
       "    .dataframe tbody tr th:only-of-type {\n",
       "        vertical-align: middle;\n",
       "    }\n",
       "\n",
       "    .dataframe tbody tr th {\n",
       "        vertical-align: top;\n",
       "    }\n",
       "\n",
       "    .dataframe thead th {\n",
       "        text-align: right;\n",
       "    }\n",
       "</style>\n",
       "<table border=\"1\" class=\"dataframe\">\n",
       "  <thead>\n",
       "    <tr style=\"text-align: right;\">\n",
       "      <th></th>\n",
       "      <th>A</th>\n",
       "      <th>B</th>\n",
       "      <th>C</th>\n",
       "      <th>D</th>\n",
       "    </tr>\n",
       "  </thead>\n",
       "  <tbody>\n",
       "    <tr>\n",
       "      <th>0</th>\n",
       "      <td>0.774528</td>\n",
       "      <td>1.507279</td>\n",
       "      <td>-0.049090</td>\n",
       "      <td>-0.276217</td>\n",
       "    </tr>\n",
       "    <tr>\n",
       "      <th>1</th>\n",
       "      <td>0.962015</td>\n",
       "      <td>1.132221</td>\n",
       "      <td>0.627850</td>\n",
       "      <td>0.335212</td>\n",
       "    </tr>\n",
       "    <tr>\n",
       "      <th>2</th>\n",
       "      <td>-0.426638</td>\n",
       "      <td>2.041506</td>\n",
       "      <td>-0.461158</td>\n",
       "      <td>-0.753483</td>\n",
       "    </tr>\n",
       "    <tr>\n",
       "      <th>3</th>\n",
       "      <td>-0.152039</td>\n",
       "      <td>-1.655335</td>\n",
       "      <td>0.942100</td>\n",
       "      <td>0.093274</td>\n",
       "    </tr>\n",
       "    <tr>\n",
       "      <th>4</th>\n",
       "      <td>0.131495</td>\n",
       "      <td>0.021804</td>\n",
       "      <td>-1.030725</td>\n",
       "      <td>-0.796758</td>\n",
       "    </tr>\n",
       "    <tr>\n",
       "      <th>5</th>\n",
       "      <td>0.567527</td>\n",
       "      <td>-1.147737</td>\n",
       "      <td>1.133347</td>\n",
       "      <td>-1.244133</td>\n",
       "    </tr>\n",
       "  </tbody>\n",
       "</table>\n",
       "</div>"
      ],
      "text/plain": [
       "          A         B         C         D\n",
       "0  0.774528  1.507279 -0.049090 -0.276217\n",
       "1  0.962015  1.132221  0.627850  0.335212\n",
       "2 -0.426638  2.041506 -0.461158 -0.753483\n",
       "3 -0.152039 -1.655335  0.942100  0.093274\n",
       "4  0.131495  0.021804 -1.030725 -0.796758\n",
       "5  0.567527 -1.147737  1.133347 -1.244133"
      ]
     },
     "execution_count": 11,
     "metadata": {},
     "output_type": "execute_result"
    }
   ],
   "source": [
    "df = pd.DataFrame(np.random.randn(6, 4), columns=list('ABCD'))\n",
    "df"
   ]
  },
  {
   "cell_type": "markdown",
   "metadata": {},
   "source": [
    "Ramka `df` zawiera 6 obiektów (wiersze) opisanych 4 atrybutami (kolumny), etykietami obiektów są kolejne liczby całkowite, zaś etykietami atrybutów są kolejne wielkie litery."
   ]
  },
  {
   "cell_type": "markdown",
   "metadata": {},
   "source": [
    "Także wiersze (obiekty) mogą zostać nazwane poprzez nadanie im etykiet."
   ]
  },
  {
   "cell_type": "code",
   "execution_count": 12,
   "metadata": {},
   "outputs": [
    {
     "data": {
      "text/html": [
       "<div>\n",
       "<style scoped>\n",
       "    .dataframe tbody tr th:only-of-type {\n",
       "        vertical-align: middle;\n",
       "    }\n",
       "\n",
       "    .dataframe tbody tr th {\n",
       "        vertical-align: top;\n",
       "    }\n",
       "\n",
       "    .dataframe thead th {\n",
       "        text-align: right;\n",
       "    }\n",
       "</style>\n",
       "<table border=\"1\" class=\"dataframe\">\n",
       "  <thead>\n",
       "    <tr style=\"text-align: right;\">\n",
       "      <th></th>\n",
       "      <th>A</th>\n",
       "      <th>B</th>\n",
       "      <th>C</th>\n",
       "      <th>D</th>\n",
       "    </tr>\n",
       "  </thead>\n",
       "  <tbody>\n",
       "    <tr>\n",
       "      <th>a</th>\n",
       "      <td>1.718934</td>\n",
       "      <td>-0.055408</td>\n",
       "      <td>1.111934</td>\n",
       "      <td>-0.259170</td>\n",
       "    </tr>\n",
       "    <tr>\n",
       "      <th>b</th>\n",
       "      <td>0.299487</td>\n",
       "      <td>0.011339</td>\n",
       "      <td>-0.707294</td>\n",
       "      <td>1.159956</td>\n",
       "    </tr>\n",
       "    <tr>\n",
       "      <th>c</th>\n",
       "      <td>-0.187577</td>\n",
       "      <td>-0.370178</td>\n",
       "      <td>0.939311</td>\n",
       "      <td>0.944088</td>\n",
       "    </tr>\n",
       "    <tr>\n",
       "      <th>d</th>\n",
       "      <td>-0.683720</td>\n",
       "      <td>1.024191</td>\n",
       "      <td>0.830907</td>\n",
       "      <td>-0.969686</td>\n",
       "    </tr>\n",
       "    <tr>\n",
       "      <th>e</th>\n",
       "      <td>-2.347539</td>\n",
       "      <td>0.656625</td>\n",
       "      <td>-1.952218</td>\n",
       "      <td>0.633531</td>\n",
       "    </tr>\n",
       "    <tr>\n",
       "      <th>f</th>\n",
       "      <td>-0.492875</td>\n",
       "      <td>-0.278630</td>\n",
       "      <td>-0.813649</td>\n",
       "      <td>-0.133303</td>\n",
       "    </tr>\n",
       "  </tbody>\n",
       "</table>\n",
       "</div>"
      ],
      "text/plain": [
       "          A         B         C         D\n",
       "a  1.718934 -0.055408  1.111934 -0.259170\n",
       "b  0.299487  0.011339 -0.707294  1.159956\n",
       "c -0.187577 -0.370178  0.939311  0.944088\n",
       "d -0.683720  1.024191  0.830907 -0.969686\n",
       "e -2.347539  0.656625 -1.952218  0.633531\n",
       "f -0.492875 -0.278630 -0.813649 -0.133303"
      ]
     },
     "execution_count": 12,
     "metadata": {},
     "output_type": "execute_result"
    }
   ],
   "source": [
    "df1 = pd.DataFrame(np.random.randn(6, 4), columns=list('ABCD'), index = list('abcdef'))\n",
    "df1"
   ]
  },
  {
   "cell_type": "markdown",
   "metadata": {},
   "source": [
    "Macierz danych składa się z obiektów opisanych atrybutami. Kolejne atrybuty stanowią argumenty funkcji `DataFrame`."
   ]
  },
  {
   "cell_type": "code",
   "execution_count": 13,
   "metadata": {},
   "outputs": [
    {
     "data": {
      "text/html": [
       "<div>\n",
       "<style scoped>\n",
       "    .dataframe tbody tr th:only-of-type {\n",
       "        vertical-align: middle;\n",
       "    }\n",
       "\n",
       "    .dataframe tbody tr th {\n",
       "        vertical-align: top;\n",
       "    }\n",
       "\n",
       "    .dataframe thead th {\n",
       "        text-align: right;\n",
       "    }\n",
       "</style>\n",
       "<table border=\"1\" class=\"dataframe\">\n",
       "  <thead>\n",
       "    <tr style=\"text-align: right;\">\n",
       "      <th></th>\n",
       "      <th>A</th>\n",
       "      <th>B</th>\n",
       "      <th>C</th>\n",
       "      <th>D</th>\n",
       "      <th>E</th>\n",
       "      <th>F</th>\n",
       "    </tr>\n",
       "  </thead>\n",
       "  <tbody>\n",
       "    <tr>\n",
       "      <th>0</th>\n",
       "      <td>1.0</td>\n",
       "      <td>2020-11-02</td>\n",
       "      <td>1.0</td>\n",
       "      <td>3</td>\n",
       "      <td>test</td>\n",
       "      <td>foo</td>\n",
       "    </tr>\n",
       "    <tr>\n",
       "      <th>1</th>\n",
       "      <td>1.0</td>\n",
       "      <td>2020-11-02</td>\n",
       "      <td>1.0</td>\n",
       "      <td>3</td>\n",
       "      <td>train</td>\n",
       "      <td>foo</td>\n",
       "    </tr>\n",
       "    <tr>\n",
       "      <th>2</th>\n",
       "      <td>1.0</td>\n",
       "      <td>2020-11-02</td>\n",
       "      <td>1.0</td>\n",
       "      <td>3</td>\n",
       "      <td>test</td>\n",
       "      <td>foo</td>\n",
       "    </tr>\n",
       "    <tr>\n",
       "      <th>3</th>\n",
       "      <td>1.0</td>\n",
       "      <td>2020-11-02</td>\n",
       "      <td>1.0</td>\n",
       "      <td>3</td>\n",
       "      <td>train</td>\n",
       "      <td>foo</td>\n",
       "    </tr>\n",
       "  </tbody>\n",
       "</table>\n",
       "</div>"
      ],
      "text/plain": [
       "     A          B    C  D      E    F\n",
       "0  1.0 2020-11-02  1.0  3   test  foo\n",
       "1  1.0 2020-11-02  1.0  3  train  foo\n",
       "2  1.0 2020-11-02  1.0  3   test  foo\n",
       "3  1.0 2020-11-02  1.0  3  train  foo"
      ]
     },
     "execution_count": 13,
     "metadata": {},
     "output_type": "execute_result"
    }
   ],
   "source": [
    "df2 = pd.DataFrame({'A': 1.,\n",
    "   ...:             'B': pd.Timestamp('20201102'),\n",
    "   ...:             'C': pd.Series(1, index=list(range(4)), dtype='float32'),\n",
    "   ...:             'D': np.array([3] * 4, dtype='int32'),\n",
    "   ...:             'E': pd.Categorical([\"test\", \"train\", \"test\", \"train\"]),\n",
    "   ...:             'F': 'foo'})\n",
    "df2"
   ]
  },
  {
   "cell_type": "markdown",
   "metadata": {},
   "source": [
    "Ramka danych jest obiektem klasy `DataFrame`. Szereg metod tej klasy udostępnia zarówno dane jak i własności ramki. Metoda `info` zwraca podstawowe informacje o ramce danych. "
   ]
  },
  {
   "cell_type": "code",
   "execution_count": 14,
   "metadata": {},
   "outputs": [
    {
     "name": "stdout",
     "output_type": "stream",
     "text": [
      "<class 'pandas.core.frame.DataFrame'>\n",
      "RangeIndex: 6 entries, 0 to 5\n",
      "Data columns (total 4 columns):\n",
      " #   Column  Non-Null Count  Dtype  \n",
      "---  ------  --------------  -----  \n",
      " 0   A       6 non-null      float64\n",
      " 1   B       6 non-null      float64\n",
      " 2   C       6 non-null      float64\n",
      " 3   D       6 non-null      float64\n",
      "dtypes: float64(4)\n",
      "memory usage: 324.0 bytes\n"
     ]
    }
   ],
   "source": [
    "df.info()"
   ]
  },
  {
   "cell_type": "code",
   "execution_count": 15,
   "metadata": {},
   "outputs": [
    {
     "name": "stdout",
     "output_type": "stream",
     "text": [
      "<class 'pandas.core.frame.DataFrame'>\n",
      "Index: 6 entries, a to f\n",
      "Data columns (total 4 columns):\n",
      " #   Column  Non-Null Count  Dtype  \n",
      "---  ------  --------------  -----  \n",
      " 0   A       6 non-null      float64\n",
      " 1   B       6 non-null      float64\n",
      " 2   C       6 non-null      float64\n",
      " 3   D       6 non-null      float64\n",
      "dtypes: float64(4)\n",
      "memory usage: 240.0+ bytes\n"
     ]
    }
   ],
   "source": [
    "df1.info()"
   ]
  },
  {
   "cell_type": "code",
   "execution_count": 16,
   "metadata": {},
   "outputs": [
    {
     "name": "stdout",
     "output_type": "stream",
     "text": [
      "<class 'pandas.core.frame.DataFrame'>\n",
      "Index: 4 entries, 0 to 3\n",
      "Data columns (total 6 columns):\n",
      " #   Column  Non-Null Count  Dtype         \n",
      "---  ------  --------------  -----         \n",
      " 0   A       4 non-null      float64       \n",
      " 1   B       4 non-null      datetime64[ns]\n",
      " 2   C       4 non-null      float32       \n",
      " 3   D       4 non-null      int32         \n",
      " 4   E       4 non-null      category      \n",
      " 5   F       4 non-null      object        \n",
      "dtypes: category(1), datetime64[ns](1), float32(1), float64(1), int32(1), object(1)\n",
      "memory usage: 288.0+ bytes\n"
     ]
    }
   ],
   "source": [
    "df2.info()"
   ]
  },
  {
   "cell_type": "markdown",
   "metadata": {},
   "source": [
    "Poza trywialnymi przypadkami, ramka danych zwykle składa się z dużej liczby obiektów. Metoda `head` wyświetla początkowe obiekty ramki. Stadardowo jest to 5 pierwszych obiektów."
   ]
  },
  {
   "cell_type": "code",
   "execution_count": 17,
   "metadata": {},
   "outputs": [
    {
     "data": {
      "text/html": [
       "<div>\n",
       "<style scoped>\n",
       "    .dataframe tbody tr th:only-of-type {\n",
       "        vertical-align: middle;\n",
       "    }\n",
       "\n",
       "    .dataframe tbody tr th {\n",
       "        vertical-align: top;\n",
       "    }\n",
       "\n",
       "    .dataframe thead th {\n",
       "        text-align: right;\n",
       "    }\n",
       "</style>\n",
       "<table border=\"1\" class=\"dataframe\">\n",
       "  <thead>\n",
       "    <tr style=\"text-align: right;\">\n",
       "      <th></th>\n",
       "      <th>A</th>\n",
       "      <th>B</th>\n",
       "      <th>C</th>\n",
       "      <th>D</th>\n",
       "    </tr>\n",
       "  </thead>\n",
       "  <tbody>\n",
       "    <tr>\n",
       "      <th>0</th>\n",
       "      <td>0.774528</td>\n",
       "      <td>1.507279</td>\n",
       "      <td>-0.049090</td>\n",
       "      <td>-0.276217</td>\n",
       "    </tr>\n",
       "    <tr>\n",
       "      <th>1</th>\n",
       "      <td>0.962015</td>\n",
       "      <td>1.132221</td>\n",
       "      <td>0.627850</td>\n",
       "      <td>0.335212</td>\n",
       "    </tr>\n",
       "    <tr>\n",
       "      <th>2</th>\n",
       "      <td>-0.426638</td>\n",
       "      <td>2.041506</td>\n",
       "      <td>-0.461158</td>\n",
       "      <td>-0.753483</td>\n",
       "    </tr>\n",
       "    <tr>\n",
       "      <th>3</th>\n",
       "      <td>-0.152039</td>\n",
       "      <td>-1.655335</td>\n",
       "      <td>0.942100</td>\n",
       "      <td>0.093274</td>\n",
       "    </tr>\n",
       "    <tr>\n",
       "      <th>4</th>\n",
       "      <td>0.131495</td>\n",
       "      <td>0.021804</td>\n",
       "      <td>-1.030725</td>\n",
       "      <td>-0.796758</td>\n",
       "    </tr>\n",
       "  </tbody>\n",
       "</table>\n",
       "</div>"
      ],
      "text/plain": [
       "          A         B         C         D\n",
       "0  0.774528  1.507279 -0.049090 -0.276217\n",
       "1  0.962015  1.132221  0.627850  0.335212\n",
       "2 -0.426638  2.041506 -0.461158 -0.753483\n",
       "3 -0.152039 -1.655335  0.942100  0.093274\n",
       "4  0.131495  0.021804 -1.030725 -0.796758"
      ]
     },
     "execution_count": 17,
     "metadata": {},
     "output_type": "execute_result"
    }
   ],
   "source": [
    "df.head()"
   ]
  },
  {
   "cell_type": "markdown",
   "metadata": {},
   "source": [
    "Analogicznie metoda `tail` wyświetla ostatnie obiekty macierzy. Argumentem zarówno tej jak i wcześniejszej metody jest liczba wyświetlanych obiektów."
   ]
  },
  {
   "cell_type": "code",
   "execution_count": 18,
   "metadata": {},
   "outputs": [
    {
     "data": {
      "text/html": [
       "<div>\n",
       "<style scoped>\n",
       "    .dataframe tbody tr th:only-of-type {\n",
       "        vertical-align: middle;\n",
       "    }\n",
       "\n",
       "    .dataframe tbody tr th {\n",
       "        vertical-align: top;\n",
       "    }\n",
       "\n",
       "    .dataframe thead th {\n",
       "        text-align: right;\n",
       "    }\n",
       "</style>\n",
       "<table border=\"1\" class=\"dataframe\">\n",
       "  <thead>\n",
       "    <tr style=\"text-align: right;\">\n",
       "      <th></th>\n",
       "      <th>A</th>\n",
       "      <th>B</th>\n",
       "      <th>C</th>\n",
       "      <th>D</th>\n",
       "    </tr>\n",
       "  </thead>\n",
       "  <tbody>\n",
       "    <tr>\n",
       "      <th>a</th>\n",
       "      <td>1.718934</td>\n",
       "      <td>-0.055408</td>\n",
       "      <td>1.111934</td>\n",
       "      <td>-0.259170</td>\n",
       "    </tr>\n",
       "    <tr>\n",
       "      <th>b</th>\n",
       "      <td>0.299487</td>\n",
       "      <td>0.011339</td>\n",
       "      <td>-0.707294</td>\n",
       "      <td>1.159956</td>\n",
       "    </tr>\n",
       "    <tr>\n",
       "      <th>c</th>\n",
       "      <td>-0.187577</td>\n",
       "      <td>-0.370178</td>\n",
       "      <td>0.939311</td>\n",
       "      <td>0.944088</td>\n",
       "    </tr>\n",
       "    <tr>\n",
       "      <th>d</th>\n",
       "      <td>-0.683720</td>\n",
       "      <td>1.024191</td>\n",
       "      <td>0.830907</td>\n",
       "      <td>-0.969686</td>\n",
       "    </tr>\n",
       "    <tr>\n",
       "      <th>e</th>\n",
       "      <td>-2.347539</td>\n",
       "      <td>0.656625</td>\n",
       "      <td>-1.952218</td>\n",
       "      <td>0.633531</td>\n",
       "    </tr>\n",
       "    <tr>\n",
       "      <th>f</th>\n",
       "      <td>-0.492875</td>\n",
       "      <td>-0.278630</td>\n",
       "      <td>-0.813649</td>\n",
       "      <td>-0.133303</td>\n",
       "    </tr>\n",
       "  </tbody>\n",
       "</table>\n",
       "</div>"
      ],
      "text/plain": [
       "          A         B         C         D\n",
       "a  1.718934 -0.055408  1.111934 -0.259170\n",
       "b  0.299487  0.011339 -0.707294  1.159956\n",
       "c -0.187577 -0.370178  0.939311  0.944088\n",
       "d -0.683720  1.024191  0.830907 -0.969686\n",
       "e -2.347539  0.656625 -1.952218  0.633531\n",
       "f -0.492875 -0.278630 -0.813649 -0.133303"
      ]
     },
     "execution_count": 18,
     "metadata": {},
     "output_type": "execute_result"
    }
   ],
   "source": [
    "df1.tail(6)"
   ]
  },
  {
   "cell_type": "markdown",
   "metadata": {},
   "source": [
    "Ramka danych jest opisana nazwami atrybutów i indeksem obiektów. Metoda `index` zwraca indeksy obiektów, zaś metoda `count` liczbę obiektów dla każdego atrybutu lub atrybutów dla każdego obiektu"
   ]
  },
  {
   "cell_type": "code",
   "execution_count": 19,
   "metadata": {},
   "outputs": [
    {
     "name": "stdout",
     "output_type": "stream",
     "text": [
      "indeks RangeIndex(start=0, stop=6, step=1)\n",
      "obiektów:\n",
      " A    6\n",
      "B    6\n",
      "C    6\n",
      "D    6\n",
      "dtype: int64 , atrybutów:\n",
      " 0    4\n",
      "1    4\n",
      "2    4\n",
      "3    4\n",
      "4    4\n",
      "5    4\n",
      "dtype: int64\n"
     ]
    }
   ],
   "source": [
    "print(\"indeks\" ,df.index)\n",
    "ile_obiektow = df.count(0)\n",
    "ile_atrybutow = df.count(1)\n",
    "print(\"obiektów:\\n\", ile_obiektow, \", atrybutów:\\n\", ile_atrybutow)"
   ]
  },
  {
   "cell_type": "markdown",
   "metadata": {},
   "source": [
    "Metoda `describe` wraca podstawowe statystyki opisowe (miary) atrybutów ramki danych: liczbę obiektów, wartość średnią, odchylenie standardowe, minimum, pierwszy kwartyl, medianę, trzeci kwartyl i maksimum. "
   ]
  },
  {
   "cell_type": "code",
   "execution_count": 20,
   "metadata": {},
   "outputs": [
    {
     "data": {
      "text/html": [
       "<div>\n",
       "<style scoped>\n",
       "    .dataframe tbody tr th:only-of-type {\n",
       "        vertical-align: middle;\n",
       "    }\n",
       "\n",
       "    .dataframe tbody tr th {\n",
       "        vertical-align: top;\n",
       "    }\n",
       "\n",
       "    .dataframe thead th {\n",
       "        text-align: right;\n",
       "    }\n",
       "</style>\n",
       "<table border=\"1\" class=\"dataframe\">\n",
       "  <thead>\n",
       "    <tr style=\"text-align: right;\">\n",
       "      <th></th>\n",
       "      <th>A</th>\n",
       "      <th>B</th>\n",
       "      <th>C</th>\n",
       "      <th>D</th>\n",
       "    </tr>\n",
       "  </thead>\n",
       "  <tbody>\n",
       "    <tr>\n",
       "      <th>0</th>\n",
       "      <td>0.774528</td>\n",
       "      <td>1.507279</td>\n",
       "      <td>-0.049090</td>\n",
       "      <td>-0.276217</td>\n",
       "    </tr>\n",
       "    <tr>\n",
       "      <th>1</th>\n",
       "      <td>0.962015</td>\n",
       "      <td>1.132221</td>\n",
       "      <td>0.627850</td>\n",
       "      <td>0.335212</td>\n",
       "    </tr>\n",
       "    <tr>\n",
       "      <th>2</th>\n",
       "      <td>-0.426638</td>\n",
       "      <td>2.041506</td>\n",
       "      <td>-0.461158</td>\n",
       "      <td>-0.753483</td>\n",
       "    </tr>\n",
       "    <tr>\n",
       "      <th>3</th>\n",
       "      <td>-0.152039</td>\n",
       "      <td>-1.655335</td>\n",
       "      <td>0.942100</td>\n",
       "      <td>0.093274</td>\n",
       "    </tr>\n",
       "    <tr>\n",
       "      <th>4</th>\n",
       "      <td>0.131495</td>\n",
       "      <td>0.021804</td>\n",
       "      <td>-1.030725</td>\n",
       "      <td>-0.796758</td>\n",
       "    </tr>\n",
       "    <tr>\n",
       "      <th>5</th>\n",
       "      <td>0.567527</td>\n",
       "      <td>-1.147737</td>\n",
       "      <td>1.133347</td>\n",
       "      <td>-1.244133</td>\n",
       "    </tr>\n",
       "  </tbody>\n",
       "</table>\n",
       "</div>"
      ],
      "text/plain": [
       "          A         B         C         D\n",
       "0  0.774528  1.507279 -0.049090 -0.276217\n",
       "1  0.962015  1.132221  0.627850  0.335212\n",
       "2 -0.426638  2.041506 -0.461158 -0.753483\n",
       "3 -0.152039 -1.655335  0.942100  0.093274\n",
       "4  0.131495  0.021804 -1.030725 -0.796758\n",
       "5  0.567527 -1.147737  1.133347 -1.244133"
      ]
     },
     "execution_count": 20,
     "metadata": {},
     "output_type": "execute_result"
    }
   ],
   "source": [
    "df"
   ]
  },
  {
   "cell_type": "code",
   "execution_count": 21,
   "metadata": {},
   "outputs": [
    {
     "data": {
      "text/html": [
       "<div>\n",
       "<style scoped>\n",
       "    .dataframe tbody tr th:only-of-type {\n",
       "        vertical-align: middle;\n",
       "    }\n",
       "\n",
       "    .dataframe tbody tr th {\n",
       "        vertical-align: top;\n",
       "    }\n",
       "\n",
       "    .dataframe thead th {\n",
       "        text-align: right;\n",
       "    }\n",
       "</style>\n",
       "<table border=\"1\" class=\"dataframe\">\n",
       "  <thead>\n",
       "    <tr style=\"text-align: right;\">\n",
       "      <th></th>\n",
       "      <th>A</th>\n",
       "      <th>B</th>\n",
       "      <th>C</th>\n",
       "      <th>D</th>\n",
       "    </tr>\n",
       "  </thead>\n",
       "  <tbody>\n",
       "    <tr>\n",
       "      <th>count</th>\n",
       "      <td>6.000000</td>\n",
       "      <td>6.000000</td>\n",
       "      <td>6.000000</td>\n",
       "      <td>6.000000</td>\n",
       "    </tr>\n",
       "    <tr>\n",
       "      <th>mean</th>\n",
       "      <td>0.309481</td>\n",
       "      <td>0.316623</td>\n",
       "      <td>0.193721</td>\n",
       "      <td>-0.440351</td>\n",
       "    </tr>\n",
       "    <tr>\n",
       "      <th>std</th>\n",
       "      <td>0.546847</td>\n",
       "      <td>1.495190</td>\n",
       "      <td>0.850709</td>\n",
       "      <td>0.597383</td>\n",
       "    </tr>\n",
       "    <tr>\n",
       "      <th>min</th>\n",
       "      <td>-0.426638</td>\n",
       "      <td>-1.655335</td>\n",
       "      <td>-1.030725</td>\n",
       "      <td>-1.244133</td>\n",
       "    </tr>\n",
       "    <tr>\n",
       "      <th>25%</th>\n",
       "      <td>-0.081155</td>\n",
       "      <td>-0.855352</td>\n",
       "      <td>-0.358141</td>\n",
       "      <td>-0.785939</td>\n",
       "    </tr>\n",
       "    <tr>\n",
       "      <th>50%</th>\n",
       "      <td>0.349511</td>\n",
       "      <td>0.577012</td>\n",
       "      <td>0.289380</td>\n",
       "      <td>-0.514850</td>\n",
       "    </tr>\n",
       "    <tr>\n",
       "      <th>75%</th>\n",
       "      <td>0.722777</td>\n",
       "      <td>1.413514</td>\n",
       "      <td>0.863537</td>\n",
       "      <td>0.000901</td>\n",
       "    </tr>\n",
       "    <tr>\n",
       "      <th>max</th>\n",
       "      <td>0.962015</td>\n",
       "      <td>2.041506</td>\n",
       "      <td>1.133347</td>\n",
       "      <td>0.335212</td>\n",
       "    </tr>\n",
       "  </tbody>\n",
       "</table>\n",
       "</div>"
      ],
      "text/plain": [
       "              A         B         C         D\n",
       "count  6.000000  6.000000  6.000000  6.000000\n",
       "mean   0.309481  0.316623  0.193721 -0.440351\n",
       "std    0.546847  1.495190  0.850709  0.597383\n",
       "min   -0.426638 -1.655335 -1.030725 -1.244133\n",
       "25%   -0.081155 -0.855352 -0.358141 -0.785939\n",
       "50%    0.349511  0.577012  0.289380 -0.514850\n",
       "75%    0.722777  1.413514  0.863537  0.000901\n",
       "max    0.962015  2.041506  1.133347  0.335212"
      ]
     },
     "execution_count": 21,
     "metadata": {},
     "output_type": "execute_result"
    }
   ],
   "source": [
    "df.describe()"
   ]
  },
  {
   "cell_type": "markdown",
   "metadata": {},
   "source": [
    "Rezultat funkcji `decribe` jest także ramką danych. Oznacza to, że pojedyncze statystyki można pobrać odwołując się do odpowiednich elementów ramki danych."
   ]
  },
  {
   "cell_type": "code",
   "execution_count": 22,
   "metadata": {},
   "outputs": [
    {
     "name": "stdout",
     "output_type": "stream",
     "text": [
      "<class 'pandas.core.frame.DataFrame'>\n",
      "<class 'pandas.core.frame.DataFrame'>\n"
     ]
    }
   ],
   "source": [
    "dedf = df.describe()\n",
    "print(type(df))\n",
    "print(type(dedf))"
   ]
  },
  {
   "cell_type": "markdown",
   "metadata": {},
   "source": [
    "Metoda `T` pozwala na wykonanie transpozycji ramki, w efekcie czego atrybuty stają się obiektami, zaś obiekty - artybutami (stosowac uważnie !)."
   ]
  },
  {
   "cell_type": "code",
   "execution_count": 23,
   "metadata": {},
   "outputs": [
    {
     "data": {
      "text/html": [
       "<div>\n",
       "<style scoped>\n",
       "    .dataframe tbody tr th:only-of-type {\n",
       "        vertical-align: middle;\n",
       "    }\n",
       "\n",
       "    .dataframe tbody tr th {\n",
       "        vertical-align: top;\n",
       "    }\n",
       "\n",
       "    .dataframe thead th {\n",
       "        text-align: right;\n",
       "    }\n",
       "</style>\n",
       "<table border=\"1\" class=\"dataframe\">\n",
       "  <thead>\n",
       "    <tr style=\"text-align: right;\">\n",
       "      <th></th>\n",
       "      <th>a</th>\n",
       "      <th>b</th>\n",
       "      <th>c</th>\n",
       "      <th>d</th>\n",
       "      <th>e</th>\n",
       "      <th>f</th>\n",
       "    </tr>\n",
       "  </thead>\n",
       "  <tbody>\n",
       "    <tr>\n",
       "      <th>A</th>\n",
       "      <td>1.718934</td>\n",
       "      <td>0.299487</td>\n",
       "      <td>-0.187577</td>\n",
       "      <td>-0.683720</td>\n",
       "      <td>-2.347539</td>\n",
       "      <td>-0.492875</td>\n",
       "    </tr>\n",
       "    <tr>\n",
       "      <th>B</th>\n",
       "      <td>-0.055408</td>\n",
       "      <td>0.011339</td>\n",
       "      <td>-0.370178</td>\n",
       "      <td>1.024191</td>\n",
       "      <td>0.656625</td>\n",
       "      <td>-0.278630</td>\n",
       "    </tr>\n",
       "    <tr>\n",
       "      <th>C</th>\n",
       "      <td>1.111934</td>\n",
       "      <td>-0.707294</td>\n",
       "      <td>0.939311</td>\n",
       "      <td>0.830907</td>\n",
       "      <td>-1.952218</td>\n",
       "      <td>-0.813649</td>\n",
       "    </tr>\n",
       "    <tr>\n",
       "      <th>D</th>\n",
       "      <td>-0.259170</td>\n",
       "      <td>1.159956</td>\n",
       "      <td>0.944088</td>\n",
       "      <td>-0.969686</td>\n",
       "      <td>0.633531</td>\n",
       "      <td>-0.133303</td>\n",
       "    </tr>\n",
       "  </tbody>\n",
       "</table>\n",
       "</div>"
      ],
      "text/plain": [
       "          a         b         c         d         e         f\n",
       "A  1.718934  0.299487 -0.187577 -0.683720 -2.347539 -0.492875\n",
       "B -0.055408  0.011339 -0.370178  1.024191  0.656625 -0.278630\n",
       "C  1.111934 -0.707294  0.939311  0.830907 -1.952218 -0.813649\n",
       "D -0.259170  1.159956  0.944088 -0.969686  0.633531 -0.133303"
      ]
     },
     "execution_count": 23,
     "metadata": {},
     "output_type": "execute_result"
    }
   ],
   "source": [
    "df1.T"
   ]
  },
  {
   "cell_type": "markdown",
   "metadata": {},
   "source": [
    "Metoda `sort_values` umożliwia sortowanie obiektów."
   ]
  },
  {
   "cell_type": "code",
   "execution_count": 24,
   "metadata": {},
   "outputs": [
    {
     "name": "stdout",
     "output_type": "stream",
     "text": [
      "          A         B         C         D\n",
      "0  0.774528  1.507279 -0.049090 -0.276217\n",
      "1  0.962015  1.132221  0.627850  0.335212\n",
      "2 -0.426638  2.041506 -0.461158 -0.753483\n",
      "3 -0.152039 -1.655335  0.942100  0.093274\n",
      "4  0.131495  0.021804 -1.030725 -0.796758\n",
      "5  0.567527 -1.147737  1.133347 -1.244133\n"
     ]
    },
    {
     "data": {
      "text/html": [
       "<div>\n",
       "<style scoped>\n",
       "    .dataframe tbody tr th:only-of-type {\n",
       "        vertical-align: middle;\n",
       "    }\n",
       "\n",
       "    .dataframe tbody tr th {\n",
       "        vertical-align: top;\n",
       "    }\n",
       "\n",
       "    .dataframe thead th {\n",
       "        text-align: right;\n",
       "    }\n",
       "</style>\n",
       "<table border=\"1\" class=\"dataframe\">\n",
       "  <thead>\n",
       "    <tr style=\"text-align: right;\">\n",
       "      <th></th>\n",
       "      <th>A</th>\n",
       "      <th>B</th>\n",
       "      <th>C</th>\n",
       "      <th>D</th>\n",
       "    </tr>\n",
       "  </thead>\n",
       "  <tbody>\n",
       "    <tr>\n",
       "      <th>3</th>\n",
       "      <td>-0.152039</td>\n",
       "      <td>-1.655335</td>\n",
       "      <td>0.942100</td>\n",
       "      <td>0.093274</td>\n",
       "    </tr>\n",
       "    <tr>\n",
       "      <th>5</th>\n",
       "      <td>0.567527</td>\n",
       "      <td>-1.147737</td>\n",
       "      <td>1.133347</td>\n",
       "      <td>-1.244133</td>\n",
       "    </tr>\n",
       "    <tr>\n",
       "      <th>4</th>\n",
       "      <td>0.131495</td>\n",
       "      <td>0.021804</td>\n",
       "      <td>-1.030725</td>\n",
       "      <td>-0.796758</td>\n",
       "    </tr>\n",
       "    <tr>\n",
       "      <th>1</th>\n",
       "      <td>0.962015</td>\n",
       "      <td>1.132221</td>\n",
       "      <td>0.627850</td>\n",
       "      <td>0.335212</td>\n",
       "    </tr>\n",
       "    <tr>\n",
       "      <th>0</th>\n",
       "      <td>0.774528</td>\n",
       "      <td>1.507279</td>\n",
       "      <td>-0.049090</td>\n",
       "      <td>-0.276217</td>\n",
       "    </tr>\n",
       "    <tr>\n",
       "      <th>2</th>\n",
       "      <td>-0.426638</td>\n",
       "      <td>2.041506</td>\n",
       "      <td>-0.461158</td>\n",
       "      <td>-0.753483</td>\n",
       "    </tr>\n",
       "  </tbody>\n",
       "</table>\n",
       "</div>"
      ],
      "text/plain": [
       "          A         B         C         D\n",
       "3 -0.152039 -1.655335  0.942100  0.093274\n",
       "5  0.567527 -1.147737  1.133347 -1.244133\n",
       "4  0.131495  0.021804 -1.030725 -0.796758\n",
       "1  0.962015  1.132221  0.627850  0.335212\n",
       "0  0.774528  1.507279 -0.049090 -0.276217\n",
       "2 -0.426638  2.041506 -0.461158 -0.753483"
      ]
     },
     "execution_count": 24,
     "metadata": {},
     "output_type": "execute_result"
    }
   ],
   "source": [
    "print(df)\n",
    "df.sort_values(by='B')"
   ]
  },
  {
   "cell_type": "markdown",
   "metadata": {},
   "source": [
    "## 1.3 Dostęp do danych"
   ]
  },
  {
   "cell_type": "markdown",
   "metadata": {},
   "source": [
    "Istnieje kilka sposobów uzyskiwania dostępu do poszczególnych danych lub fragmentów ramki. Dostęp do poszczególnych atrybutów można uzyskać poprzez podanie ich nazwy, zaś do poszczególnych obiektów - przez podanie zakresu."
   ]
  },
  {
   "cell_type": "code",
   "execution_count": 25,
   "metadata": {},
   "outputs": [
    {
     "data": {
      "text/plain": [
       "0    0.774528\n",
       "1    0.962015\n",
       "2   -0.426638\n",
       "3   -0.152039\n",
       "4    0.131495\n",
       "5    0.567527\n",
       "Name: A, dtype: float64"
      ]
     },
     "execution_count": 25,
     "metadata": {},
     "output_type": "execute_result"
    }
   ],
   "source": [
    "df['A']"
   ]
  },
  {
   "cell_type": "code",
   "execution_count": 26,
   "metadata": {},
   "outputs": [
    {
     "data": {
      "text/html": [
       "<div>\n",
       "<style scoped>\n",
       "    .dataframe tbody tr th:only-of-type {\n",
       "        vertical-align: middle;\n",
       "    }\n",
       "\n",
       "    .dataframe tbody tr th {\n",
       "        vertical-align: top;\n",
       "    }\n",
       "\n",
       "    .dataframe thead th {\n",
       "        text-align: right;\n",
       "    }\n",
       "</style>\n",
       "<table border=\"1\" class=\"dataframe\">\n",
       "  <thead>\n",
       "    <tr style=\"text-align: right;\">\n",
       "      <th></th>\n",
       "      <th>A</th>\n",
       "      <th>B</th>\n",
       "      <th>C</th>\n",
       "      <th>D</th>\n",
       "    </tr>\n",
       "  </thead>\n",
       "  <tbody>\n",
       "    <tr>\n",
       "      <th>0</th>\n",
       "      <td>0.774528</td>\n",
       "      <td>1.507279</td>\n",
       "      <td>-0.049090</td>\n",
       "      <td>-0.276217</td>\n",
       "    </tr>\n",
       "    <tr>\n",
       "      <th>1</th>\n",
       "      <td>0.962015</td>\n",
       "      <td>1.132221</td>\n",
       "      <td>0.627850</td>\n",
       "      <td>0.335212</td>\n",
       "    </tr>\n",
       "    <tr>\n",
       "      <th>2</th>\n",
       "      <td>-0.426638</td>\n",
       "      <td>2.041506</td>\n",
       "      <td>-0.461158</td>\n",
       "      <td>-0.753483</td>\n",
       "    </tr>\n",
       "  </tbody>\n",
       "</table>\n",
       "</div>"
      ],
      "text/plain": [
       "          A         B         C         D\n",
       "0  0.774528  1.507279 -0.049090 -0.276217\n",
       "1  0.962015  1.132221  0.627850  0.335212\n",
       "2 -0.426638  2.041506 -0.461158 -0.753483"
      ]
     },
     "execution_count": 26,
     "metadata": {},
     "output_type": "execute_result"
    }
   ],
   "source": [
    "df[0:3]"
   ]
  },
  {
   "cell_type": "markdown",
   "metadata": {},
   "source": [
    "Bardziej precyzyjna selekcja fragmentu ramki danych, zawężająca zakres zarówno wierszy jak i kolumn wymaga użycia specjalnych metod `loc` oraz `iloc`. Metoda `loc` umożliwia odwołanie się poprzez etykiety, zaś `iloc` poprzez pozycję (numer wiersza/kolumny)."
   ]
  },
  {
   "cell_type": "code",
   "execution_count": 27,
   "metadata": {},
   "outputs": [
    {
     "data": {
      "text/html": [
       "<div>\n",
       "<style scoped>\n",
       "    .dataframe tbody tr th:only-of-type {\n",
       "        vertical-align: middle;\n",
       "    }\n",
       "\n",
       "    .dataframe tbody tr th {\n",
       "        vertical-align: top;\n",
       "    }\n",
       "\n",
       "    .dataframe thead th {\n",
       "        text-align: right;\n",
       "    }\n",
       "</style>\n",
       "<table border=\"1\" class=\"dataframe\">\n",
       "  <thead>\n",
       "    <tr style=\"text-align: right;\">\n",
       "      <th></th>\n",
       "      <th>A</th>\n",
       "      <th>B</th>\n",
       "    </tr>\n",
       "  </thead>\n",
       "  <tbody>\n",
       "    <tr>\n",
       "      <th>0</th>\n",
       "      <td>0.774528</td>\n",
       "      <td>1.507279</td>\n",
       "    </tr>\n",
       "    <tr>\n",
       "      <th>1</th>\n",
       "      <td>0.962015</td>\n",
       "      <td>1.132221</td>\n",
       "    </tr>\n",
       "    <tr>\n",
       "      <th>2</th>\n",
       "      <td>-0.426638</td>\n",
       "      <td>2.041506</td>\n",
       "    </tr>\n",
       "    <tr>\n",
       "      <th>3</th>\n",
       "      <td>-0.152039</td>\n",
       "      <td>-1.655335</td>\n",
       "    </tr>\n",
       "    <tr>\n",
       "      <th>4</th>\n",
       "      <td>0.131495</td>\n",
       "      <td>0.021804</td>\n",
       "    </tr>\n",
       "    <tr>\n",
       "      <th>5</th>\n",
       "      <td>0.567527</td>\n",
       "      <td>-1.147737</td>\n",
       "    </tr>\n",
       "  </tbody>\n",
       "</table>\n",
       "</div>"
      ],
      "text/plain": [
       "          A         B\n",
       "0  0.774528  1.507279\n",
       "1  0.962015  1.132221\n",
       "2 -0.426638  2.041506\n",
       "3 -0.152039 -1.655335\n",
       "4  0.131495  0.021804\n",
       "5  0.567527 -1.147737"
      ]
     },
     "execution_count": 27,
     "metadata": {},
     "output_type": "execute_result"
    }
   ],
   "source": [
    "df.loc[:, ['A', 'B']]"
   ]
  },
  {
   "cell_type": "code",
   "execution_count": 28,
   "metadata": {},
   "outputs": [
    {
     "data": {
      "text/html": [
       "<div>\n",
       "<style scoped>\n",
       "    .dataframe tbody tr th:only-of-type {\n",
       "        vertical-align: middle;\n",
       "    }\n",
       "\n",
       "    .dataframe tbody tr th {\n",
       "        vertical-align: top;\n",
       "    }\n",
       "\n",
       "    .dataframe thead th {\n",
       "        text-align: right;\n",
       "    }\n",
       "</style>\n",
       "<table border=\"1\" class=\"dataframe\">\n",
       "  <thead>\n",
       "    <tr style=\"text-align: right;\">\n",
       "      <th></th>\n",
       "      <th>A</th>\n",
       "      <th>B</th>\n",
       "      <th>C</th>\n",
       "      <th>D</th>\n",
       "    </tr>\n",
       "  </thead>\n",
       "  <tbody>\n",
       "    <tr>\n",
       "      <th>0</th>\n",
       "      <td>0.774528</td>\n",
       "      <td>1.507279</td>\n",
       "      <td>-0.049090</td>\n",
       "      <td>-0.276217</td>\n",
       "    </tr>\n",
       "    <tr>\n",
       "      <th>1</th>\n",
       "      <td>0.962015</td>\n",
       "      <td>1.132221</td>\n",
       "      <td>0.627850</td>\n",
       "      <td>0.335212</td>\n",
       "    </tr>\n",
       "    <tr>\n",
       "      <th>2</th>\n",
       "      <td>-0.426638</td>\n",
       "      <td>2.041506</td>\n",
       "      <td>-0.461158</td>\n",
       "      <td>-0.753483</td>\n",
       "    </tr>\n",
       "  </tbody>\n",
       "</table>\n",
       "</div>"
      ],
      "text/plain": [
       "          A         B         C         D\n",
       "0  0.774528  1.507279 -0.049090 -0.276217\n",
       "1  0.962015  1.132221  0.627850  0.335212\n",
       "2 -0.426638  2.041506 -0.461158 -0.753483"
      ]
     },
     "execution_count": 28,
     "metadata": {},
     "output_type": "execute_result"
    }
   ],
   "source": [
    "df.loc[0:2]"
   ]
  },
  {
   "cell_type": "code",
   "execution_count": 29,
   "metadata": {},
   "outputs": [
    {
     "data": {
      "text/plain": [
       "A   -0.426638\n",
       "B    2.041506\n",
       "Name: 2, dtype: float64"
      ]
     },
     "execution_count": 29,
     "metadata": {},
     "output_type": "execute_result"
    }
   ],
   "source": [
    "df.loc[2, ['A', 'B']]"
   ]
  },
  {
   "cell_type": "markdown",
   "metadata": {},
   "source": [
    "Jeżeli ramka danych ma przypisane etykiety zarówno do wierszy jak i do kolumn (tak jak w przypadku `df1` powyższy sposób indeksowania wygeneruje błąd)."
   ]
  },
  {
   "cell_type": "code",
   "execution_count": 30,
   "metadata": {},
   "outputs": [
    {
     "data": {
      "text/html": [
       "<div>\n",
       "<style scoped>\n",
       "    .dataframe tbody tr th:only-of-type {\n",
       "        vertical-align: middle;\n",
       "    }\n",
       "\n",
       "    .dataframe tbody tr th {\n",
       "        vertical-align: top;\n",
       "    }\n",
       "\n",
       "    .dataframe thead th {\n",
       "        text-align: right;\n",
       "    }\n",
       "</style>\n",
       "<table border=\"1\" class=\"dataframe\">\n",
       "  <thead>\n",
       "    <tr style=\"text-align: right;\">\n",
       "      <th></th>\n",
       "      <th>A</th>\n",
       "      <th>B</th>\n",
       "      <th>C</th>\n",
       "      <th>D</th>\n",
       "    </tr>\n",
       "  </thead>\n",
       "  <tbody>\n",
       "    <tr>\n",
       "      <th>a</th>\n",
       "      <td>1.718934</td>\n",
       "      <td>-0.055408</td>\n",
       "      <td>1.111934</td>\n",
       "      <td>-0.259170</td>\n",
       "    </tr>\n",
       "    <tr>\n",
       "      <th>b</th>\n",
       "      <td>0.299487</td>\n",
       "      <td>0.011339</td>\n",
       "      <td>-0.707294</td>\n",
       "      <td>1.159956</td>\n",
       "    </tr>\n",
       "    <tr>\n",
       "      <th>c</th>\n",
       "      <td>-0.187577</td>\n",
       "      <td>-0.370178</td>\n",
       "      <td>0.939311</td>\n",
       "      <td>0.944088</td>\n",
       "    </tr>\n",
       "    <tr>\n",
       "      <th>d</th>\n",
       "      <td>-0.683720</td>\n",
       "      <td>1.024191</td>\n",
       "      <td>0.830907</td>\n",
       "      <td>-0.969686</td>\n",
       "    </tr>\n",
       "    <tr>\n",
       "      <th>e</th>\n",
       "      <td>-2.347539</td>\n",
       "      <td>0.656625</td>\n",
       "      <td>-1.952218</td>\n",
       "      <td>0.633531</td>\n",
       "    </tr>\n",
       "    <tr>\n",
       "      <th>f</th>\n",
       "      <td>-0.492875</td>\n",
       "      <td>-0.278630</td>\n",
       "      <td>-0.813649</td>\n",
       "      <td>-0.133303</td>\n",
       "    </tr>\n",
       "  </tbody>\n",
       "</table>\n",
       "</div>"
      ],
      "text/plain": [
       "          A         B         C         D\n",
       "a  1.718934 -0.055408  1.111934 -0.259170\n",
       "b  0.299487  0.011339 -0.707294  1.159956\n",
       "c -0.187577 -0.370178  0.939311  0.944088\n",
       "d -0.683720  1.024191  0.830907 -0.969686\n",
       "e -2.347539  0.656625 -1.952218  0.633531\n",
       "f -0.492875 -0.278630 -0.813649 -0.133303"
      ]
     },
     "execution_count": 30,
     "metadata": {},
     "output_type": "execute_result"
    }
   ],
   "source": [
    "df1"
   ]
  },
  {
   "cell_type": "code",
   "execution_count": 31,
   "metadata": {},
   "outputs": [
    {
     "data": {
      "text/html": [
       "<div>\n",
       "<style scoped>\n",
       "    .dataframe tbody tr th:only-of-type {\n",
       "        vertical-align: middle;\n",
       "    }\n",
       "\n",
       "    .dataframe tbody tr th {\n",
       "        vertical-align: top;\n",
       "    }\n",
       "\n",
       "    .dataframe thead th {\n",
       "        text-align: right;\n",
       "    }\n",
       "</style>\n",
       "<table border=\"1\" class=\"dataframe\">\n",
       "  <thead>\n",
       "    <tr style=\"text-align: right;\">\n",
       "      <th></th>\n",
       "      <th>A</th>\n",
       "      <th>B</th>\n",
       "    </tr>\n",
       "  </thead>\n",
       "  <tbody>\n",
       "    <tr>\n",
       "      <th>a</th>\n",
       "      <td>1.718934</td>\n",
       "      <td>-0.055408</td>\n",
       "    </tr>\n",
       "    <tr>\n",
       "      <th>f</th>\n",
       "      <td>-0.492875</td>\n",
       "      <td>-0.278630</td>\n",
       "    </tr>\n",
       "  </tbody>\n",
       "</table>\n",
       "</div>"
      ],
      "text/plain": [
       "          A         B\n",
       "a  1.718934 -0.055408\n",
       "f -0.492875 -0.278630"
      ]
     },
     "execution_count": 31,
     "metadata": {},
     "output_type": "execute_result"
    }
   ],
   "source": [
    "df1.loc[['a','f'], ['A', 'B']]"
   ]
  },
  {
   "cell_type": "markdown",
   "metadata": {},
   "source": [
    "W takim przypadku zarówno wiersze jak i kolumny powinny być w odwołaniu indeksowane przez etykiety."
   ]
  },
  {
   "cell_type": "code",
   "execution_count": 32,
   "metadata": {},
   "outputs": [
    {
     "name": "stdout",
     "output_type": "stream",
     "text": [
      "          A         B         C         D\n",
      "a  1.718934 -0.055408  1.111934 -0.259170\n",
      "b  0.299487  0.011339 -0.707294  1.159956\n",
      "c -0.187577 -0.370178  0.939311  0.944088\n",
      "d -0.683720  1.024191  0.830907 -0.969686\n",
      "e -2.347539  0.656625 -1.952218  0.633531\n",
      "f -0.492875 -0.278630 -0.813649 -0.133303\n"
     ]
    },
    {
     "data": {
      "text/html": [
       "<div>\n",
       "<style scoped>\n",
       "    .dataframe tbody tr th:only-of-type {\n",
       "        vertical-align: middle;\n",
       "    }\n",
       "\n",
       "    .dataframe tbody tr th {\n",
       "        vertical-align: top;\n",
       "    }\n",
       "\n",
       "    .dataframe thead th {\n",
       "        text-align: right;\n",
       "    }\n",
       "</style>\n",
       "<table border=\"1\" class=\"dataframe\">\n",
       "  <thead>\n",
       "    <tr style=\"text-align: right;\">\n",
       "      <th></th>\n",
       "      <th>A</th>\n",
       "      <th>B</th>\n",
       "    </tr>\n",
       "  </thead>\n",
       "  <tbody>\n",
       "    <tr>\n",
       "      <th>a</th>\n",
       "      <td>1.718934</td>\n",
       "      <td>-0.055408</td>\n",
       "    </tr>\n",
       "    <tr>\n",
       "      <th>c</th>\n",
       "      <td>-0.187577</td>\n",
       "      <td>-0.370178</td>\n",
       "    </tr>\n",
       "    <tr>\n",
       "      <th>e</th>\n",
       "      <td>-2.347539</td>\n",
       "      <td>0.656625</td>\n",
       "    </tr>\n",
       "  </tbody>\n",
       "</table>\n",
       "</div>"
      ],
      "text/plain": [
       "          A         B\n",
       "a  1.718934 -0.055408\n",
       "c -0.187577 -0.370178\n",
       "e -2.347539  0.656625"
      ]
     },
     "execution_count": 32,
     "metadata": {},
     "output_type": "execute_result"
    }
   ],
   "source": [
    "print(df1)\n",
    "df1.loc[['a','c','e'], ['A', 'B']]"
   ]
  },
  {
   "cell_type": "markdown",
   "metadata": {},
   "source": [
    "Indeksowanie poprzez numer wiersz/kolumny jest możliwy przy wykorzystaniu metody `iloc`."
   ]
  },
  {
   "cell_type": "code",
   "execution_count": 33,
   "metadata": {},
   "outputs": [
    {
     "data": {
      "text/html": [
       "<div>\n",
       "<style scoped>\n",
       "    .dataframe tbody tr th:only-of-type {\n",
       "        vertical-align: middle;\n",
       "    }\n",
       "\n",
       "    .dataframe tbody tr th {\n",
       "        vertical-align: top;\n",
       "    }\n",
       "\n",
       "    .dataframe thead th {\n",
       "        text-align: right;\n",
       "    }\n",
       "</style>\n",
       "<table border=\"1\" class=\"dataframe\">\n",
       "  <thead>\n",
       "    <tr style=\"text-align: right;\">\n",
       "      <th></th>\n",
       "      <th>A</th>\n",
       "      <th>B</th>\n",
       "    </tr>\n",
       "  </thead>\n",
       "  <tbody>\n",
       "    <tr>\n",
       "      <th>3</th>\n",
       "      <td>-0.152039</td>\n",
       "      <td>-1.655335</td>\n",
       "    </tr>\n",
       "    <tr>\n",
       "      <th>4</th>\n",
       "      <td>0.131495</td>\n",
       "      <td>0.021804</td>\n",
       "    </tr>\n",
       "  </tbody>\n",
       "</table>\n",
       "</div>"
      ],
      "text/plain": [
       "          A         B\n",
       "3 -0.152039 -1.655335\n",
       "4  0.131495  0.021804"
      ]
     },
     "execution_count": 33,
     "metadata": {},
     "output_type": "execute_result"
    }
   ],
   "source": [
    "df.iloc[3:5, 0:2]"
   ]
  },
  {
   "cell_type": "code",
   "execution_count": 34,
   "metadata": {},
   "outputs": [
    {
     "data": {
      "text/html": [
       "<div>\n",
       "<style scoped>\n",
       "    .dataframe tbody tr th:only-of-type {\n",
       "        vertical-align: middle;\n",
       "    }\n",
       "\n",
       "    .dataframe tbody tr th {\n",
       "        vertical-align: top;\n",
       "    }\n",
       "\n",
       "    .dataframe thead th {\n",
       "        text-align: right;\n",
       "    }\n",
       "</style>\n",
       "<table border=\"1\" class=\"dataframe\">\n",
       "  <thead>\n",
       "    <tr style=\"text-align: right;\">\n",
       "      <th></th>\n",
       "      <th>A</th>\n",
       "      <th>C</th>\n",
       "    </tr>\n",
       "  </thead>\n",
       "  <tbody>\n",
       "    <tr>\n",
       "      <th>b</th>\n",
       "      <td>0.299487</td>\n",
       "      <td>-0.707294</td>\n",
       "    </tr>\n",
       "    <tr>\n",
       "      <th>c</th>\n",
       "      <td>-0.187577</td>\n",
       "      <td>0.939311</td>\n",
       "    </tr>\n",
       "    <tr>\n",
       "      <th>e</th>\n",
       "      <td>-2.347539</td>\n",
       "      <td>-1.952218</td>\n",
       "    </tr>\n",
       "  </tbody>\n",
       "</table>\n",
       "</div>"
      ],
      "text/plain": [
       "          A         C\n",
       "b  0.299487 -0.707294\n",
       "c -0.187577  0.939311\n",
       "e -2.347539 -1.952218"
      ]
     },
     "execution_count": 34,
     "metadata": {},
     "output_type": "execute_result"
    }
   ],
   "source": [
    "df1.iloc[[1, 2, 4], [0, 2]]"
   ]
  },
  {
   "cell_type": "code",
   "execution_count": 35,
   "metadata": {},
   "outputs": [
    {
     "data": {
      "text/html": [
       "<div>\n",
       "<style scoped>\n",
       "    .dataframe tbody tr th:only-of-type {\n",
       "        vertical-align: middle;\n",
       "    }\n",
       "\n",
       "    .dataframe tbody tr th {\n",
       "        vertical-align: top;\n",
       "    }\n",
       "\n",
       "    .dataframe thead th {\n",
       "        text-align: right;\n",
       "    }\n",
       "</style>\n",
       "<table border=\"1\" class=\"dataframe\">\n",
       "  <thead>\n",
       "    <tr style=\"text-align: right;\">\n",
       "      <th></th>\n",
       "      <th>A</th>\n",
       "      <th>B</th>\n",
       "      <th>C</th>\n",
       "      <th>D</th>\n",
       "    </tr>\n",
       "  </thead>\n",
       "  <tbody>\n",
       "    <tr>\n",
       "      <th>1</th>\n",
       "      <td>0.962015</td>\n",
       "      <td>1.132221</td>\n",
       "      <td>0.627850</td>\n",
       "      <td>0.335212</td>\n",
       "    </tr>\n",
       "    <tr>\n",
       "      <th>2</th>\n",
       "      <td>-0.426638</td>\n",
       "      <td>2.041506</td>\n",
       "      <td>-0.461158</td>\n",
       "      <td>-0.753483</td>\n",
       "    </tr>\n",
       "  </tbody>\n",
       "</table>\n",
       "</div>"
      ],
      "text/plain": [
       "          A         B         C         D\n",
       "1  0.962015  1.132221  0.627850  0.335212\n",
       "2 -0.426638  2.041506 -0.461158 -0.753483"
      ]
     },
     "execution_count": 35,
     "metadata": {},
     "output_type": "execute_result"
    }
   ],
   "source": [
    "df.iloc[1:3, :]"
   ]
  },
  {
   "cell_type": "code",
   "execution_count": 36,
   "metadata": {},
   "outputs": [
    {
     "data": {
      "text/html": [
       "<div>\n",
       "<style scoped>\n",
       "    .dataframe tbody tr th:only-of-type {\n",
       "        vertical-align: middle;\n",
       "    }\n",
       "\n",
       "    .dataframe tbody tr th {\n",
       "        vertical-align: top;\n",
       "    }\n",
       "\n",
       "    .dataframe thead th {\n",
       "        text-align: right;\n",
       "    }\n",
       "</style>\n",
       "<table border=\"1\" class=\"dataframe\">\n",
       "  <thead>\n",
       "    <tr style=\"text-align: right;\">\n",
       "      <th></th>\n",
       "      <th>B</th>\n",
       "      <th>C</th>\n",
       "    </tr>\n",
       "  </thead>\n",
       "  <tbody>\n",
       "    <tr>\n",
       "      <th>0</th>\n",
       "      <td>1.507279</td>\n",
       "      <td>-0.049090</td>\n",
       "    </tr>\n",
       "    <tr>\n",
       "      <th>1</th>\n",
       "      <td>1.132221</td>\n",
       "      <td>0.627850</td>\n",
       "    </tr>\n",
       "    <tr>\n",
       "      <th>2</th>\n",
       "      <td>2.041506</td>\n",
       "      <td>-0.461158</td>\n",
       "    </tr>\n",
       "    <tr>\n",
       "      <th>3</th>\n",
       "      <td>-1.655335</td>\n",
       "      <td>0.942100</td>\n",
       "    </tr>\n",
       "    <tr>\n",
       "      <th>4</th>\n",
       "      <td>0.021804</td>\n",
       "      <td>-1.030725</td>\n",
       "    </tr>\n",
       "    <tr>\n",
       "      <th>5</th>\n",
       "      <td>-1.147737</td>\n",
       "      <td>1.133347</td>\n",
       "    </tr>\n",
       "  </tbody>\n",
       "</table>\n",
       "</div>"
      ],
      "text/plain": [
       "          B         C\n",
       "0  1.507279 -0.049090\n",
       "1  1.132221  0.627850\n",
       "2  2.041506 -0.461158\n",
       "3 -1.655335  0.942100\n",
       "4  0.021804 -1.030725\n",
       "5 -1.147737  1.133347"
      ]
     },
     "execution_count": 36,
     "metadata": {},
     "output_type": "execute_result"
    }
   ],
   "source": [
    "df.iloc[:, 1:3]"
   ]
  },
  {
   "cell_type": "markdown",
   "metadata": {},
   "source": [
    "Metody `loc` oraz `iloc` tworzą nową ramkę danych."
   ]
  },
  {
   "cell_type": "code",
   "execution_count": 37,
   "metadata": {},
   "outputs": [
    {
     "name": "stdout",
     "output_type": "stream",
     "text": [
      "          B         C         D\n",
      "0  1.507279 -0.049090 -0.276217\n",
      "1  1.132221  0.627850  0.335212\n",
      "2  2.041506 -0.461158 -0.753483 \n",
      "\n",
      "<class 'pandas.core.frame.DataFrame'>\n",
      "RangeIndex: 6 entries, 0 to 5\n",
      "Data columns (total 4 columns):\n",
      " #   Column  Non-Null Count  Dtype  \n",
      "---  ------  --------------  -----  \n",
      " 0   A       6 non-null      float64\n",
      " 1   B       6 non-null      float64\n",
      " 2   C       6 non-null      float64\n",
      " 3   D       6 non-null      float64\n",
      "dtypes: float64(4)\n",
      "memory usage: 324.0 bytes\n",
      "None \n",
      "\n",
      "<class 'pandas.core.frame.DataFrame'>\n",
      "RangeIndex: 3 entries, 0 to 2\n",
      "Data columns (total 3 columns):\n",
      " #   Column  Non-Null Count  Dtype  \n",
      "---  ------  --------------  -----  \n",
      " 0   B       3 non-null      float64\n",
      " 1   C       3 non-null      float64\n",
      " 2   D       3 non-null      float64\n",
      "dtypes: float64(3)\n",
      "memory usage: 204.0 bytes\n",
      "None\n"
     ]
    }
   ],
   "source": [
    "dff = df.iloc[0:3,1:4]\n",
    "print(dff,\"\\n\")\n",
    "print(df.info(),\"\\n\")\n",
    "print(dff.info())"
   ]
  },
  {
   "cell_type": "markdown",
   "metadata": {},
   "source": [
    "Odwołania do elementu poprzez `loc` oraz `iloc` umożliwia także zmianę  wartości elementów ramki."
   ]
  },
  {
   "cell_type": "code",
   "execution_count": 38,
   "metadata": {},
   "outputs": [
    {
     "name": "stdout",
     "output_type": "stream",
     "text": [
      "          A         B         C         D\n",
      "0  0.774528  1.507279 -0.049090 -0.276217\n",
      "1  0.962015  1.132221  0.627850  0.335212\n",
      "2 -0.426638  2.041506 -0.461158 -0.753483\n",
      "3 -0.152039 -1.655335  0.942100  0.093274\n",
      "4  0.131495  0.021804 -1.030725 -0.796758\n",
      "5  0.567527 -1.147737  1.133347 -1.244133 \n",
      "\n"
     ]
    },
    {
     "data": {
      "text/html": [
       "<div>\n",
       "<style scoped>\n",
       "    .dataframe tbody tr th:only-of-type {\n",
       "        vertical-align: middle;\n",
       "    }\n",
       "\n",
       "    .dataframe tbody tr th {\n",
       "        vertical-align: top;\n",
       "    }\n",
       "\n",
       "    .dataframe thead th {\n",
       "        text-align: right;\n",
       "    }\n",
       "</style>\n",
       "<table border=\"1\" class=\"dataframe\">\n",
       "  <thead>\n",
       "    <tr style=\"text-align: right;\">\n",
       "      <th></th>\n",
       "      <th>A</th>\n",
       "      <th>B</th>\n",
       "      <th>C</th>\n",
       "      <th>D</th>\n",
       "    </tr>\n",
       "  </thead>\n",
       "  <tbody>\n",
       "    <tr>\n",
       "      <th>0</th>\n",
       "      <td>0.774528</td>\n",
       "      <td>1.507279</td>\n",
       "      <td>-0.049090</td>\n",
       "      <td>-0.276217</td>\n",
       "    </tr>\n",
       "    <tr>\n",
       "      <th>1</th>\n",
       "      <td>0.962015</td>\n",
       "      <td>99.000000</td>\n",
       "      <td>0.627850</td>\n",
       "      <td>0.335212</td>\n",
       "    </tr>\n",
       "    <tr>\n",
       "      <th>2</th>\n",
       "      <td>-0.426638</td>\n",
       "      <td>2.041506</td>\n",
       "      <td>-0.461158</td>\n",
       "      <td>-0.753483</td>\n",
       "    </tr>\n",
       "    <tr>\n",
       "      <th>3</th>\n",
       "      <td>-0.152039</td>\n",
       "      <td>-1.655335</td>\n",
       "      <td>0.942100</td>\n",
       "      <td>0.093274</td>\n",
       "    </tr>\n",
       "    <tr>\n",
       "      <th>4</th>\n",
       "      <td>0.131495</td>\n",
       "      <td>0.021804</td>\n",
       "      <td>-1.030725</td>\n",
       "      <td>-0.796758</td>\n",
       "    </tr>\n",
       "    <tr>\n",
       "      <th>5</th>\n",
       "      <td>0.567527</td>\n",
       "      <td>-1.147737</td>\n",
       "      <td>-99.000000</td>\n",
       "      <td>-1.244133</td>\n",
       "    </tr>\n",
       "  </tbody>\n",
       "</table>\n",
       "</div>"
      ],
      "text/plain": [
       "          A          B          C         D\n",
       "0  0.774528   1.507279  -0.049090 -0.276217\n",
       "1  0.962015  99.000000   0.627850  0.335212\n",
       "2 -0.426638   2.041506  -0.461158 -0.753483\n",
       "3 -0.152039  -1.655335   0.942100  0.093274\n",
       "4  0.131495   0.021804  -1.030725 -0.796758\n",
       "5  0.567527  -1.147737 -99.000000 -1.244133"
      ]
     },
     "execution_count": 38,
     "metadata": {},
     "output_type": "execute_result"
    }
   ],
   "source": [
    "print(df,\"\\n\")\n",
    "df.iloc[1, 1] = 99\n",
    "df.loc[5,'C'] = -99\n",
    "df"
   ]
  },
  {
   "cell_type": "markdown",
   "metadata": {},
   "source": [
    "Podobnie do przypadku macierzy pakietu `numpy`, także w przypadku ramki danych, zmienna reprezentująca ramkę danych jest w istocie wskaźnikiem do konkretnego obszaru pamięci. Dlatego przypisanie wartości zmiennej reprezentujej ramkę innej zmiennej jest w istocie przypisaniem wskaźnika. Obie zmienne wskazują na ten sam obszar pamięci. W poniższym przykładzie obie zmienne `df` i `dff` odnoszą się do **tej samej** ramki danych."
   ]
  },
  {
   "cell_type": "code",
   "execution_count": 39,
   "metadata": {},
   "outputs": [
    {
     "name": "stdout",
     "output_type": "stream",
     "text": [
      "            A           B           C           D\n",
      "0    0.774528    1.507279   -0.049090   -0.276217\n",
      "1  123.000000  234.000000  345.000000  456.000000\n",
      "2   -0.426638    2.041506   -0.461158   -0.753483\n",
      "3   -0.152039   -1.655335    0.942100    0.093274\n",
      "4    0.131495    0.021804   -1.030725   -0.796758\n",
      "5    0.567527   -1.147737  -99.000000   -1.244133\n",
      "            A           B           C           D\n",
      "0    0.774528    1.507279   -0.049090   -0.276217\n",
      "1  123.000000  234.000000  345.000000  456.000000\n",
      "2   -0.426638    2.041506   -0.461158   -0.753483\n",
      "3   -0.152039   -1.655335    0.942100    0.093274\n",
      "4    0.131495    0.021804   -1.030725   -0.796758\n",
      "5    0.567527   -1.147737  -99.000000   -1.244133\n"
     ]
    }
   ],
   "source": [
    "dff = df\n",
    "dff.iloc[1,:] = [123, 234, 345, 456]\n",
    "print(df) \n",
    "print(dff)\n",
    "# zawartość jest identyczna"
   ]
  },
  {
   "cell_type": "markdown",
   "metadata": {},
   "source": [
    "Stworzenie faktycznej kopii danych ramki i zapamiętanie ich w innej ramce wymaga użycia metody `copy`. W kolejnym przykładzie `df` oraz `dff` to **różne** ramki danych."
   ]
  },
  {
   "cell_type": "code",
   "execution_count": 40,
   "metadata": {},
   "outputs": [
    {
     "name": "stdout",
     "output_type": "stream",
     "text": [
      "            A           B           C           D\n",
      "0    0.774528    1.507279   -0.049090   -0.276217\n",
      "1  123.000000  234.000000  345.000000  456.000000\n",
      "2   -0.426638    2.041506   -0.461158   -0.753483\n",
      "3   -0.152039   -1.655335    0.942100    0.093274\n",
      "4    0.131495    0.021804   -1.030725   -0.796758\n",
      "5    0.567527   -1.147737  -99.000000   -1.244133\n",
      "            A           B           C           D\n",
      "0    0.774528    1.507279   -0.049090   -0.276217\n",
      "1  991.000000  992.000000  993.000000  994.000000\n",
      "2   -0.426638    2.041506   -0.461158   -0.753483\n",
      "3   -0.152039   -1.655335    0.942100    0.093274\n",
      "4    0.131495    0.021804   -1.030725   -0.796758\n",
      "5    0.567527   -1.147737  -99.000000   -1.244133\n"
     ]
    }
   ],
   "source": [
    "dff = df.copy()\n",
    "dff.iloc[1,:] = [991, 992, 993, 994]\n",
    "print(df)\n",
    "print(dff)\n",
    "# każda ramka ma inną zawartość"
   ]
  },
  {
   "cell_type": "markdown",
   "metadata": {},
   "source": [
    "Selekcja elementów ramki danych może także następować poprzez indeksowanie logiczne. W poniższym przykładzie zwracane są jedynie te obiekty ramki, dla których wartość atrybutu `A` jest większa od 0."
   ]
  },
  {
   "cell_type": "code",
   "execution_count": 41,
   "metadata": {},
   "outputs": [
    {
     "data": {
      "text/html": [
       "<div>\n",
       "<style scoped>\n",
       "    .dataframe tbody tr th:only-of-type {\n",
       "        vertical-align: middle;\n",
       "    }\n",
       "\n",
       "    .dataframe tbody tr th {\n",
       "        vertical-align: top;\n",
       "    }\n",
       "\n",
       "    .dataframe thead th {\n",
       "        text-align: right;\n",
       "    }\n",
       "</style>\n",
       "<table border=\"1\" class=\"dataframe\">\n",
       "  <thead>\n",
       "    <tr style=\"text-align: right;\">\n",
       "      <th></th>\n",
       "      <th>A</th>\n",
       "      <th>B</th>\n",
       "      <th>C</th>\n",
       "      <th>D</th>\n",
       "    </tr>\n",
       "  </thead>\n",
       "  <tbody>\n",
       "    <tr>\n",
       "      <th>0</th>\n",
       "      <td>0.774528</td>\n",
       "      <td>1.507279</td>\n",
       "      <td>-0.049090</td>\n",
       "      <td>-0.276217</td>\n",
       "    </tr>\n",
       "    <tr>\n",
       "      <th>1</th>\n",
       "      <td>123.000000</td>\n",
       "      <td>234.000000</td>\n",
       "      <td>345.000000</td>\n",
       "      <td>456.000000</td>\n",
       "    </tr>\n",
       "    <tr>\n",
       "      <th>2</th>\n",
       "      <td>-0.426638</td>\n",
       "      <td>2.041506</td>\n",
       "      <td>-0.461158</td>\n",
       "      <td>-0.753483</td>\n",
       "    </tr>\n",
       "    <tr>\n",
       "      <th>3</th>\n",
       "      <td>-0.152039</td>\n",
       "      <td>-1.655335</td>\n",
       "      <td>0.942100</td>\n",
       "      <td>0.093274</td>\n",
       "    </tr>\n",
       "    <tr>\n",
       "      <th>4</th>\n",
       "      <td>0.131495</td>\n",
       "      <td>0.021804</td>\n",
       "      <td>-1.030725</td>\n",
       "      <td>-0.796758</td>\n",
       "    </tr>\n",
       "    <tr>\n",
       "      <th>5</th>\n",
       "      <td>0.567527</td>\n",
       "      <td>-1.147737</td>\n",
       "      <td>-99.000000</td>\n",
       "      <td>-1.244133</td>\n",
       "    </tr>\n",
       "  </tbody>\n",
       "</table>\n",
       "</div>"
      ],
      "text/plain": [
       "            A           B           C           D\n",
       "0    0.774528    1.507279   -0.049090   -0.276217\n",
       "1  123.000000  234.000000  345.000000  456.000000\n",
       "2   -0.426638    2.041506   -0.461158   -0.753483\n",
       "3   -0.152039   -1.655335    0.942100    0.093274\n",
       "4    0.131495    0.021804   -1.030725   -0.796758\n",
       "5    0.567527   -1.147737  -99.000000   -1.244133"
      ]
     },
     "execution_count": 41,
     "metadata": {},
     "output_type": "execute_result"
    }
   ],
   "source": [
    "df"
   ]
  },
  {
   "cell_type": "raw",
   "metadata": {},
   "source": [
    "df[df.B > 0]\n"
   ]
  },
  {
   "cell_type": "markdown",
   "metadata": {},
   "source": [
    "Warunki mogą być złożone (atrybuty `A` i `C` większe od 0):"
   ]
  },
  {
   "cell_type": "code",
   "execution_count": 42,
   "metadata": {},
   "outputs": [
    {
     "data": {
      "text/html": [
       "<div>\n",
       "<style scoped>\n",
       "    .dataframe tbody tr th:only-of-type {\n",
       "        vertical-align: middle;\n",
       "    }\n",
       "\n",
       "    .dataframe tbody tr th {\n",
       "        vertical-align: top;\n",
       "    }\n",
       "\n",
       "    .dataframe thead th {\n",
       "        text-align: right;\n",
       "    }\n",
       "</style>\n",
       "<table border=\"1\" class=\"dataframe\">\n",
       "  <thead>\n",
       "    <tr style=\"text-align: right;\">\n",
       "      <th></th>\n",
       "      <th>A</th>\n",
       "      <th>B</th>\n",
       "      <th>C</th>\n",
       "      <th>D</th>\n",
       "    </tr>\n",
       "  </thead>\n",
       "  <tbody>\n",
       "    <tr>\n",
       "      <th>1</th>\n",
       "      <td>123.0</td>\n",
       "      <td>234.0</td>\n",
       "      <td>345.0</td>\n",
       "      <td>456.0</td>\n",
       "    </tr>\n",
       "  </tbody>\n",
       "</table>\n",
       "</div>"
      ],
      "text/plain": [
       "       A      B      C      D\n",
       "1  123.0  234.0  345.0  456.0"
      ]
     },
     "execution_count": 42,
     "metadata": {},
     "output_type": "execute_result"
    }
   ],
   "source": [
    "df[(df.B > 0) & (df.C > 0)]"
   ]
  },
  {
   "cell_type": "markdown",
   "metadata": {},
   "source": [
    "Warunki filtrowania można także nakładać na atrybuty kategoryczne. Utwórzymy nową ramkę danych kopiując poprzednią i dodając piąty atrybut. W przeciwieństwie do czterech wcześniejszych, nowy atrybut jest kategoryczny."
   ]
  },
  {
   "cell_type": "code",
   "execution_count": 43,
   "metadata": {},
   "outputs": [
    {
     "data": {
      "text/html": [
       "<div>\n",
       "<style scoped>\n",
       "    .dataframe tbody tr th:only-of-type {\n",
       "        vertical-align: middle;\n",
       "    }\n",
       "\n",
       "    .dataframe tbody tr th {\n",
       "        vertical-align: top;\n",
       "    }\n",
       "\n",
       "    .dataframe thead th {\n",
       "        text-align: right;\n",
       "    }\n",
       "</style>\n",
       "<table border=\"1\" class=\"dataframe\">\n",
       "  <thead>\n",
       "    <tr style=\"text-align: right;\">\n",
       "      <th></th>\n",
       "      <th>A</th>\n",
       "      <th>B</th>\n",
       "      <th>C</th>\n",
       "      <th>D</th>\n",
       "      <th>E</th>\n",
       "    </tr>\n",
       "  </thead>\n",
       "  <tbody>\n",
       "    <tr>\n",
       "      <th>0</th>\n",
       "      <td>0.774528</td>\n",
       "      <td>1.507279</td>\n",
       "      <td>-0.049090</td>\n",
       "      <td>-0.276217</td>\n",
       "      <td>jeden</td>\n",
       "    </tr>\n",
       "    <tr>\n",
       "      <th>1</th>\n",
       "      <td>123.000000</td>\n",
       "      <td>234.000000</td>\n",
       "      <td>345.000000</td>\n",
       "      <td>456.000000</td>\n",
       "      <td>jeden</td>\n",
       "    </tr>\n",
       "    <tr>\n",
       "      <th>2</th>\n",
       "      <td>-0.426638</td>\n",
       "      <td>2.041506</td>\n",
       "      <td>-0.461158</td>\n",
       "      <td>-0.753483</td>\n",
       "      <td>dwa</td>\n",
       "    </tr>\n",
       "    <tr>\n",
       "      <th>3</th>\n",
       "      <td>-0.152039</td>\n",
       "      <td>-1.655335</td>\n",
       "      <td>0.942100</td>\n",
       "      <td>0.093274</td>\n",
       "      <td>jeden</td>\n",
       "    </tr>\n",
       "    <tr>\n",
       "      <th>4</th>\n",
       "      <td>0.131495</td>\n",
       "      <td>0.021804</td>\n",
       "      <td>-1.030725</td>\n",
       "      <td>-0.796758</td>\n",
       "      <td>trzy</td>\n",
       "    </tr>\n",
       "    <tr>\n",
       "      <th>5</th>\n",
       "      <td>0.567527</td>\n",
       "      <td>-1.147737</td>\n",
       "      <td>-99.000000</td>\n",
       "      <td>-1.244133</td>\n",
       "      <td>dwa</td>\n",
       "    </tr>\n",
       "  </tbody>\n",
       "</table>\n",
       "</div>"
      ],
      "text/plain": [
       "            A           B           C           D      E\n",
       "0    0.774528    1.507279   -0.049090   -0.276217  jeden\n",
       "1  123.000000  234.000000  345.000000  456.000000  jeden\n",
       "2   -0.426638    2.041506   -0.461158   -0.753483    dwa\n",
       "3   -0.152039   -1.655335    0.942100    0.093274  jeden\n",
       "4    0.131495    0.021804   -1.030725   -0.796758   trzy\n",
       "5    0.567527   -1.147737  -99.000000   -1.244133    dwa"
      ]
     },
     "execution_count": 43,
     "metadata": {},
     "output_type": "execute_result"
    }
   ],
   "source": [
    "df2 = df.copy()\n",
    "df2['E'] = ['jeden', 'jeden', 'dwa', 'jeden', 'trzy', 'dwa']\n",
    "df2"
   ]
  },
  {
   "cell_type": "code",
   "execution_count": 44,
   "metadata": {},
   "outputs": [
    {
     "data": {
      "text/plain": [
       "A            B            C            D            E    \n",
       "-0.426638     2.041506    -0.461158    -0.753483    dwa      1\n",
       "-0.152039    -1.655335     0.942100     0.093274    jeden    1\n",
       " 0.131495     0.021804    -1.030725    -0.796758    trzy     1\n",
       " 0.567527    -1.147737    -99.000000   -1.244133    dwa      1\n",
       " 0.774528     1.507279    -0.049090    -0.276217    jeden    1\n",
       " 123.000000   234.000000   345.000000   456.000000  jeden    1\n",
       "Name: count, dtype: int64"
      ]
     },
     "execution_count": 44,
     "metadata": {},
     "output_type": "execute_result"
    }
   ],
   "source": [
    "df2.value_counts()"
   ]
  },
  {
   "cell_type": "code",
   "execution_count": 45,
   "metadata": {},
   "outputs": [
    {
     "data": {
      "text/html": [
       "<div>\n",
       "<style scoped>\n",
       "    .dataframe tbody tr th:only-of-type {\n",
       "        vertical-align: middle;\n",
       "    }\n",
       "\n",
       "    .dataframe tbody tr th {\n",
       "        vertical-align: top;\n",
       "    }\n",
       "\n",
       "    .dataframe thead th {\n",
       "        text-align: right;\n",
       "    }\n",
       "</style>\n",
       "<table border=\"1\" class=\"dataframe\">\n",
       "  <thead>\n",
       "    <tr style=\"text-align: right;\">\n",
       "      <th></th>\n",
       "      <th>A</th>\n",
       "      <th>B</th>\n",
       "      <th>C</th>\n",
       "      <th>D</th>\n",
       "      <th>E</th>\n",
       "    </tr>\n",
       "  </thead>\n",
       "  <tbody>\n",
       "    <tr>\n",
       "      <th>0</th>\n",
       "      <td>0.774528</td>\n",
       "      <td>1.507279</td>\n",
       "      <td>-0.04909</td>\n",
       "      <td>-0.276217</td>\n",
       "      <td>jeden</td>\n",
       "    </tr>\n",
       "    <tr>\n",
       "      <th>1</th>\n",
       "      <td>123.000000</td>\n",
       "      <td>234.000000</td>\n",
       "      <td>345.00000</td>\n",
       "      <td>456.000000</td>\n",
       "      <td>jeden</td>\n",
       "    </tr>\n",
       "    <tr>\n",
       "      <th>3</th>\n",
       "      <td>-0.152039</td>\n",
       "      <td>-1.655335</td>\n",
       "      <td>0.94210</td>\n",
       "      <td>0.093274</td>\n",
       "      <td>jeden</td>\n",
       "    </tr>\n",
       "  </tbody>\n",
       "</table>\n",
       "</div>"
      ],
      "text/plain": [
       "            A           B          C           D      E\n",
       "0    0.774528    1.507279   -0.04909   -0.276217  jeden\n",
       "1  123.000000  234.000000  345.00000  456.000000  jeden\n",
       "3   -0.152039   -1.655335    0.94210    0.093274  jeden"
      ]
     },
     "execution_count": 45,
     "metadata": {},
     "output_type": "execute_result"
    }
   ],
   "source": [
    "df2[df2.E == 'jeden']"
   ]
  },
  {
   "cell_type": "markdown",
   "metadata": {},
   "source": [
    "Selekcja może następować także przez określenie zbioru jego dopuszczalnych wartości. "
   ]
  },
  {
   "cell_type": "code",
   "execution_count": 46,
   "metadata": {},
   "outputs": [
    {
     "data": {
      "text/html": [
       "<div>\n",
       "<style scoped>\n",
       "    .dataframe tbody tr th:only-of-type {\n",
       "        vertical-align: middle;\n",
       "    }\n",
       "\n",
       "    .dataframe tbody tr th {\n",
       "        vertical-align: top;\n",
       "    }\n",
       "\n",
       "    .dataframe thead th {\n",
       "        text-align: right;\n",
       "    }\n",
       "</style>\n",
       "<table border=\"1\" class=\"dataframe\">\n",
       "  <thead>\n",
       "    <tr style=\"text-align: right;\">\n",
       "      <th></th>\n",
       "      <th>A</th>\n",
       "      <th>B</th>\n",
       "      <th>C</th>\n",
       "      <th>D</th>\n",
       "      <th>E</th>\n",
       "    </tr>\n",
       "  </thead>\n",
       "  <tbody>\n",
       "    <tr>\n",
       "      <th>0</th>\n",
       "      <td>0.774528</td>\n",
       "      <td>1.507279</td>\n",
       "      <td>-0.049090</td>\n",
       "      <td>-0.276217</td>\n",
       "      <td>jeden</td>\n",
       "    </tr>\n",
       "    <tr>\n",
       "      <th>1</th>\n",
       "      <td>123.000000</td>\n",
       "      <td>234.000000</td>\n",
       "      <td>345.000000</td>\n",
       "      <td>456.000000</td>\n",
       "      <td>jeden</td>\n",
       "    </tr>\n",
       "    <tr>\n",
       "      <th>2</th>\n",
       "      <td>-0.426638</td>\n",
       "      <td>2.041506</td>\n",
       "      <td>-0.461158</td>\n",
       "      <td>-0.753483</td>\n",
       "      <td>dwa</td>\n",
       "    </tr>\n",
       "    <tr>\n",
       "      <th>3</th>\n",
       "      <td>-0.152039</td>\n",
       "      <td>-1.655335</td>\n",
       "      <td>0.942100</td>\n",
       "      <td>0.093274</td>\n",
       "      <td>jeden</td>\n",
       "    </tr>\n",
       "    <tr>\n",
       "      <th>5</th>\n",
       "      <td>0.567527</td>\n",
       "      <td>-1.147737</td>\n",
       "      <td>-99.000000</td>\n",
       "      <td>-1.244133</td>\n",
       "      <td>dwa</td>\n",
       "    </tr>\n",
       "  </tbody>\n",
       "</table>\n",
       "</div>"
      ],
      "text/plain": [
       "            A           B           C           D      E\n",
       "0    0.774528    1.507279   -0.049090   -0.276217  jeden\n",
       "1  123.000000  234.000000  345.000000  456.000000  jeden\n",
       "2   -0.426638    2.041506   -0.461158   -0.753483    dwa\n",
       "3   -0.152039   -1.655335    0.942100    0.093274  jeden\n",
       "5    0.567527   -1.147737  -99.000000   -1.244133    dwa"
      ]
     },
     "execution_count": 46,
     "metadata": {},
     "output_type": "execute_result"
    }
   ],
   "source": [
    "df2[df2['E'].isin(['jeden', 'dwa'])]"
   ]
  },
  {
   "cell_type": "markdown",
   "metadata": {},
   "source": [
    "# 2 Import i przekształcanie danych"
   ]
  },
  {
   "cell_type": "markdown",
   "metadata": {},
   "source": [
    "## 2.1 Zewnętrzne źródła danych"
   ]
  },
  {
   "cell_type": "markdown",
   "metadata": {},
   "source": [
    "Pakiet `pandas` oferuje szereg metod umożliwiających wczytywanie ramek danych z różnego rodzaju źródeł. Mogą być nimi np. pliki `csv`."
   ]
  },
  {
   "cell_type": "code",
   "execution_count": 47,
   "metadata": {},
   "outputs": [
    {
     "data": {
      "text/html": [
       "<div>\n",
       "<style scoped>\n",
       "    .dataframe tbody tr th:only-of-type {\n",
       "        vertical-align: middle;\n",
       "    }\n",
       "\n",
       "    .dataframe tbody tr th {\n",
       "        vertical-align: top;\n",
       "    }\n",
       "\n",
       "    .dataframe thead th {\n",
       "        text-align: right;\n",
       "    }\n",
       "</style>\n",
       "<table border=\"1\" class=\"dataframe\">\n",
       "  <thead>\n",
       "    <tr style=\"text-align: right;\">\n",
       "      <th></th>\n",
       "      <th>atrybut1</th>\n",
       "      <th>atrybut2</th>\n",
       "      <th>klasa</th>\n",
       "    </tr>\n",
       "  </thead>\n",
       "  <tbody>\n",
       "    <tr>\n",
       "      <th>0</th>\n",
       "      <td>86</td>\n",
       "      <td>43</td>\n",
       "      <td>klasa 3</td>\n",
       "    </tr>\n",
       "    <tr>\n",
       "      <th>1</th>\n",
       "      <td>79</td>\n",
       "      <td>50</td>\n",
       "      <td>klasa 3</td>\n",
       "    </tr>\n",
       "    <tr>\n",
       "      <th>2</th>\n",
       "      <td>73</td>\n",
       "      <td>49</td>\n",
       "      <td>klasa 3</td>\n",
       "    </tr>\n",
       "    <tr>\n",
       "      <th>3</th>\n",
       "      <td>69</td>\n",
       "      <td>49</td>\n",
       "      <td>klasa 3</td>\n",
       "    </tr>\n",
       "    <tr>\n",
       "      <th>4</th>\n",
       "      <td>74</td>\n",
       "      <td>43</td>\n",
       "      <td>klasa 3</td>\n",
       "    </tr>\n",
       "  </tbody>\n",
       "</table>\n",
       "</div>"
      ],
      "text/plain": [
       "   atrybut1  atrybut2    klasa\n",
       "0        86        43  klasa 3\n",
       "1        79        50  klasa 3\n",
       "2        73        49  klasa 3\n",
       "3        69        49  klasa 3\n",
       "4        74        43  klasa 3"
      ]
     },
     "execution_count": 47,
     "metadata": {},
     "output_type": "execute_result"
    }
   ],
   "source": [
    "d = pd.read_csv('dane1.csv')\n",
    "d.head()"
   ]
  },
  {
   "cell_type": "markdown",
   "metadata": {},
   "source": [
    "Informacja o zbiorze"
   ]
  },
  {
   "cell_type": "code",
   "execution_count": 48,
   "metadata": {},
   "outputs": [
    {
     "name": "stdout",
     "output_type": "stream",
     "text": [
      "<class 'pandas.core.frame.DataFrame'>\n",
      "RangeIndex: 80 entries, 0 to 79\n",
      "Data columns (total 3 columns):\n",
      " #   Column    Non-Null Count  Dtype \n",
      "---  ------    --------------  ----- \n",
      " 0   atrybut1  80 non-null     int64 \n",
      " 1   atrybut2  80 non-null     int64 \n",
      " 2   klasa     80 non-null     object\n",
      "dtypes: int64(2), object(1)\n",
      "memory usage: 2.0+ KB\n"
     ]
    }
   ],
   "source": [
    "d.info()"
   ]
  },
  {
   "cell_type": "markdown",
   "metadata": {},
   "source": [
    "Podstawowe miary dla całego zbioru."
   ]
  },
  {
   "cell_type": "code",
   "execution_count": 49,
   "metadata": {},
   "outputs": [
    {
     "data": {
      "text/html": [
       "<div>\n",
       "<style scoped>\n",
       "    .dataframe tbody tr th:only-of-type {\n",
       "        vertical-align: middle;\n",
       "    }\n",
       "\n",
       "    .dataframe tbody tr th {\n",
       "        vertical-align: top;\n",
       "    }\n",
       "\n",
       "    .dataframe thead th {\n",
       "        text-align: right;\n",
       "    }\n",
       "</style>\n",
       "<table border=\"1\" class=\"dataframe\">\n",
       "  <thead>\n",
       "    <tr style=\"text-align: right;\">\n",
       "      <th></th>\n",
       "      <th>atrybut1</th>\n",
       "      <th>atrybut2</th>\n",
       "    </tr>\n",
       "  </thead>\n",
       "  <tbody>\n",
       "    <tr>\n",
       "      <th>count</th>\n",
       "      <td>80.000000</td>\n",
       "      <td>80.000000</td>\n",
       "    </tr>\n",
       "    <tr>\n",
       "      <th>mean</th>\n",
       "      <td>49.012500</td>\n",
       "      <td>41.275000</td>\n",
       "    </tr>\n",
       "    <tr>\n",
       "      <th>std</th>\n",
       "      <td>26.009976</td>\n",
       "      <td>23.377461</td>\n",
       "    </tr>\n",
       "    <tr>\n",
       "      <th>min</th>\n",
       "      <td>4.000000</td>\n",
       "      <td>7.000000</td>\n",
       "    </tr>\n",
       "    <tr>\n",
       "      <th>25%</th>\n",
       "      <td>29.750000</td>\n",
       "      <td>22.000000</td>\n",
       "    </tr>\n",
       "    <tr>\n",
       "      <th>50%</th>\n",
       "      <td>47.500000</td>\n",
       "      <td>34.500000</td>\n",
       "    </tr>\n",
       "    <tr>\n",
       "      <th>75%</th>\n",
       "      <td>73.000000</td>\n",
       "      <td>64.250000</td>\n",
       "    </tr>\n",
       "    <tr>\n",
       "      <th>max</th>\n",
       "      <td>87.000000</td>\n",
       "      <td>86.000000</td>\n",
       "    </tr>\n",
       "  </tbody>\n",
       "</table>\n",
       "</div>"
      ],
      "text/plain": [
       "        atrybut1   atrybut2\n",
       "count  80.000000  80.000000\n",
       "mean   49.012500  41.275000\n",
       "std    26.009976  23.377461\n",
       "min     4.000000   7.000000\n",
       "25%    29.750000  22.000000\n",
       "50%    47.500000  34.500000\n",
       "75%    73.000000  64.250000\n",
       "max    87.000000  86.000000"
      ]
     },
     "execution_count": 49,
     "metadata": {},
     "output_type": "execute_result"
    }
   ],
   "source": [
    "d.describe()"
   ]
  },
  {
   "cell_type": "markdown",
   "metadata": {},
   "source": [
    "I dla pojedynczej klasy."
   ]
  },
  {
   "cell_type": "code",
   "execution_count": 50,
   "metadata": {},
   "outputs": [
    {
     "data": {
      "text/html": [
       "<div>\n",
       "<style scoped>\n",
       "    .dataframe tbody tr th:only-of-type {\n",
       "        vertical-align: middle;\n",
       "    }\n",
       "\n",
       "    .dataframe tbody tr th {\n",
       "        vertical-align: top;\n",
       "    }\n",
       "\n",
       "    .dataframe thead th {\n",
       "        text-align: right;\n",
       "    }\n",
       "</style>\n",
       "<table border=\"1\" class=\"dataframe\">\n",
       "  <thead>\n",
       "    <tr style=\"text-align: right;\">\n",
       "      <th></th>\n",
       "      <th>atrybut1</th>\n",
       "      <th>atrybut2</th>\n",
       "    </tr>\n",
       "  </thead>\n",
       "  <tbody>\n",
       "    <tr>\n",
       "      <th>count</th>\n",
       "      <td>24.000000</td>\n",
       "      <td>24.000000</td>\n",
       "    </tr>\n",
       "    <tr>\n",
       "      <th>mean</th>\n",
       "      <td>38.458333</td>\n",
       "      <td>73.250000</td>\n",
       "    </tr>\n",
       "    <tr>\n",
       "      <th>std</th>\n",
       "      <td>6.419936</td>\n",
       "      <td>7.531095</td>\n",
       "    </tr>\n",
       "    <tr>\n",
       "      <th>min</th>\n",
       "      <td>29.000000</td>\n",
       "      <td>62.000000</td>\n",
       "    </tr>\n",
       "    <tr>\n",
       "      <th>25%</th>\n",
       "      <td>32.750000</td>\n",
       "      <td>68.000000</td>\n",
       "    </tr>\n",
       "    <tr>\n",
       "      <th>50%</th>\n",
       "      <td>39.500000</td>\n",
       "      <td>72.000000</td>\n",
       "    </tr>\n",
       "    <tr>\n",
       "      <th>75%</th>\n",
       "      <td>44.000000</td>\n",
       "      <td>78.250000</td>\n",
       "    </tr>\n",
       "    <tr>\n",
       "      <th>max</th>\n",
       "      <td>48.000000</td>\n",
       "      <td>86.000000</td>\n",
       "    </tr>\n",
       "  </tbody>\n",
       "</table>\n",
       "</div>"
      ],
      "text/plain": [
       "        atrybut1   atrybut2\n",
       "count  24.000000  24.000000\n",
       "mean   38.458333  73.250000\n",
       "std     6.419936   7.531095\n",
       "min    29.000000  62.000000\n",
       "25%    32.750000  68.000000\n",
       "50%    39.500000  72.000000\n",
       "75%    44.000000  78.250000\n",
       "max    48.000000  86.000000"
      ]
     },
     "execution_count": 50,
     "metadata": {},
     "output_type": "execute_result"
    }
   ],
   "source": [
    "d[d.klasa == 'klasa 1'].describe()"
   ]
  },
  {
   "cell_type": "markdown",
   "metadata": {},
   "source": [
    "Wyselekcjonowane w taki sposób danych można wykonywać dowolne funkcje. Przykładowo używając funkcji `mean` pakietu `numpy` można wyznaczyć średnią wartość atrybutu 1 w klasie 2."
   ]
  },
  {
   "cell_type": "code",
   "execution_count": 51,
   "metadata": {},
   "outputs": [
    {
     "data": {
      "text/plain": [
       "13.368421052631579"
      ]
     },
     "execution_count": 51,
     "metadata": {},
     "output_type": "execute_result"
    }
   ],
   "source": [
    "dd = d[d.klasa == 'klasa 2']\n",
    "np.mean(dd.iloc[:,0:1])"
   ]
  },
  {
   "cell_type": "markdown",
   "metadata": {},
   "source": [
    "Ramka danych może zostac zapisana na dysku w formacie zarówno `.csv`. W tym celu należy użyć metody `to_csv`."
   ]
  },
  {
   "cell_type": "code",
   "execution_count": 52,
   "metadata": {},
   "outputs": [
    {
     "name": "stdout",
     "output_type": "stream",
     "text": [
      "            A           B           C           D\n",
      "0    0.774528    1.507279   -0.049090   -0.276217\n",
      "1  123.000000  234.000000  345.000000  456.000000\n",
      "2   -0.426638    2.041506   -0.461158   -0.753483\n",
      "3   -0.152039   -1.655335    0.942100    0.093274\n",
      "4    0.131495    0.021804   -1.030725   -0.796758\n"
     ]
    },
    {
     "data": {
      "text/html": [
       "<div>\n",
       "<style scoped>\n",
       "    .dataframe tbody tr th:only-of-type {\n",
       "        vertical-align: middle;\n",
       "    }\n",
       "\n",
       "    .dataframe tbody tr th {\n",
       "        vertical-align: top;\n",
       "    }\n",
       "\n",
       "    .dataframe thead th {\n",
       "        text-align: right;\n",
       "    }\n",
       "</style>\n",
       "<table border=\"1\" class=\"dataframe\">\n",
       "  <thead>\n",
       "    <tr style=\"text-align: right;\">\n",
       "      <th></th>\n",
       "      <th>Unnamed: 0</th>\n",
       "      <th>A</th>\n",
       "      <th>B</th>\n",
       "      <th>C</th>\n",
       "      <th>D</th>\n",
       "    </tr>\n",
       "  </thead>\n",
       "  <tbody>\n",
       "    <tr>\n",
       "      <th>0</th>\n",
       "      <td>0</td>\n",
       "      <td>0.774528</td>\n",
       "      <td>1.507279</td>\n",
       "      <td>-0.049090</td>\n",
       "      <td>-0.276217</td>\n",
       "    </tr>\n",
       "    <tr>\n",
       "      <th>1</th>\n",
       "      <td>1</td>\n",
       "      <td>123.000000</td>\n",
       "      <td>234.000000</td>\n",
       "      <td>345.000000</td>\n",
       "      <td>456.000000</td>\n",
       "    </tr>\n",
       "    <tr>\n",
       "      <th>2</th>\n",
       "      <td>2</td>\n",
       "      <td>-0.426638</td>\n",
       "      <td>2.041506</td>\n",
       "      <td>-0.461158</td>\n",
       "      <td>-0.753483</td>\n",
       "    </tr>\n",
       "    <tr>\n",
       "      <th>3</th>\n",
       "      <td>3</td>\n",
       "      <td>-0.152039</td>\n",
       "      <td>-1.655335</td>\n",
       "      <td>0.942100</td>\n",
       "      <td>0.093274</td>\n",
       "    </tr>\n",
       "    <tr>\n",
       "      <th>4</th>\n",
       "      <td>4</td>\n",
       "      <td>0.131495</td>\n",
       "      <td>0.021804</td>\n",
       "      <td>-1.030725</td>\n",
       "      <td>-0.796758</td>\n",
       "    </tr>\n",
       "  </tbody>\n",
       "</table>\n",
       "</div>"
      ],
      "text/plain": [
       "   Unnamed: 0           A           B           C           D\n",
       "0           0    0.774528    1.507279   -0.049090   -0.276217\n",
       "1           1  123.000000  234.000000  345.000000  456.000000\n",
       "2           2   -0.426638    2.041506   -0.461158   -0.753483\n",
       "3           3   -0.152039   -1.655335    0.942100    0.093274\n",
       "4           4    0.131495    0.021804   -1.030725   -0.796758"
      ]
     },
     "execution_count": 52,
     "metadata": {},
     "output_type": "execute_result"
    }
   ],
   "source": [
    "df.to_csv('przyklad.csv')\n",
    "print(df.head())\n",
    "nowa = pd.read_csv('przyklad.csv')\n",
    "nowa.head()"
   ]
  },
  {
   "cell_type": "markdown",
   "metadata": {},
   "source": [
    "> **Zadanie** Jednym z najchętniej wykorzystywanych w dydaktyce analizy danych zbiorów danych jest zbiór [Fisher's iris](https://en.wikipedia.org/wiki/Iris_flower_data_set). Zbiór tej jest znajduje się w pliku `iris.csv`. \n",
    "* wczytaj go z dysku do ramki danych\n",
    "* określ jej parametry: liczbę obiektów, atrybutów, kategorii\n",
    "* wyznacz średnie wartości atrybutów w kategoriach"
   ]
  },
  {
   "cell_type": "code",
   "execution_count": 53,
   "metadata": {},
   "outputs": [
    {
     "name": "stdout",
     "output_type": "stream",
     "text": [
      "Liczba obiektów: 150\n",
      "Liczba atrybutów: 6\n",
      "Liczba kategori: Unnamed: 0      150\n",
      "sepal_length     35\n",
      "sepal_width      23\n",
      "petal_length     43\n",
      "petal_width      22\n",
      "species           3\n",
      "dtype: int64\n",
      "Liczba kategori w atrybucie decyzyjnym: 3\n",
      "            Unnamed: 0  sepal_length  sepal_width  petal_length  petal_width\n",
      "species                                                                     \n",
      "setosa            24.5         5.006        3.428         1.462        0.246\n",
      "versicolor        74.5         5.936        2.770         4.260        1.326\n",
      "virginica        124.5         6.588        2.974         5.552        2.026\n"
     ]
    }
   ],
   "source": [
    "zad1 = pd.read_csv('iris.csv')\n",
    "num_rows = zad1.shape[0]\n",
    "num_columns = zad1.shape[1]\n",
    "num_categories = zad1.nunique(0)\n",
    "num_categories_decisive = zad1[zad1.columns[-1]].nunique()\n",
    "\n",
    "print(\"Liczba obiektów:\", num_rows)\n",
    "print(\"Liczba atrybutów:\", num_columns)\n",
    "print(\"Liczba kategori:\", num_categories)\n",
    "print(\"Liczba kategori w atrybucie decyzyjnym:\", num_categories_decisive)\n",
    "\n",
    "average_values = zad1.groupby(zad1.columns[-1]).mean()\n",
    "\n",
    "print(average_values)"
   ]
  },
  {
   "cell_type": "markdown",
   "metadata": {},
   "source": [
    "Standardowe zbiory danych można znaleźć w niektórych pakietach języka Python np. w pakiecie `seaborn` (który zostanie wykorzystany w ćwiczeniu poświęconym wizualizacji) oraz `scikit-learn` (ćwiczenia poświęcone uczeniu). Pakiety zostaną omówione przy kolejnych okazjach. Poniższe przykłady pokazują jedynie sposób importu zbioru danych `iris` w obu tych pakietach."
   ]
  },
  {
   "cell_type": "code",
   "execution_count": 54,
   "metadata": {},
   "outputs": [
    {
     "data": {
      "text/html": [
       "<div>\n",
       "<style scoped>\n",
       "    .dataframe tbody tr th:only-of-type {\n",
       "        vertical-align: middle;\n",
       "    }\n",
       "\n",
       "    .dataframe tbody tr th {\n",
       "        vertical-align: top;\n",
       "    }\n",
       "\n",
       "    .dataframe thead th {\n",
       "        text-align: right;\n",
       "    }\n",
       "</style>\n",
       "<table border=\"1\" class=\"dataframe\">\n",
       "  <thead>\n",
       "    <tr style=\"text-align: right;\">\n",
       "      <th></th>\n",
       "      <th>sepal_length</th>\n",
       "      <th>sepal_width</th>\n",
       "      <th>petal_length</th>\n",
       "      <th>petal_width</th>\n",
       "      <th>species</th>\n",
       "    </tr>\n",
       "  </thead>\n",
       "  <tbody>\n",
       "    <tr>\n",
       "      <th>0</th>\n",
       "      <td>5.1</td>\n",
       "      <td>3.5</td>\n",
       "      <td>1.4</td>\n",
       "      <td>0.2</td>\n",
       "      <td>setosa</td>\n",
       "    </tr>\n",
       "    <tr>\n",
       "      <th>1</th>\n",
       "      <td>4.9</td>\n",
       "      <td>3.0</td>\n",
       "      <td>1.4</td>\n",
       "      <td>0.2</td>\n",
       "      <td>setosa</td>\n",
       "    </tr>\n",
       "    <tr>\n",
       "      <th>2</th>\n",
       "      <td>4.7</td>\n",
       "      <td>3.2</td>\n",
       "      <td>1.3</td>\n",
       "      <td>0.2</td>\n",
       "      <td>setosa</td>\n",
       "    </tr>\n",
       "    <tr>\n",
       "      <th>3</th>\n",
       "      <td>4.6</td>\n",
       "      <td>3.1</td>\n",
       "      <td>1.5</td>\n",
       "      <td>0.2</td>\n",
       "      <td>setosa</td>\n",
       "    </tr>\n",
       "    <tr>\n",
       "      <th>4</th>\n",
       "      <td>5.0</td>\n",
       "      <td>3.6</td>\n",
       "      <td>1.4</td>\n",
       "      <td>0.2</td>\n",
       "      <td>setosa</td>\n",
       "    </tr>\n",
       "  </tbody>\n",
       "</table>\n",
       "</div>"
      ],
      "text/plain": [
       "   sepal_length  sepal_width  petal_length  petal_width species\n",
       "0           5.1          3.5           1.4          0.2  setosa\n",
       "1           4.9          3.0           1.4          0.2  setosa\n",
       "2           4.7          3.2           1.3          0.2  setosa\n",
       "3           4.6          3.1           1.5          0.2  setosa\n",
       "4           5.0          3.6           1.4          0.2  setosa"
      ]
     },
     "execution_count": 54,
     "metadata": {},
     "output_type": "execute_result"
    }
   ],
   "source": [
    "from seaborn import load_dataset\n",
    "iris = load_dataset(\"iris\")\n",
    "iris.head()"
   ]
  },
  {
   "cell_type": "code",
   "execution_count": 55,
   "metadata": {},
   "outputs": [
    {
     "name": "stdout",
     "output_type": "stream",
     "text": [
      "[[5.1 3.5 1.4 0.2]\n",
      " [4.9 3.  1.4 0.2]\n",
      " [4.7 3.2 1.3 0.2]\n",
      " [4.6 3.1 1.5 0.2]\n",
      " [5.  3.6 1.4 0.2]]\n",
      "[0 0 0 0 0]\n"
     ]
    }
   ],
   "source": [
    "from sklearn import datasets\n",
    "iris = datasets.load_iris()\n",
    "iris.target.shape\n",
    "print(iris.data[0:5,:])\n",
    "print(iris.target[0:5])"
   ]
  },
  {
   "cell_type": "markdown",
   "metadata": {},
   "source": [
    "Format danych zbioru `iris` w powyższym przykładzie to struktura zawierające macierz i wektro pakietu `numpy`. Format danych dostępnych w pakiecie `scikit-learn` nie jest zgodny z formatem pakietu `pandas`. Stosując poznane już narzędzia można jednak łatwo utworzyć stosowną strukturę danych."
   ]
  },
  {
   "cell_type": "code",
   "execution_count": 56,
   "metadata": {},
   "outputs": [
    {
     "data": {
      "text/html": [
       "<div>\n",
       "<style scoped>\n",
       "    .dataframe tbody tr th:only-of-type {\n",
       "        vertical-align: middle;\n",
       "    }\n",
       "\n",
       "    .dataframe tbody tr th {\n",
       "        vertical-align: top;\n",
       "    }\n",
       "\n",
       "    .dataframe thead th {\n",
       "        text-align: right;\n",
       "    }\n",
       "</style>\n",
       "<table border=\"1\" class=\"dataframe\">\n",
       "  <thead>\n",
       "    <tr style=\"text-align: right;\">\n",
       "      <th></th>\n",
       "      <th>sepal_length</th>\n",
       "      <th>sepal_width</th>\n",
       "      <th>petal_length</th>\n",
       "      <th>petal_width</th>\n",
       "      <th>species</th>\n",
       "    </tr>\n",
       "  </thead>\n",
       "  <tbody>\n",
       "    <tr>\n",
       "      <th>0</th>\n",
       "      <td>5.1</td>\n",
       "      <td>3.5</td>\n",
       "      <td>1.4</td>\n",
       "      <td>0.2</td>\n",
       "      <td>0</td>\n",
       "    </tr>\n",
       "    <tr>\n",
       "      <th>1</th>\n",
       "      <td>4.9</td>\n",
       "      <td>3.0</td>\n",
       "      <td>1.4</td>\n",
       "      <td>0.2</td>\n",
       "      <td>0</td>\n",
       "    </tr>\n",
       "    <tr>\n",
       "      <th>2</th>\n",
       "      <td>4.7</td>\n",
       "      <td>3.2</td>\n",
       "      <td>1.3</td>\n",
       "      <td>0.2</td>\n",
       "      <td>0</td>\n",
       "    </tr>\n",
       "    <tr>\n",
       "      <th>3</th>\n",
       "      <td>4.6</td>\n",
       "      <td>3.1</td>\n",
       "      <td>1.5</td>\n",
       "      <td>0.2</td>\n",
       "      <td>0</td>\n",
       "    </tr>\n",
       "    <tr>\n",
       "      <th>4</th>\n",
       "      <td>5.0</td>\n",
       "      <td>3.6</td>\n",
       "      <td>1.4</td>\n",
       "      <td>0.2</td>\n",
       "      <td>0</td>\n",
       "    </tr>\n",
       "  </tbody>\n",
       "</table>\n",
       "</div>"
      ],
      "text/plain": [
       "   sepal_length  sepal_width  petal_length  petal_width  species\n",
       "0           5.1          3.5           1.4          0.2        0\n",
       "1           4.9          3.0           1.4          0.2        0\n",
       "2           4.7          3.2           1.3          0.2        0\n",
       "3           4.6          3.1           1.5          0.2        0\n",
       "4           5.0          3.6           1.4          0.2        0"
      ]
     },
     "execution_count": 56,
     "metadata": {},
     "output_type": "execute_result"
    }
   ],
   "source": [
    "iris2 = pd.DataFrame(iris.data, columns = [\"sepal_length\",\"sepal_width\",\"petal_length\",\"petal_width\"])\n",
    "iris2['species'] = iris.target\n",
    "iris2.head()"
   ]
  },
  {
   "cell_type": "markdown",
   "metadata": {},
   "source": [
    "Innym popularnym źródłem danych są arkusze kalkulacyjne. Funkcja `read_excel` umożliwia wczytanie arkusza MS Excel."
   ]
  },
  {
   "cell_type": "code",
   "execution_count": 57,
   "metadata": {},
   "outputs": [
    {
     "name": "stdout",
     "output_type": "stream",
     "text": [
      "<class 'pandas.core.frame.DataFrame'>\n",
      "RangeIndex: 13 entries, 0 to 12\n",
      "Data columns (total 10 columns):\n",
      " #   Column      Non-Null Count  Dtype  \n",
      "---  ------      --------------  -----  \n",
      " 0   Unnamed: 0  0 non-null      float64\n",
      " 1   Unnamed: 1  12 non-null     object \n",
      " 2   Unnamed: 2  12 non-null     object \n",
      " 3   Unnamed: 3  12 non-null     object \n",
      " 4   Unnamed: 4  12 non-null     object \n",
      " 5   Unnamed: 5  12 non-null     object \n",
      " 6   Unnamed: 6  12 non-null     object \n",
      " 7   Unnamed: 7  12 non-null     object \n",
      " 8   Unnamed: 8  12 non-null     object \n",
      " 9   Unnamed: 9  12 non-null     object \n",
      "dtypes: float64(1), object(9)\n",
      "memory usage: 1.1+ KB\n",
      "None\n"
     ]
    },
    {
     "data": {
      "text/html": [
       "<div>\n",
       "<style scoped>\n",
       "    .dataframe tbody tr th:only-of-type {\n",
       "        vertical-align: middle;\n",
       "    }\n",
       "\n",
       "    .dataframe tbody tr th {\n",
       "        vertical-align: top;\n",
       "    }\n",
       "\n",
       "    .dataframe thead th {\n",
       "        text-align: right;\n",
       "    }\n",
       "</style>\n",
       "<table border=\"1\" class=\"dataframe\">\n",
       "  <thead>\n",
       "    <tr style=\"text-align: right;\">\n",
       "      <th></th>\n",
       "      <th>Unnamed: 0</th>\n",
       "      <th>Unnamed: 1</th>\n",
       "      <th>Unnamed: 2</th>\n",
       "      <th>Unnamed: 3</th>\n",
       "      <th>Unnamed: 4</th>\n",
       "      <th>Unnamed: 5</th>\n",
       "      <th>Unnamed: 6</th>\n",
       "      <th>Unnamed: 7</th>\n",
       "      <th>Unnamed: 8</th>\n",
       "      <th>Unnamed: 9</th>\n",
       "    </tr>\n",
       "  </thead>\n",
       "  <tbody>\n",
       "    <tr>\n",
       "      <th>0</th>\n",
       "      <td>NaN</td>\n",
       "      <td>NaN</td>\n",
       "      <td>NaN</td>\n",
       "      <td>NaN</td>\n",
       "      <td>NaN</td>\n",
       "      <td>NaN</td>\n",
       "      <td>NaN</td>\n",
       "      <td>NaN</td>\n",
       "      <td>NaN</td>\n",
       "      <td>NaN</td>\n",
       "    </tr>\n",
       "    <tr>\n",
       "      <th>1</th>\n",
       "      <td>NaN</td>\n",
       "      <td>Obs.</td>\n",
       "      <td>x1</td>\n",
       "      <td>y1</td>\n",
       "      <td>x2</td>\n",
       "      <td>y2</td>\n",
       "      <td>x3</td>\n",
       "      <td>y3</td>\n",
       "      <td>x4</td>\n",
       "      <td>y4</td>\n",
       "    </tr>\n",
       "    <tr>\n",
       "      <th>2</th>\n",
       "      <td>NaN</td>\n",
       "      <td>1</td>\n",
       "      <td>10</td>\n",
       "      <td>8.04</td>\n",
       "      <td>10</td>\n",
       "      <td>9.14</td>\n",
       "      <td>10</td>\n",
       "      <td>7.46</td>\n",
       "      <td>8</td>\n",
       "      <td>6.58</td>\n",
       "    </tr>\n",
       "    <tr>\n",
       "      <th>3</th>\n",
       "      <td>NaN</td>\n",
       "      <td>2</td>\n",
       "      <td>8</td>\n",
       "      <td>6.95</td>\n",
       "      <td>8</td>\n",
       "      <td>8.14</td>\n",
       "      <td>8</td>\n",
       "      <td>6.77</td>\n",
       "      <td>8</td>\n",
       "      <td>5.76</td>\n",
       "    </tr>\n",
       "    <tr>\n",
       "      <th>4</th>\n",
       "      <td>NaN</td>\n",
       "      <td>3</td>\n",
       "      <td>13</td>\n",
       "      <td>7.58</td>\n",
       "      <td>13</td>\n",
       "      <td>8.74</td>\n",
       "      <td>13</td>\n",
       "      <td>12.74</td>\n",
       "      <td>8</td>\n",
       "      <td>7.71</td>\n",
       "    </tr>\n",
       "  </tbody>\n",
       "</table>\n",
       "</div>"
      ],
      "text/plain": [
       "   Unnamed: 0 Unnamed: 1 Unnamed: 2 Unnamed: 3 Unnamed: 4 Unnamed: 5  \\\n",
       "0         NaN        NaN        NaN        NaN        NaN        NaN   \n",
       "1         NaN       Obs.         x1         y1         x2         y2   \n",
       "2         NaN          1         10       8.04         10       9.14   \n",
       "3         NaN          2          8       6.95          8       8.14   \n",
       "4         NaN          3         13       7.58         13       8.74   \n",
       "\n",
       "  Unnamed: 6 Unnamed: 7 Unnamed: 8 Unnamed: 9  \n",
       "0        NaN        NaN        NaN        NaN  \n",
       "1         x3         y3         x4         y4  \n",
       "2         10       7.46          8       6.58  \n",
       "3          8       6.77          8       5.76  \n",
       "4         13      12.74          8       7.71  "
      ]
     },
     "execution_count": 57,
     "metadata": {},
     "output_type": "execute_result"
    }
   ],
   "source": [
    "d = pd.read_excel('anscombe.xlsx')\n",
    "print(d.info())\n",
    "d.head()"
   ]
  },
  {
   "cell_type": "markdown",
   "metadata": {},
   "source": [
    "Przy pomocy dodatkowych argumentów możliwe jest precyzyjne określenie zakresu danych wczytywanych do ramki."
   ]
  },
  {
   "cell_type": "code",
   "execution_count": 58,
   "metadata": {},
   "outputs": [
    {
     "name": "stdout",
     "output_type": "stream",
     "text": [
      "<class 'pandas.core.frame.DataFrame'>\n",
      "Index: 11 entries, 1 to 11\n",
      "Data columns (total 8 columns):\n",
      " #   Column  Non-Null Count  Dtype  \n",
      "---  ------  --------------  -----  \n",
      " 0   x1      11 non-null     int64  \n",
      " 1   y1      11 non-null     float64\n",
      " 2   x2      11 non-null     int64  \n",
      " 3   y2      11 non-null     float64\n",
      " 4   x3      11 non-null     int64  \n",
      " 5   y3      11 non-null     float64\n",
      " 6   x4      11 non-null     int64  \n",
      " 7   y4      11 non-null     float64\n",
      "dtypes: float64(4), int64(4)\n",
      "memory usage: 792.0 bytes\n",
      "None\n"
     ]
    },
    {
     "data": {
      "text/html": [
       "<div>\n",
       "<style scoped>\n",
       "    .dataframe tbody tr th:only-of-type {\n",
       "        vertical-align: middle;\n",
       "    }\n",
       "\n",
       "    .dataframe tbody tr th {\n",
       "        vertical-align: top;\n",
       "    }\n",
       "\n",
       "    .dataframe thead th {\n",
       "        text-align: right;\n",
       "    }\n",
       "</style>\n",
       "<table border=\"1\" class=\"dataframe\">\n",
       "  <thead>\n",
       "    <tr style=\"text-align: right;\">\n",
       "      <th></th>\n",
       "      <th>x1</th>\n",
       "      <th>y1</th>\n",
       "      <th>x2</th>\n",
       "      <th>y2</th>\n",
       "      <th>x3</th>\n",
       "      <th>y3</th>\n",
       "      <th>x4</th>\n",
       "      <th>y4</th>\n",
       "    </tr>\n",
       "    <tr>\n",
       "      <th>Obs.</th>\n",
       "      <th></th>\n",
       "      <th></th>\n",
       "      <th></th>\n",
       "      <th></th>\n",
       "      <th></th>\n",
       "      <th></th>\n",
       "      <th></th>\n",
       "      <th></th>\n",
       "    </tr>\n",
       "  </thead>\n",
       "  <tbody>\n",
       "    <tr>\n",
       "      <th>1</th>\n",
       "      <td>10</td>\n",
       "      <td>8.04</td>\n",
       "      <td>10</td>\n",
       "      <td>9.14</td>\n",
       "      <td>10</td>\n",
       "      <td>7.46</td>\n",
       "      <td>8</td>\n",
       "      <td>6.58</td>\n",
       "    </tr>\n",
       "    <tr>\n",
       "      <th>2</th>\n",
       "      <td>8</td>\n",
       "      <td>6.95</td>\n",
       "      <td>8</td>\n",
       "      <td>8.14</td>\n",
       "      <td>8</td>\n",
       "      <td>6.77</td>\n",
       "      <td>8</td>\n",
       "      <td>5.76</td>\n",
       "    </tr>\n",
       "    <tr>\n",
       "      <th>3</th>\n",
       "      <td>13</td>\n",
       "      <td>7.58</td>\n",
       "      <td>13</td>\n",
       "      <td>8.74</td>\n",
       "      <td>13</td>\n",
       "      <td>12.74</td>\n",
       "      <td>8</td>\n",
       "      <td>7.71</td>\n",
       "    </tr>\n",
       "    <tr>\n",
       "      <th>4</th>\n",
       "      <td>9</td>\n",
       "      <td>8.81</td>\n",
       "      <td>9</td>\n",
       "      <td>8.77</td>\n",
       "      <td>9</td>\n",
       "      <td>7.11</td>\n",
       "      <td>8</td>\n",
       "      <td>8.84</td>\n",
       "    </tr>\n",
       "    <tr>\n",
       "      <th>5</th>\n",
       "      <td>11</td>\n",
       "      <td>8.33</td>\n",
       "      <td>11</td>\n",
       "      <td>9.26</td>\n",
       "      <td>11</td>\n",
       "      <td>7.81</td>\n",
       "      <td>8</td>\n",
       "      <td>8.47</td>\n",
       "    </tr>\n",
       "    <tr>\n",
       "      <th>6</th>\n",
       "      <td>14</td>\n",
       "      <td>9.96</td>\n",
       "      <td>14</td>\n",
       "      <td>8.10</td>\n",
       "      <td>14</td>\n",
       "      <td>8.84</td>\n",
       "      <td>8</td>\n",
       "      <td>7.04</td>\n",
       "    </tr>\n",
       "    <tr>\n",
       "      <th>7</th>\n",
       "      <td>6</td>\n",
       "      <td>7.24</td>\n",
       "      <td>6</td>\n",
       "      <td>6.13</td>\n",
       "      <td>6</td>\n",
       "      <td>6.08</td>\n",
       "      <td>8</td>\n",
       "      <td>5.25</td>\n",
       "    </tr>\n",
       "    <tr>\n",
       "      <th>8</th>\n",
       "      <td>4</td>\n",
       "      <td>4.26</td>\n",
       "      <td>4</td>\n",
       "      <td>3.10</td>\n",
       "      <td>4</td>\n",
       "      <td>5.39</td>\n",
       "      <td>19</td>\n",
       "      <td>12.50</td>\n",
       "    </tr>\n",
       "    <tr>\n",
       "      <th>9</th>\n",
       "      <td>12</td>\n",
       "      <td>10.84</td>\n",
       "      <td>12</td>\n",
       "      <td>9.13</td>\n",
       "      <td>12</td>\n",
       "      <td>8.15</td>\n",
       "      <td>8</td>\n",
       "      <td>5.56</td>\n",
       "    </tr>\n",
       "    <tr>\n",
       "      <th>10</th>\n",
       "      <td>7</td>\n",
       "      <td>4.82</td>\n",
       "      <td>7</td>\n",
       "      <td>7.26</td>\n",
       "      <td>7</td>\n",
       "      <td>6.42</td>\n",
       "      <td>8</td>\n",
       "      <td>7.91</td>\n",
       "    </tr>\n",
       "    <tr>\n",
       "      <th>11</th>\n",
       "      <td>5</td>\n",
       "      <td>5.68</td>\n",
       "      <td>5</td>\n",
       "      <td>4.74</td>\n",
       "      <td>5</td>\n",
       "      <td>5.73</td>\n",
       "      <td>8</td>\n",
       "      <td>6.89</td>\n",
       "    </tr>\n",
       "  </tbody>\n",
       "</table>\n",
       "</div>"
      ],
      "text/plain": [
       "      x1     y1  x2    y2  x3     y3  x4     y4\n",
       "Obs.                                           \n",
       "1     10   8.04  10  9.14  10   7.46   8   6.58\n",
       "2      8   6.95   8  8.14   8   6.77   8   5.76\n",
       "3     13   7.58  13  8.74  13  12.74   8   7.71\n",
       "4      9   8.81   9  8.77   9   7.11   8   8.84\n",
       "5     11   8.33  11  9.26  11   7.81   8   8.47\n",
       "6     14   9.96  14  8.10  14   8.84   8   7.04\n",
       "7      6   7.24   6  6.13   6   6.08   8   5.25\n",
       "8      4   4.26   4  3.10   4   5.39  19  12.50\n",
       "9     12  10.84  12  9.13  12   8.15   8   5.56\n",
       "10     7   4.82   7  7.26   7   6.42   8   7.91\n",
       "11     5   5.68   5  4.74   5   5.73   8   6.89"
      ]
     },
     "execution_count": 58,
     "metadata": {},
     "output_type": "execute_result"
    }
   ],
   "source": [
    "d = pd.read_excel('anscombe.xlsx',header = 2,usecols = range(1,10), index_col = 0)\n",
    "print(d.info())\n",
    "d"
   ]
  },
  {
   "cell_type": "markdown",
   "metadata": {},
   "source": [
    "> **Zadanie** Wczytaj plik `waluty1.xls`, zawierający kursy trzech walut w pewnym okresie czasu do ramki danych, Zapisz dane w nowej ramce danych, a następnie:\n",
    "* określ jego paramtery: liczbę obiektów, atrybutów\n",
    "* określ dla każdej waluty zmiennośc kursu w całym okresie okresie, tj. znajdzie kurs najniższy i najwyższy wskaż daty wystąpienia tych kursów (mogą przydać się funkcje `np.argmin`/`np.argmax` lub `np.idxmin`/`np.idxmax`) oraz policzy różnicę kursową.\n",
    "\n"
   ]
  },
  {
   "cell_type": "code",
   "execution_count": 59,
   "metadata": {},
   "outputs": [
    {
     "name": "stdout",
     "output_type": "stream",
     "text": [
      "Liczba obiektów: 1200\n",
      "Liczba atrybutów: 7\n",
      "Frank: \n",
      "Minimalna Wartość: 1.9596 Data: 31-7-2008\n",
      "Maksymalna Wartość: 3.3167 Data: 18-2-2009\n",
      "Różnica kursowa:  0.0\n",
      "Dolar: \n",
      "Minimalna Wartość: 2.022 Data: 21-7-2008\n",
      "Maksymalna Wartość: 3.8978 Data: 18-2-2009\n",
      "Różnica kursowa:  1.8758000000000004\n",
      "Euro: \n",
      "Minimalna Wartość: 3.2026 Data: 31-7-2008\n",
      "Maksymalna Wartość: 4.8999 Data: 18-2-2009\n",
      "Różnica kursowa:  1.6972999999999998\n",
      "Jen: \n",
      "Minimalna Wartość: 1.8937 Data: 28-7-2008\n",
      "Maksymalna Wartość: 4.2083 Data: 18-2-2009\n",
      "Różnica kursowa:  2.3146000000000004\n"
     ]
    }
   ],
   "source": [
    "file_path = 'waluty1.xlsx'\n",
    "\n",
    "zad2 = pd.read_excel(file_path)\n",
    "num_rows = zad2.shape[0]\n",
    "num_columns = zad2.shape[1]\n",
    "\n",
    "print(\"Liczba obiektów:\", num_rows)\n",
    "print(\"Liczba atrybutów:\", num_columns)\n",
    "\n",
    "min_index = zad2['CHF'].idxmin()\n",
    "max_index = zad2['CHF'].idxmax()\n",
    "column_name = 'CHF'\n",
    "column_index = zad2.columns.get_loc(column_name)\n",
    "print(\"Frank: \\nMinimalna Wartość: \", zad2.iloc[min_index,column_index],\" Data: \",\n",
    "zad2.iloc[min_index,2],\"-\",zad2.iloc[min_index,1],\"-\",zad2.iloc[min_index,0], sep='')\n",
    "print(\"Maksymalna Wartość: \", zad2.iloc[max_index,column_index],\" Data: \",\n",
    "zad2.iloc[max_index,2],\"-\",zad2.iloc[max_index,1],\"-\",zad2.iloc[max_index,0], sep='')\n",
    "print(\"Różnica kursowa: \", zad2.iloc[max_index,column_index]-zad2.iloc[max_index,column_index])\n",
    "\n",
    "min_index = zad2['USD'].idxmin()\n",
    "max_index = zad2['USD'].idxmax()\n",
    "column_name = 'USD'\n",
    "column_index = zad2.columns.get_loc(column_name)\n",
    "print(\"Dolar: \\nMinimalna Wartość: \", zad2.iloc[min_index,column_index],\" Data: \",\n",
    "zad2.iloc[min_index,2],\"-\",zad2.iloc[min_index,1],\"-\",zad2.iloc[min_index,0], sep='')\n",
    "print(\"Maksymalna Wartość: \", zad2.iloc[max_index,column_index],\" Data: \",\n",
    "zad2.iloc[max_index,2],\"-\",zad2.iloc[max_index,1],\"-\",zad2.iloc[max_index,0], sep='')\n",
    "print(\"Różnica kursowa: \", zad2.iloc[max_index,column_index]-zad2.iloc[min_index,column_index])\n",
    "\n",
    "min_index = zad2['EUR'].idxmin()\n",
    "max_index = zad2['EUR'].idxmax()\n",
    "column_name = 'EUR'\n",
    "column_index = zad2.columns.get_loc(column_name)\n",
    "print(\"Euro: \\nMinimalna Wartość: \", zad2.iloc[min_index,column_index],\" Data: \",\n",
    "zad2.iloc[min_index,2],\"-\",zad2.iloc[min_index,1],\"-\",zad2.iloc[min_index,0], sep='')\n",
    "print(\"Maksymalna Wartość: \", zad2.iloc[max_index,column_index],\" Data: \",\n",
    "zad2.iloc[max_index,2],\"-\",zad2.iloc[max_index,1],\"-\",zad2.iloc[max_index,0], sep='')\n",
    "print(\"Różnica kursowa: \", zad2.iloc[max_index,column_index]-zad2.iloc[min_index,column_index])\n",
    "\n",
    "min_index = zad2['JPY'].idxmin()\n",
    "max_index = zad2['JPY'].idxmax()\n",
    "column_name = 'JPY'\n",
    "column_index = zad2.columns.get_loc(column_name)\n",
    "print(\"Jen: \\nMinimalna Wartość: \", zad2.iloc[min_index,column_index],\" Data: \",\n",
    "zad2.iloc[min_index,2],\"-\",zad2.iloc[min_index,1],\"-\",zad2.iloc[min_index,0], sep='')\n",
    "print(\"Maksymalna Wartość: \", zad2.iloc[max_index,column_index],\" Data: \",\n",
    "zad2.iloc[max_index,2],\"-\",zad2.iloc[max_index,1],\"-\",zad2.iloc[max_index,0], sep='')\n",
    "print(\"Różnica kursowa: \", zad2.iloc[max_index,column_index]-zad2.iloc[min_index,column_index])"
   ]
  },
  {
   "cell_type": "markdown",
   "metadata": {},
   "source": [
    "Odczyt danych możliwy jest także z pliku `html` znajdującego się pod wskazanym adresem. Poniższy przykład pokazuje pobieranie danych o [państwach świata](http://www.worldometers.info/geography/alphabetical-list-of-countries/)."
   ]
  },
  {
   "cell_type": "code",
   "execution_count": 60,
   "metadata": {},
   "outputs": [
    {
     "data": {
      "text/html": [
       "<div>\n",
       "<style scoped>\n",
       "    .dataframe tbody tr th:only-of-type {\n",
       "        vertical-align: middle;\n",
       "    }\n",
       "\n",
       "    .dataframe tbody tr th {\n",
       "        vertical-align: top;\n",
       "    }\n",
       "\n",
       "    .dataframe thead th {\n",
       "        text-align: right;\n",
       "    }\n",
       "</style>\n",
       "<table border=\"1\" class=\"dataframe\">\n",
       "  <thead>\n",
       "    <tr style=\"text-align: right;\">\n",
       "      <th></th>\n",
       "      <th>#</th>\n",
       "      <th>Country</th>\n",
       "      <th>Population (2023)</th>\n",
       "      <th>Land Area  (Km²)</th>\n",
       "      <th>Density (P/Km²)</th>\n",
       "    </tr>\n",
       "  </thead>\n",
       "  <tbody>\n",
       "    <tr>\n",
       "      <th>0</th>\n",
       "      <td>1</td>\n",
       "      <td>Afghanistan</td>\n",
       "      <td>42239854</td>\n",
       "      <td>652860</td>\n",
       "      <td>65</td>\n",
       "    </tr>\n",
       "    <tr>\n",
       "      <th>1</th>\n",
       "      <td>2</td>\n",
       "      <td>Albania</td>\n",
       "      <td>2832439</td>\n",
       "      <td>27400</td>\n",
       "      <td>103</td>\n",
       "    </tr>\n",
       "    <tr>\n",
       "      <th>2</th>\n",
       "      <td>3</td>\n",
       "      <td>Algeria</td>\n",
       "      <td>45606480</td>\n",
       "      <td>2381740</td>\n",
       "      <td>19</td>\n",
       "    </tr>\n",
       "    <tr>\n",
       "      <th>3</th>\n",
       "      <td>4</td>\n",
       "      <td>Andorra</td>\n",
       "      <td>80088</td>\n",
       "      <td>470</td>\n",
       "      <td>170</td>\n",
       "    </tr>\n",
       "    <tr>\n",
       "      <th>4</th>\n",
       "      <td>5</td>\n",
       "      <td>Angola</td>\n",
       "      <td>36684202</td>\n",
       "      <td>1246700</td>\n",
       "      <td>29</td>\n",
       "    </tr>\n",
       "    <tr>\n",
       "      <th>...</th>\n",
       "      <td>...</td>\n",
       "      <td>...</td>\n",
       "      <td>...</td>\n",
       "      <td>...</td>\n",
       "      <td>...</td>\n",
       "    </tr>\n",
       "    <tr>\n",
       "      <th>190</th>\n",
       "      <td>191</td>\n",
       "      <td>Venezuela</td>\n",
       "      <td>28838499</td>\n",
       "      <td>882050</td>\n",
       "      <td>33</td>\n",
       "    </tr>\n",
       "    <tr>\n",
       "      <th>191</th>\n",
       "      <td>192</td>\n",
       "      <td>Vietnam</td>\n",
       "      <td>98858950</td>\n",
       "      <td>310070</td>\n",
       "      <td>319</td>\n",
       "    </tr>\n",
       "    <tr>\n",
       "      <th>192</th>\n",
       "      <td>193</td>\n",
       "      <td>Yemen</td>\n",
       "      <td>34449825</td>\n",
       "      <td>527970</td>\n",
       "      <td>65</td>\n",
       "    </tr>\n",
       "    <tr>\n",
       "      <th>193</th>\n",
       "      <td>194</td>\n",
       "      <td>Zambia</td>\n",
       "      <td>20569737</td>\n",
       "      <td>743390</td>\n",
       "      <td>28</td>\n",
       "    </tr>\n",
       "    <tr>\n",
       "      <th>194</th>\n",
       "      <td>195</td>\n",
       "      <td>Zimbabwe</td>\n",
       "      <td>16665409</td>\n",
       "      <td>386850</td>\n",
       "      <td>43</td>\n",
       "    </tr>\n",
       "  </tbody>\n",
       "</table>\n",
       "<p>195 rows × 5 columns</p>\n",
       "</div>"
      ],
      "text/plain": [
       "       #      Country  Population (2023)  Land Area  (Km²)  Density (P/Km²)\n",
       "0      1  Afghanistan           42239854            652860               65\n",
       "1      2      Albania            2832439             27400              103\n",
       "2      3      Algeria           45606480           2381740               19\n",
       "3      4      Andorra              80088               470              170\n",
       "4      5       Angola           36684202           1246700               29\n",
       "..   ...          ...                ...               ...              ...\n",
       "190  191    Venezuela           28838499            882050               33\n",
       "191  192      Vietnam           98858950            310070              319\n",
       "192  193        Yemen           34449825            527970               65\n",
       "193  194       Zambia           20569737            743390               28\n",
       "194  195     Zimbabwe           16665409            386850               43\n",
       "\n",
       "[195 rows x 5 columns]"
      ]
     },
     "execution_count": 60,
     "metadata": {},
     "output_type": "execute_result"
    }
   ],
   "source": [
    "import pandas as pd\n",
    "d = pd.read_html('http://www.worldometers.info/geography/alphabetical-list-of-countries/')\n",
    "d[0]"
   ]
  },
  {
   "cell_type": "markdown",
   "metadata": {},
   "source": [
    "Powyższy przykład pokazuje import danych z prostej tablicy `html`. W przypadku bardziej złożonych danych prawidłowe sformatowanie danych wymaga analizy kodu html oraz odpowiedniego ustawienia argumentów wywołania metody `read_html`. "
   ]
  },
  {
   "cell_type": "markdown",
   "metadata": {},
   "source": [
    "## 2.2 Łączenie ramek"
   ]
  },
  {
   "cell_type": "markdown",
   "metadata": {},
   "source": [
    "Ramki danych mogą być na różne sposoby ze sobą łączone. "
   ]
  },
  {
   "cell_type": "code",
   "execution_count": 61,
   "metadata": {},
   "outputs": [
    {
     "data": {
      "text/html": [
       "<div>\n",
       "<style scoped>\n",
       "    .dataframe tbody tr th:only-of-type {\n",
       "        vertical-align: middle;\n",
       "    }\n",
       "\n",
       "    .dataframe tbody tr th {\n",
       "        vertical-align: top;\n",
       "    }\n",
       "\n",
       "    .dataframe thead th {\n",
       "        text-align: right;\n",
       "    }\n",
       "</style>\n",
       "<table border=\"1\" class=\"dataframe\">\n",
       "  <thead>\n",
       "    <tr style=\"text-align: right;\">\n",
       "      <th></th>\n",
       "      <th>0</th>\n",
       "      <th>1</th>\n",
       "      <th>2</th>\n",
       "      <th>3</th>\n",
       "    </tr>\n",
       "  </thead>\n",
       "  <tbody>\n",
       "    <tr>\n",
       "      <th>0</th>\n",
       "      <td>-1.948017</td>\n",
       "      <td>-1.650046</td>\n",
       "      <td>1.363029</td>\n",
       "      <td>0.377467</td>\n",
       "    </tr>\n",
       "    <tr>\n",
       "      <th>1</th>\n",
       "      <td>3.063948</td>\n",
       "      <td>0.915267</td>\n",
       "      <td>-1.080437</td>\n",
       "      <td>1.402814</td>\n",
       "    </tr>\n",
       "    <tr>\n",
       "      <th>2</th>\n",
       "      <td>-1.085421</td>\n",
       "      <td>-0.780688</td>\n",
       "      <td>-0.254649</td>\n",
       "      <td>0.760756</td>\n",
       "    </tr>\n",
       "    <tr>\n",
       "      <th>3</th>\n",
       "      <td>0.636659</td>\n",
       "      <td>0.126032</td>\n",
       "      <td>-0.448813</td>\n",
       "      <td>1.018124</td>\n",
       "    </tr>\n",
       "    <tr>\n",
       "      <th>4</th>\n",
       "      <td>0.015473</td>\n",
       "      <td>2.338651</td>\n",
       "      <td>1.047647</td>\n",
       "      <td>-0.571256</td>\n",
       "    </tr>\n",
       "    <tr>\n",
       "      <th>5</th>\n",
       "      <td>0.022346</td>\n",
       "      <td>1.616859</td>\n",
       "      <td>0.287102</td>\n",
       "      <td>0.235081</td>\n",
       "    </tr>\n",
       "    <tr>\n",
       "      <th>6</th>\n",
       "      <td>0.325867</td>\n",
       "      <td>-0.237983</td>\n",
       "      <td>0.752406</td>\n",
       "      <td>0.412413</td>\n",
       "    </tr>\n",
       "    <tr>\n",
       "      <th>7</th>\n",
       "      <td>-2.093569</td>\n",
       "      <td>0.733753</td>\n",
       "      <td>-1.296460</td>\n",
       "      <td>0.733940</td>\n",
       "    </tr>\n",
       "    <tr>\n",
       "      <th>8</th>\n",
       "      <td>-0.546738</td>\n",
       "      <td>0.578649</td>\n",
       "      <td>2.069187</td>\n",
       "      <td>0.562169</td>\n",
       "    </tr>\n",
       "    <tr>\n",
       "      <th>9</th>\n",
       "      <td>-0.172290</td>\n",
       "      <td>1.211387</td>\n",
       "      <td>0.888383</td>\n",
       "      <td>0.509995</td>\n",
       "    </tr>\n",
       "  </tbody>\n",
       "</table>\n",
       "</div>"
      ],
      "text/plain": [
       "          0         1         2         3\n",
       "0 -1.948017 -1.650046  1.363029  0.377467\n",
       "1  3.063948  0.915267 -1.080437  1.402814\n",
       "2 -1.085421 -0.780688 -0.254649  0.760756\n",
       "3  0.636659  0.126032 -0.448813  1.018124\n",
       "4  0.015473  2.338651  1.047647 -0.571256\n",
       "5  0.022346  1.616859  0.287102  0.235081\n",
       "6  0.325867 -0.237983  0.752406  0.412413\n",
       "7 -2.093569  0.733753 -1.296460  0.733940\n",
       "8 -0.546738  0.578649  2.069187  0.562169\n",
       "9 -0.172290  1.211387  0.888383  0.509995"
      ]
     },
     "execution_count": 61,
     "metadata": {},
     "output_type": "execute_result"
    }
   ],
   "source": [
    "df = pd.DataFrame(np.random.randn(10, 4))\n",
    "df"
   ]
  },
  {
   "cell_type": "markdown",
   "metadata": {},
   "source": [
    "Dzielimy na trzy części"
   ]
  },
  {
   "cell_type": "code",
   "execution_count": 62,
   "metadata": {},
   "outputs": [
    {
     "data": {
      "text/plain": [
       "[          0         1         2         3\n",
       " 7 -2.093569  0.733753 -1.296460  0.733940\n",
       " 8 -0.546738  0.578649  2.069187  0.562169\n",
       " 9 -0.172290  1.211387  0.888383  0.509995,\n",
       "           0         1         2         3\n",
       " 3  0.636659  0.126032 -0.448813  1.018124\n",
       " 4  0.015473  2.338651  1.047647 -0.571256\n",
       " 5  0.022346  1.616859  0.287102  0.235081\n",
       " 6  0.325867 -0.237983  0.752406  0.412413,\n",
       "           0         1         2         3\n",
       " 0 -1.948017 -1.650046  1.363029  0.377467\n",
       " 1  3.063948  0.915267 -1.080437  1.402814\n",
       " 2 -1.085421 -0.780688 -0.254649  0.760756]"
      ]
     },
     "execution_count": 62,
     "metadata": {},
     "output_type": "execute_result"
    }
   ],
   "source": [
    "pieces = [df[7:], df[3:7], df[:3]]\n",
    "pieces"
   ]
  },
  {
   "cell_type": "markdown",
   "metadata": {},
   "source": [
    "Metoda `concat` pozwala na sklejenie kilku ramek danych o takich samych artybutach w jedną."
   ]
  },
  {
   "cell_type": "code",
   "execution_count": 63,
   "metadata": {},
   "outputs": [
    {
     "data": {
      "text/html": [
       "<div>\n",
       "<style scoped>\n",
       "    .dataframe tbody tr th:only-of-type {\n",
       "        vertical-align: middle;\n",
       "    }\n",
       "\n",
       "    .dataframe tbody tr th {\n",
       "        vertical-align: top;\n",
       "    }\n",
       "\n",
       "    .dataframe thead th {\n",
       "        text-align: right;\n",
       "    }\n",
       "</style>\n",
       "<table border=\"1\" class=\"dataframe\">\n",
       "  <thead>\n",
       "    <tr style=\"text-align: right;\">\n",
       "      <th></th>\n",
       "      <th>0</th>\n",
       "      <th>1</th>\n",
       "      <th>2</th>\n",
       "      <th>3</th>\n",
       "    </tr>\n",
       "  </thead>\n",
       "  <tbody>\n",
       "    <tr>\n",
       "      <th>7</th>\n",
       "      <td>-2.093569</td>\n",
       "      <td>0.733753</td>\n",
       "      <td>-1.296460</td>\n",
       "      <td>0.733940</td>\n",
       "    </tr>\n",
       "    <tr>\n",
       "      <th>8</th>\n",
       "      <td>-0.546738</td>\n",
       "      <td>0.578649</td>\n",
       "      <td>2.069187</td>\n",
       "      <td>0.562169</td>\n",
       "    </tr>\n",
       "    <tr>\n",
       "      <th>9</th>\n",
       "      <td>-0.172290</td>\n",
       "      <td>1.211387</td>\n",
       "      <td>0.888383</td>\n",
       "      <td>0.509995</td>\n",
       "    </tr>\n",
       "    <tr>\n",
       "      <th>3</th>\n",
       "      <td>0.636659</td>\n",
       "      <td>0.126032</td>\n",
       "      <td>-0.448813</td>\n",
       "      <td>1.018124</td>\n",
       "    </tr>\n",
       "    <tr>\n",
       "      <th>4</th>\n",
       "      <td>0.015473</td>\n",
       "      <td>2.338651</td>\n",
       "      <td>1.047647</td>\n",
       "      <td>-0.571256</td>\n",
       "    </tr>\n",
       "    <tr>\n",
       "      <th>5</th>\n",
       "      <td>0.022346</td>\n",
       "      <td>1.616859</td>\n",
       "      <td>0.287102</td>\n",
       "      <td>0.235081</td>\n",
       "    </tr>\n",
       "    <tr>\n",
       "      <th>6</th>\n",
       "      <td>0.325867</td>\n",
       "      <td>-0.237983</td>\n",
       "      <td>0.752406</td>\n",
       "      <td>0.412413</td>\n",
       "    </tr>\n",
       "    <tr>\n",
       "      <th>0</th>\n",
       "      <td>-1.948017</td>\n",
       "      <td>-1.650046</td>\n",
       "      <td>1.363029</td>\n",
       "      <td>0.377467</td>\n",
       "    </tr>\n",
       "    <tr>\n",
       "      <th>1</th>\n",
       "      <td>3.063948</td>\n",
       "      <td>0.915267</td>\n",
       "      <td>-1.080437</td>\n",
       "      <td>1.402814</td>\n",
       "    </tr>\n",
       "    <tr>\n",
       "      <th>2</th>\n",
       "      <td>-1.085421</td>\n",
       "      <td>-0.780688</td>\n",
       "      <td>-0.254649</td>\n",
       "      <td>0.760756</td>\n",
       "    </tr>\n",
       "  </tbody>\n",
       "</table>\n",
       "</div>"
      ],
      "text/plain": [
       "          0         1         2         3\n",
       "7 -2.093569  0.733753 -1.296460  0.733940\n",
       "8 -0.546738  0.578649  2.069187  0.562169\n",
       "9 -0.172290  1.211387  0.888383  0.509995\n",
       "3  0.636659  0.126032 -0.448813  1.018124\n",
       "4  0.015473  2.338651  1.047647 -0.571256\n",
       "5  0.022346  1.616859  0.287102  0.235081\n",
       "6  0.325867 -0.237983  0.752406  0.412413\n",
       "0 -1.948017 -1.650046  1.363029  0.377467\n",
       "1  3.063948  0.915267 -1.080437  1.402814\n",
       "2 -1.085421 -0.780688 -0.254649  0.760756"
      ]
     },
     "execution_count": 63,
     "metadata": {},
     "output_type": "execute_result"
    }
   ],
   "source": [
    "pd.concat(pieces)"
   ]
  },
  {
   "cell_type": "markdown",
   "metadata": {},
   "source": [
    "Metoda `merge` pozwala na łączenie ramek w sposób zbliżonych do metod znanych z baz danych."
   ]
  },
  {
   "cell_type": "code",
   "execution_count": 64,
   "metadata": {},
   "outputs": [
    {
     "name": "stdout",
     "output_type": "stream",
     "text": [
      "   key  lval\n",
      "0  foo     1\n",
      "1  foo     2\n",
      "\n",
      "\n",
      "   key  rval\n",
      "0  foo     4\n",
      "1  foo     5\n"
     ]
    },
    {
     "data": {
      "text/html": [
       "<div>\n",
       "<style scoped>\n",
       "    .dataframe tbody tr th:only-of-type {\n",
       "        vertical-align: middle;\n",
       "    }\n",
       "\n",
       "    .dataframe tbody tr th {\n",
       "        vertical-align: top;\n",
       "    }\n",
       "\n",
       "    .dataframe thead th {\n",
       "        text-align: right;\n",
       "    }\n",
       "</style>\n",
       "<table border=\"1\" class=\"dataframe\">\n",
       "  <thead>\n",
       "    <tr style=\"text-align: right;\">\n",
       "      <th></th>\n",
       "      <th>key</th>\n",
       "      <th>lval</th>\n",
       "      <th>rval</th>\n",
       "    </tr>\n",
       "  </thead>\n",
       "  <tbody>\n",
       "    <tr>\n",
       "      <th>0</th>\n",
       "      <td>foo</td>\n",
       "      <td>1</td>\n",
       "      <td>4</td>\n",
       "    </tr>\n",
       "    <tr>\n",
       "      <th>1</th>\n",
       "      <td>foo</td>\n",
       "      <td>1</td>\n",
       "      <td>5</td>\n",
       "    </tr>\n",
       "    <tr>\n",
       "      <th>2</th>\n",
       "      <td>foo</td>\n",
       "      <td>2</td>\n",
       "      <td>4</td>\n",
       "    </tr>\n",
       "    <tr>\n",
       "      <th>3</th>\n",
       "      <td>foo</td>\n",
       "      <td>2</td>\n",
       "      <td>5</td>\n",
       "    </tr>\n",
       "  </tbody>\n",
       "</table>\n",
       "</div>"
      ],
      "text/plain": [
       "   key  lval  rval\n",
       "0  foo     1     4\n",
       "1  foo     1     5\n",
       "2  foo     2     4\n",
       "3  foo     2     5"
      ]
     },
     "execution_count": 64,
     "metadata": {},
     "output_type": "execute_result"
    }
   ],
   "source": [
    "left = pd.DataFrame({'key': ['foo', 'foo'], 'lval': [1, 2]})\n",
    "right = pd.DataFrame({'key': ['foo', 'foo'], 'rval': [4, 5]})\n",
    "print(left)\n",
    "print(\"\\n\")\n",
    "print(right)\n",
    "pd.merge(left, right, on='key')"
   ]
  },
  {
   "cell_type": "code",
   "execution_count": 65,
   "metadata": {},
   "outputs": [
    {
     "name": "stdout",
     "output_type": "stream",
     "text": [
      "   key  lval\n",
      "0  foo     1\n",
      "1  bar     2\n",
      "\n",
      "\n",
      "   key  rval\n",
      "0  foo     4\n",
      "1  bar     5\n"
     ]
    },
    {
     "data": {
      "text/html": [
       "<div>\n",
       "<style scoped>\n",
       "    .dataframe tbody tr th:only-of-type {\n",
       "        vertical-align: middle;\n",
       "    }\n",
       "\n",
       "    .dataframe tbody tr th {\n",
       "        vertical-align: top;\n",
       "    }\n",
       "\n",
       "    .dataframe thead th {\n",
       "        text-align: right;\n",
       "    }\n",
       "</style>\n",
       "<table border=\"1\" class=\"dataframe\">\n",
       "  <thead>\n",
       "    <tr style=\"text-align: right;\">\n",
       "      <th></th>\n",
       "      <th>key</th>\n",
       "      <th>lval</th>\n",
       "      <th>rval</th>\n",
       "    </tr>\n",
       "  </thead>\n",
       "  <tbody>\n",
       "    <tr>\n",
       "      <th>0</th>\n",
       "      <td>foo</td>\n",
       "      <td>1</td>\n",
       "      <td>4</td>\n",
       "    </tr>\n",
       "    <tr>\n",
       "      <th>1</th>\n",
       "      <td>bar</td>\n",
       "      <td>2</td>\n",
       "      <td>5</td>\n",
       "    </tr>\n",
       "  </tbody>\n",
       "</table>\n",
       "</div>"
      ],
      "text/plain": [
       "   key  lval  rval\n",
       "0  foo     1     4\n",
       "1  bar     2     5"
      ]
     },
     "execution_count": 65,
     "metadata": {},
     "output_type": "execute_result"
    }
   ],
   "source": [
    "left = pd.DataFrame({'key': ['foo', 'bar'], 'lval': [1, 2]})\n",
    "right = pd.DataFrame({'key': ['foo', 'bar'], 'rval': [4, 5]})\n",
    "print(left)\n",
    "print(\"\\n\")\n",
    "print(right)\n",
    "pd.merge(left, right, on='key')"
   ]
  },
  {
   "cell_type": "markdown",
   "metadata": {},
   "source": [
    "Metoda `append` pozwala na dodanie nowych obiektów do ramki danych."
   ]
  },
  {
   "cell_type": "code",
   "execution_count": 66,
   "metadata": {},
   "outputs": [
    {
     "name": "stdout",
     "output_type": "stream",
     "text": [
      "          A         B         C         D\n",
      "0  0.426757  1.216640 -2.402483  1.351271\n",
      "1  0.691072  0.253178 -1.061529  0.623168\n",
      "2 -1.433031  0.275721 -0.105819  1.784931\n",
      "3  1.428591  0.254374  0.260681  0.454250\n",
      "4 -0.372658 -0.265405 -1.293842 -1.741895\n",
      "5  1.549804  1.736024 -0.016499 -1.196614\n",
      "6 -0.796270 -1.019308 -0.518785 -1.949522\n",
      "7  0.969574 -0.698019 -0.687265 -0.096654\n",
      "\n",
      "\n",
      "          A         B         C         D\n",
      "0  2.278586 -2.356588  2.818564  0.198783\n",
      "          A         B         C         D\n",
      "0  0.426757  1.216640 -2.402483  1.351271\n",
      "1  0.691072  0.253178 -1.061529  0.623168\n",
      "2 -1.433031  0.275721 -0.105819  1.784931\n",
      "3  1.428591  0.254374  0.260681  0.454250\n",
      "4 -0.372658 -0.265405 -1.293842 -1.741895\n",
      "5  1.549804  1.736024 -0.016499 -1.196614\n",
      "6 -0.796270 -1.019308 -0.518785 -1.949522\n",
      "7  0.969574 -0.698019 -0.687265 -0.096654\n",
      "8  2.278586 -2.356588  2.818564  0.198783\n",
      "\n",
      "\n",
      "          A         B         C         D\n",
      "0  0.426757  1.216640 -2.402483  1.351271\n",
      "1  0.691072  0.253178 -1.061529  0.623168\n",
      "2 -1.433031  0.275721 -0.105819  1.784931\n",
      "3  1.428591  0.254374  0.260681  0.454250\n",
      "4 -0.372658 -0.265405 -1.293842 -1.741895\n",
      "5  1.549804  1.736024 -0.016499 -1.196614\n",
      "6 -0.796270 -1.019308 -0.518785 -1.949522\n",
      "7  0.969574 -0.698019 -0.687265 -0.096654\n",
      "8  2.278586 -2.356588  2.818564  0.198783\n",
      "0  2.278586 -2.356588  2.818564  0.198783\n"
     ]
    }
   ],
   "source": [
    "df = pd.DataFrame(np.random.randn(8, 4), columns=['A', 'B', 'C', 'D'])\n",
    "print(df)\n",
    "print(\"\\n\")\n",
    "s = pd.DataFrame(np.random.randn(1, 4), columns=['A', 'B', 'C', 'D'])\n",
    "print(s)\n",
    "df = pd.concat([df, pd.DataFrame(s)], ignore_index=True)\n",
    "print(df)\n",
    "print(\"\\n\")\n",
    "df = pd.concat([df, pd.DataFrame(s)])\n",
    "print(df)"
   ]
  },
  {
   "cell_type": "code",
   "execution_count": 67,
   "metadata": {},
   "outputs": [
    {
     "data": {
      "text/html": [
       "<div>\n",
       "<style scoped>\n",
       "    .dataframe tbody tr th:only-of-type {\n",
       "        vertical-align: middle;\n",
       "    }\n",
       "\n",
       "    .dataframe tbody tr th {\n",
       "        vertical-align: top;\n",
       "    }\n",
       "\n",
       "    .dataframe thead th {\n",
       "        text-align: right;\n",
       "    }\n",
       "</style>\n",
       "<table border=\"1\" class=\"dataframe\">\n",
       "  <thead>\n",
       "    <tr style=\"text-align: right;\">\n",
       "      <th></th>\n",
       "      <th>A</th>\n",
       "      <th>B</th>\n",
       "      <th>C</th>\n",
       "      <th>D</th>\n",
       "    </tr>\n",
       "  </thead>\n",
       "  <tbody>\n",
       "    <tr>\n",
       "      <th>0</th>\n",
       "      <td>foo</td>\n",
       "      <td>one</td>\n",
       "      <td>-0.753875</td>\n",
       "      <td>-0.389721</td>\n",
       "    </tr>\n",
       "    <tr>\n",
       "      <th>1</th>\n",
       "      <td>bar</td>\n",
       "      <td>one</td>\n",
       "      <td>-0.744663</td>\n",
       "      <td>-0.983013</td>\n",
       "    </tr>\n",
       "    <tr>\n",
       "      <th>2</th>\n",
       "      <td>foo</td>\n",
       "      <td>two</td>\n",
       "      <td>1.031300</td>\n",
       "      <td>0.766443</td>\n",
       "    </tr>\n",
       "    <tr>\n",
       "      <th>3</th>\n",
       "      <td>bar</td>\n",
       "      <td>three</td>\n",
       "      <td>0.908852</td>\n",
       "      <td>0.140776</td>\n",
       "    </tr>\n",
       "    <tr>\n",
       "      <th>4</th>\n",
       "      <td>foo</td>\n",
       "      <td>two</td>\n",
       "      <td>0.513556</td>\n",
       "      <td>0.951825</td>\n",
       "    </tr>\n",
       "    <tr>\n",
       "      <th>5</th>\n",
       "      <td>bar</td>\n",
       "      <td>two</td>\n",
       "      <td>1.058661</td>\n",
       "      <td>-0.870979</td>\n",
       "    </tr>\n",
       "    <tr>\n",
       "      <th>6</th>\n",
       "      <td>foo</td>\n",
       "      <td>one</td>\n",
       "      <td>-0.733481</td>\n",
       "      <td>0.866312</td>\n",
       "    </tr>\n",
       "    <tr>\n",
       "      <th>7</th>\n",
       "      <td>foo</td>\n",
       "      <td>three</td>\n",
       "      <td>2.392221</td>\n",
       "      <td>-0.808391</td>\n",
       "    </tr>\n",
       "  </tbody>\n",
       "</table>\n",
       "</div>"
      ],
      "text/plain": [
       "     A      B         C         D\n",
       "0  foo    one -0.753875 -0.389721\n",
       "1  bar    one -0.744663 -0.983013\n",
       "2  foo    two  1.031300  0.766443\n",
       "3  bar  three  0.908852  0.140776\n",
       "4  foo    two  0.513556  0.951825\n",
       "5  bar    two  1.058661 -0.870979\n",
       "6  foo    one -0.733481  0.866312\n",
       "7  foo  three  2.392221 -0.808391"
      ]
     },
     "execution_count": 67,
     "metadata": {},
     "output_type": "execute_result"
    }
   ],
   "source": [
    "df = pd.DataFrame({'A': ['foo', 'bar', 'foo', 'bar', 'foo', 'bar', 'foo', 'foo'],\n",
    "   ....:            'B': ['one', 'one', 'two', 'three', 'two', 'two', 'one', 'three'],\n",
    "   ....:            'C': np.random.randn(8),\n",
    "   ....:            'D': np.random.randn(8)})\n",
    "df"
   ]
  },
  {
   "cell_type": "markdown",
   "metadata": {},
   "source": [
    "Metoda `groupby` pozwala na grupowanie obiektów o takich samych wartościach wybranych atrybutów jednocześnie ustalając wartości pozostałych atrybutów zgodnie z ustalona regułą (np. jako sumę).  "
   ]
  },
  {
   "cell_type": "code",
   "execution_count": 68,
   "metadata": {},
   "outputs": [
    {
     "data": {
      "text/html": [
       "<div>\n",
       "<style scoped>\n",
       "    .dataframe tbody tr th:only-of-type {\n",
       "        vertical-align: middle;\n",
       "    }\n",
       "\n",
       "    .dataframe tbody tr th {\n",
       "        vertical-align: top;\n",
       "    }\n",
       "\n",
       "    .dataframe thead th {\n",
       "        text-align: right;\n",
       "    }\n",
       "</style>\n",
       "<table border=\"1\" class=\"dataframe\">\n",
       "  <thead>\n",
       "    <tr style=\"text-align: right;\">\n",
       "      <th></th>\n",
       "      <th>B</th>\n",
       "      <th>C</th>\n",
       "      <th>D</th>\n",
       "    </tr>\n",
       "    <tr>\n",
       "      <th>A</th>\n",
       "      <th></th>\n",
       "      <th></th>\n",
       "      <th></th>\n",
       "    </tr>\n",
       "  </thead>\n",
       "  <tbody>\n",
       "    <tr>\n",
       "      <th>bar</th>\n",
       "      <td>onethreetwo</td>\n",
       "      <td>1.222851</td>\n",
       "      <td>-1.713216</td>\n",
       "    </tr>\n",
       "    <tr>\n",
       "      <th>foo</th>\n",
       "      <td>onetwotwoonethree</td>\n",
       "      <td>2.449720</td>\n",
       "      <td>1.386468</td>\n",
       "    </tr>\n",
       "  </tbody>\n",
       "</table>\n",
       "</div>"
      ],
      "text/plain": [
       "                     B         C         D\n",
       "A                                         \n",
       "bar        onethreetwo  1.222851 -1.713216\n",
       "foo  onetwotwoonethree  2.449720  1.386468"
      ]
     },
     "execution_count": 68,
     "metadata": {},
     "output_type": "execute_result"
    }
   ],
   "source": [
    "df.groupby('A').sum()"
   ]
  },
  {
   "cell_type": "code",
   "execution_count": 69,
   "metadata": {},
   "outputs": [
    {
     "data": {
      "text/html": [
       "<div>\n",
       "<style scoped>\n",
       "    .dataframe tbody tr th:only-of-type {\n",
       "        vertical-align: middle;\n",
       "    }\n",
       "\n",
       "    .dataframe tbody tr th {\n",
       "        vertical-align: top;\n",
       "    }\n",
       "\n",
       "    .dataframe thead th {\n",
       "        text-align: right;\n",
       "    }\n",
       "</style>\n",
       "<table border=\"1\" class=\"dataframe\">\n",
       "  <thead>\n",
       "    <tr style=\"text-align: right;\">\n",
       "      <th></th>\n",
       "      <th></th>\n",
       "      <th>C</th>\n",
       "      <th>D</th>\n",
       "    </tr>\n",
       "    <tr>\n",
       "      <th>A</th>\n",
       "      <th>B</th>\n",
       "      <th></th>\n",
       "      <th></th>\n",
       "    </tr>\n",
       "  </thead>\n",
       "  <tbody>\n",
       "    <tr>\n",
       "      <th rowspan=\"3\" valign=\"top\">bar</th>\n",
       "      <th>one</th>\n",
       "      <td>-0.744663</td>\n",
       "      <td>-0.983013</td>\n",
       "    </tr>\n",
       "    <tr>\n",
       "      <th>three</th>\n",
       "      <td>0.908852</td>\n",
       "      <td>0.140776</td>\n",
       "    </tr>\n",
       "    <tr>\n",
       "      <th>two</th>\n",
       "      <td>1.058661</td>\n",
       "      <td>-0.870979</td>\n",
       "    </tr>\n",
       "    <tr>\n",
       "      <th rowspan=\"3\" valign=\"top\">foo</th>\n",
       "      <th>one</th>\n",
       "      <td>-1.487357</td>\n",
       "      <td>0.476590</td>\n",
       "    </tr>\n",
       "    <tr>\n",
       "      <th>three</th>\n",
       "      <td>2.392221</td>\n",
       "      <td>-0.808391</td>\n",
       "    </tr>\n",
       "    <tr>\n",
       "      <th>two</th>\n",
       "      <td>1.544856</td>\n",
       "      <td>1.718268</td>\n",
       "    </tr>\n",
       "  </tbody>\n",
       "</table>\n",
       "</div>"
      ],
      "text/plain": [
       "                  C         D\n",
       "A   B                        \n",
       "bar one   -0.744663 -0.983013\n",
       "    three  0.908852  0.140776\n",
       "    two    1.058661 -0.870979\n",
       "foo one   -1.487357  0.476590\n",
       "    three  2.392221 -0.808391\n",
       "    two    1.544856  1.718268"
      ]
     },
     "execution_count": 69,
     "metadata": {},
     "output_type": "execute_result"
    }
   ],
   "source": [
    "df.groupby(['A', 'B']).sum()"
   ]
  },
  {
   "cell_type": "markdown",
   "metadata": {},
   "source": [
    "#  3. Szeregi czasowe"
   ]
  },
  {
   "cell_type": "markdown",
   "metadata": {},
   "source": [
    "## 3.1 Specyfika szeregów czasowych"
   ]
  },
  {
   "cell_type": "markdown",
   "metadata": {},
   "source": [
    "Specyficznym rodzajem serii lub ramki danych sa szeregi czasowe. Charakteryzują się one indeksem wskazującym na kolejne chwile czasowe, w których następowały pomiary wartości atrybutów (cech). Chwile te najczęściej są definiowane w regularnych interwałach czasowych odnoszących się do różnych jednostek czasu (sekund, minut, godzin, dni, miesięcy, lat)."
   ]
  },
  {
   "cell_type": "markdown",
   "metadata": {},
   "source": [
    "Zakres chwil czasowych uzyskujemy stosując metodę `date_range`, której argumentami są dane o szeregu czasowym, np. moment początkowy i liczba interwałów czasowych."
   ]
  },
  {
   "cell_type": "code",
   "execution_count": 70,
   "metadata": {},
   "outputs": [
    {
     "data": {
      "text/plain": [
       "DatetimeIndex(['2020-01-01', '2020-01-02', '2020-01-03', '2020-01-04',\n",
       "               '2020-01-05', '2020-01-06', '2020-01-07', '2020-01-08',\n",
       "               '2020-01-09', '2020-01-10'],\n",
       "              dtype='datetime64[ns]', freq='D')"
      ]
     },
     "execution_count": 70,
     "metadata": {},
     "output_type": "execute_result"
    }
   ],
   "source": [
    "kolejne_dni = pd.date_range('20200101', periods=10)\n",
    "\n",
    "kolejne_dni"
   ]
  },
  {
   "cell_type": "markdown",
   "metadata": {},
   "source": [
    "Przy pomocy argumentu `freq` można określić rodzaj skoku czasowego między kolejnymi próbkami (możliwe są różne jednostki czasu). W poniższym przykładzie zakres dat wygenerowany zgodnie z założeniami staje się indeksem serii danych losowych."
   ]
  },
  {
   "cell_type": "code",
   "execution_count": 71,
   "metadata": {},
   "outputs": [
    {
     "name": "stdout",
     "output_type": "stream",
     "text": [
      "2019-01-12 12:30:00    386\n",
      "2019-01-12 12:31:00    445\n",
      "2019-01-12 12:32:00    421\n",
      "2019-01-12 12:33:00    421\n",
      "2019-01-12 12:34:00     29\n",
      "Freq: T, dtype: int32\n",
      "2019-01-12 14:05:00    419\n",
      "2019-01-12 14:06:00    349\n",
      "2019-01-12 14:07:00    173\n",
      "2019-01-12 14:08:00    319\n",
      "2019-01-12 14:09:00    225\n",
      "Freq: T, dtype: int32\n"
     ]
    }
   ],
   "source": [
    "ind = pd.date_range('1/12/2019 12:30', periods=100, freq='min')\n",
    "szereg_czasowy = pd.Series(np.random.randint(0, 500, len(ind)), index=ind)\n",
    "print(szereg_czasowy.head())\n",
    "print(szereg_czasowy.tail())"
   ]
  },
  {
   "cell_type": "code",
   "execution_count": 72,
   "metadata": {},
   "outputs": [
    {
     "name": "stdout",
     "output_type": "stream",
     "text": [
      "2019-01-12 12:30:00    145\n",
      "2019-01-13 12:30:00    418\n",
      "2019-01-14 12:30:00    287\n",
      "2019-01-15 12:30:00    163\n",
      "2019-01-16 12:30:00    106\n",
      "Freq: D, dtype: int32\n",
      "2019-03-13 12:30:00    235\n",
      "2019-03-14 12:30:00    294\n",
      "2019-03-15 12:30:00     97\n",
      "2019-03-16 12:30:00    120\n",
      "2019-03-17 12:30:00    276\n",
      "Freq: D, dtype: int32\n"
     ]
    }
   ],
   "source": [
    "ind = pd.date_range('1/12/2019 12:30', periods=65, freq='D')\n",
    "szereg_czasowy = pd.Series(np.random.randint(0, 500, len(ind)), index=ind)\n",
    "print(szereg_czasowy.head())\n",
    "print(szereg_czasowy.tail())"
   ]
  },
  {
   "cell_type": "markdown",
   "metadata": {},
   "source": [
    "Metody `index.min` oraz `index.max` wracają najniższą i najwyższą wartość indeksu."
   ]
  },
  {
   "cell_type": "code",
   "execution_count": 73,
   "metadata": {},
   "outputs": [
    {
     "data": {
      "text/plain": [
       "Timedelta('64 days 00:00:00')"
      ]
     },
     "execution_count": 73,
     "metadata": {},
     "output_type": "execute_result"
    }
   ],
   "source": [
    "szereg_czasowy.index.max() - szereg_czasowy.index.min()"
   ]
  },
  {
   "cell_type": "markdown",
   "metadata": {},
   "source": [
    "Dzięki odpowiednim metodom możliwy jest dostęp do poszczególnych składników dany - roku, miesiąca i dnia, a nawet dnia tygodnia."
   ]
  },
  {
   "cell_type": "code",
   "execution_count": 74,
   "metadata": {},
   "outputs": [
    {
     "name": "stdout",
     "output_type": "stream",
     "text": [
      "Index([2019, 2019, 2019, 2019, 2019, 2019, 2019, 2019, 2019, 2019, 2019, 2019,\n",
      "       2019, 2019, 2019, 2019, 2019, 2019, 2019, 2019, 2019, 2019, 2019, 2019,\n",
      "       2019, 2019, 2019, 2019, 2019, 2019, 2019, 2019, 2019, 2019, 2019, 2019,\n",
      "       2019, 2019, 2019, 2019, 2019, 2019, 2019, 2019, 2019, 2019, 2019, 2019,\n",
      "       2019, 2019, 2019, 2019, 2019, 2019, 2019, 2019, 2019, 2019, 2019, 2019,\n",
      "       2019, 2019, 2019, 2019, 2019],\n",
      "      dtype='int32')\n",
      "Index([1, 1, 1, 1, 1, 1, 1, 1, 1, 1, 1, 1, 1, 1, 1, 1, 1, 1, 1, 1, 2, 2, 2, 2,\n",
      "       2, 2, 2, 2, 2, 2, 2, 2, 2, 2, 2, 2, 2, 2, 2, 2, 2, 2, 2, 2, 2, 2, 2, 2,\n",
      "       3, 3, 3, 3, 3, 3, 3, 3, 3, 3, 3, 3, 3, 3, 3, 3, 3],\n",
      "      dtype='int32')\n",
      "Index([12, 13, 14, 15, 16, 17, 18, 19, 20, 21, 22, 23, 24, 25, 26, 27, 28, 29,\n",
      "       30, 31,  1,  2,  3,  4,  5,  6,  7,  8,  9, 10, 11, 12, 13, 14, 15, 16,\n",
      "       17, 18, 19, 20, 21, 22, 23, 24, 25, 26, 27, 28,  1,  2,  3,  4,  5,  6,\n",
      "        7,  8,  9, 10, 11, 12, 13, 14, 15, 16, 17],\n",
      "      dtype='int32')\n",
      "Index(['Saturday', 'Sunday', 'Monday', 'Tuesday', 'Wednesday', 'Thursday',\n",
      "       'Friday', 'Saturday', 'Sunday', 'Monday', 'Tuesday', 'Wednesday',\n",
      "       'Thursday', 'Friday', 'Saturday', 'Sunday', 'Monday', 'Tuesday',\n",
      "       'Wednesday', 'Thursday', 'Friday', 'Saturday', 'Sunday', 'Monday',\n",
      "       'Tuesday', 'Wednesday', 'Thursday', 'Friday', 'Saturday', 'Sunday',\n",
      "       'Monday', 'Tuesday', 'Wednesday', 'Thursday', 'Friday', 'Saturday',\n",
      "       'Sunday', 'Monday', 'Tuesday', 'Wednesday', 'Thursday', 'Friday',\n",
      "       'Saturday', 'Sunday', 'Monday', 'Tuesday', 'Wednesday', 'Thursday',\n",
      "       'Friday', 'Saturday', 'Sunday', 'Monday', 'Tuesday', 'Wednesday',\n",
      "       'Thursday', 'Friday', 'Saturday', 'Sunday', 'Monday', 'Tuesday',\n",
      "       'Wednesday', 'Thursday', 'Friday', 'Saturday', 'Sunday'],\n",
      "      dtype='object')\n"
     ]
    }
   ],
   "source": [
    "print(szereg_czasowy.index.year)\n",
    "print(szereg_czasowy.index.month)\n",
    "print(szereg_czasowy.index.day)\n",
    "print(szereg_czasowy.index.day_name())"
   ]
  },
  {
   "cell_type": "markdown",
   "metadata": {},
   "source": [
    "Szereg czasowy może być indeksem serii lub  ramki danych. W takim przypadku kolejne obiekty (wiersze) ramki odnoszą się do pomiarów wykonywanych w kolejnych chwilach czasowych. W poniższym przykładzie wczytywana jest tabela notowań indeksu giełdowego WIG30. Z uwagi na fakt, iż w oryginalnym pliku danych Excel-a pierwsza kolumna ze wskazanego zakresu jest kolumną dat, jest ona automatycznie konwertowana na indeks - szereg czasowy."
   ]
  },
  {
   "cell_type": "code",
   "execution_count": 75,
   "metadata": {},
   "outputs": [
    {
     "name": "stdout",
     "output_type": "stream",
     "text": [
      "<class 'pandas.core.frame.DataFrame'>\n",
      "<class 'pandas.core.frame.DataFrame'>\n",
      "DatetimeIndex: 6773 entries, 1991-04-16 to 2020-03-05\n",
      "Data columns (total 5 columns):\n",
      " #   Column      Non-Null Count  Dtype  \n",
      "---  ------      --------------  -----  \n",
      " 0   Otwarcie    6773 non-null   float64\n",
      " 1   Najwyzszy   6773 non-null   float64\n",
      " 2   Najnizszy   6773 non-null   float64\n",
      " 3   Zamkniecie  6773 non-null   float64\n",
      " 4   Wolumen     6771 non-null   float64\n",
      "dtypes: float64(5)\n",
      "memory usage: 317.5 KB\n",
      "None\n"
     ]
    }
   ],
   "source": [
    "k = pd.read_excel('kursy.xlsx', sheet_name = \"WIG30\", header = 2,usecols = range(0,6), index_col = 0)\n",
    "print(type(k))\n",
    "print(k.info())\n"
   ]
  },
  {
   "cell_type": "code",
   "execution_count": 76,
   "metadata": {},
   "outputs": [
    {
     "name": "stdout",
     "output_type": "stream",
     "text": [
      "<class 'pandas.core.indexes.datetimes.DatetimeIndex'>\n",
      "DatetimeIndex(['1991-04-16', '1991-04-23', '1991-04-30', '1991-05-14',\n",
      "               '1991-05-21', '1991-05-28', '1991-06-04', '1991-06-11',\n",
      "               '1991-06-18', '1991-06-25',\n",
      "               ...\n",
      "               '2020-02-21', '2020-02-24', '2020-02-25', '2020-02-26',\n",
      "               '2020-02-27', '2020-02-28', '2020-03-02', '2020-03-03',\n",
      "               '2020-03-04', '2020-03-05'],\n",
      "              dtype='datetime64[ns]', name='Data', length=6773, freq=None)\n"
     ]
    }
   ],
   "source": [
    "print(type(k.index))\n",
    "print(k.index)"
   ]
  },
  {
   "cell_type": "markdown",
   "metadata": {},
   "source": [
    "## 3.2 Manipulowanie szeregiem czasowym"
   ]
  },
  {
   "cell_type": "markdown",
   "metadata": {},
   "source": [
    "Na bazie istniejących danych możliwe jest tworzenie nowych, powstających przez ekstrakcję wybranych fragmentów danych oryginalnych. W poniższym przykładzie tworzymy nową serię danych, w której jako jedyna kolumna danych pojawi się poziom indeksu na zamknięciu danego dnia."
   ]
  },
  {
   "cell_type": "code",
   "execution_count": 77,
   "metadata": {},
   "outputs": [
    {
     "name": "stdout",
     "output_type": "stream",
     "text": [
      "Data\n",
      "1991-04-16    98.65\n",
      "1991-04-23    94.41\n",
      "1991-04-30    92.24\n",
      "1991-05-14    91.65\n",
      "1991-05-21    94.21\n",
      "Name: EUR30, dtype: float64\n",
      "Data\n",
      "2020-02-28    2050.16\n",
      "2020-03-02    2089.22\n",
      "2020-03-03    2180.15\n",
      "2020-03-04    2149.60\n",
      "2020-03-05    2112.25\n",
      "Name: EUR30, dtype: float64\n"
     ]
    }
   ],
   "source": [
    "wig30seria = pd.Series(k['Zamkniecie'], name = 'EUR30')\n",
    "wig30seria.index = k.index\n",
    "print(wig30seria.head())\n",
    "print(wig30seria.tail())"
   ]
  },
  {
   "cell_type": "markdown",
   "metadata": {},
   "source": [
    "Ekstrakcja danych dot. daty z indeksu do kolumn ramki danych. "
   ]
  },
  {
   "cell_type": "code",
   "execution_count": 78,
   "metadata": {},
   "outputs": [
    {
     "name": "stdout",
     "output_type": "stream",
     "text": [
      "            wartosc   rok  miesiac  dzien dzien_tyg\n",
      "Data                                               \n",
      "1991-04-16    98.65  1991        4     16   Tuesday\n",
      "1991-04-23    94.41  1991        4     23   Tuesday\n",
      "1991-04-30    92.24  1991        4     30   Tuesday\n",
      "1991-05-14    91.65  1991        5     14   Tuesday\n",
      "1991-05-21    94.21  1991        5     21   Tuesday\n"
     ]
    },
    {
     "data": {
      "text/html": [
       "<div>\n",
       "<style scoped>\n",
       "    .dataframe tbody tr th:only-of-type {\n",
       "        vertical-align: middle;\n",
       "    }\n",
       "\n",
       "    .dataframe tbody tr th {\n",
       "        vertical-align: top;\n",
       "    }\n",
       "\n",
       "    .dataframe thead th {\n",
       "        text-align: right;\n",
       "    }\n",
       "</style>\n",
       "<table border=\"1\" class=\"dataframe\">\n",
       "  <thead>\n",
       "    <tr style=\"text-align: right;\">\n",
       "      <th></th>\n",
       "      <th>wartosc</th>\n",
       "      <th>rok</th>\n",
       "      <th>miesiac</th>\n",
       "      <th>dzien</th>\n",
       "      <th>dzien_tyg</th>\n",
       "    </tr>\n",
       "    <tr>\n",
       "      <th>Data</th>\n",
       "      <th></th>\n",
       "      <th></th>\n",
       "      <th></th>\n",
       "      <th></th>\n",
       "      <th></th>\n",
       "    </tr>\n",
       "  </thead>\n",
       "  <tbody>\n",
       "    <tr>\n",
       "      <th>2020-02-28</th>\n",
       "      <td>2050.16</td>\n",
       "      <td>2020</td>\n",
       "      <td>2</td>\n",
       "      <td>28</td>\n",
       "      <td>Friday</td>\n",
       "    </tr>\n",
       "    <tr>\n",
       "      <th>2020-03-02</th>\n",
       "      <td>2089.22</td>\n",
       "      <td>2020</td>\n",
       "      <td>3</td>\n",
       "      <td>2</td>\n",
       "      <td>Monday</td>\n",
       "    </tr>\n",
       "    <tr>\n",
       "      <th>2020-03-03</th>\n",
       "      <td>2180.15</td>\n",
       "      <td>2020</td>\n",
       "      <td>3</td>\n",
       "      <td>3</td>\n",
       "      <td>Tuesday</td>\n",
       "    </tr>\n",
       "    <tr>\n",
       "      <th>2020-03-04</th>\n",
       "      <td>2149.60</td>\n",
       "      <td>2020</td>\n",
       "      <td>3</td>\n",
       "      <td>4</td>\n",
       "      <td>Wednesday</td>\n",
       "    </tr>\n",
       "    <tr>\n",
       "      <th>2020-03-05</th>\n",
       "      <td>2112.25</td>\n",
       "      <td>2020</td>\n",
       "      <td>3</td>\n",
       "      <td>5</td>\n",
       "      <td>Thursday</td>\n",
       "    </tr>\n",
       "  </tbody>\n",
       "</table>\n",
       "</div>"
      ],
      "text/plain": [
       "            wartosc   rok  miesiac  dzien  dzien_tyg\n",
       "Data                                                \n",
       "2020-02-28  2050.16  2020        2     28     Friday\n",
       "2020-03-02  2089.22  2020        3      2     Monday\n",
       "2020-03-03  2180.15  2020        3      3    Tuesday\n",
       "2020-03-04  2149.60  2020        3      4  Wednesday\n",
       "2020-03-05  2112.25  2020        3      5   Thursday"
      ]
     },
     "execution_count": 78,
     "metadata": {},
     "output_type": "execute_result"
    }
   ],
   "source": [
    "wig30 = pd.DataFrame({'wartosc': k['Zamkniecie'], 'rok': k.index.year, 'miesiac': k.index.month, 'dzien': k.index.day, 'dzien_tyg': k.index.day_name()})\n",
    "wig30.index = k.index\n",
    "print(wig30.head())\n",
    "wig30.tail()"
   ]
  },
  {
   "cell_type": "markdown",
   "metadata": {},
   "source": [
    "Szeregi czasowe mogą być skalowane poprzez zmianę częstotliwości próbkowania czasu. Przykładowo, możliwe jest wygenerowanie szeregu czasowego, w którym zamiast próbkowania dziennego, wystąpi próbkowanie miesięczne - w tym przypadku ostatni dzień miesiąca. Wartość przypisana temu elementowi będzie równa średniej arytmetycznej dla danego miesiąca."
   ]
  },
  {
   "cell_type": "markdown",
   "metadata": {},
   "source": [
    "> **Zadanie** Wyznacz następujące wartości:\n",
    "* łączną liczbę notowań (lub inaczej: dni, w które giełda pracowała) w kolejnych latach\n",
    "* liczbę notowań w ciągu całego okresu w poszczególne dni tygodnia\n",
    "* średnią wartość indeksu w poszczególnych latach \n",
    "* wzrost poziomu indeksu w poszczególnych latach"
   ]
  },
  {
   "cell_type": "code",
   "execution_count": 81,
   "metadata": {},
   "outputs": [
    {
     "name": "stdout",
     "output_type": "stream",
     "text": [
      "     rok  Liczba notowań w latach\n",
      "0   1991                       36\n",
      "1   1992                      100\n",
      "2   1993                      152\n",
      "3   1994                      188\n",
      "4   1995                      249\n",
      "5   1996                      250\n",
      "6   1997                      249\n",
      "7   1998                      250\n",
      "8   1999                      249\n",
      "9   2000                      250\n",
      "10  2001                      250\n",
      "11  2002                      249\n",
      "12  2003                      251\n",
      "13  2004                      255\n",
      "14  2005                      251\n",
      "15  2006                      251\n",
      "16  2007                      249\n",
      "17  2008                      251\n",
      "18  2009                      252\n",
      "19  2010                      253\n",
      "20  2011                      251\n",
      "21  2012                      249\n",
      "22  2013                      247\n",
      "23  2014                      249\n",
      "24  2015                      251\n",
      "25  2016                      251\n",
      "26  2017                      250\n",
      "27  2018                      247\n",
      "28  2019                      248\n",
      "29  2020                       45\n",
      "   dzien_tyg  Liczba notowań w danym dniu tygodnia\n",
      "0     Friday                                  1260\n",
      "1     Monday                                  1343\n",
      "2   Thursday                                  1401\n",
      "3    Tuesday                                  1463\n",
      "4  Wednesday                                  1306\n",
      "     rok  Średnia w roku\n",
      "0   1991       84.034167\n",
      "1   1992       85.686300\n",
      "2   1993      443.586908\n",
      "3   1994     1084.484468\n",
      "4   1995      768.744458\n",
      "5   1996     1291.144600\n",
      "6   1997     1595.787430\n",
      "7   1998     1480.409960\n",
      "8   1999     1457.355181\n",
      "9   2000     1925.697240\n",
      "10  2001     1314.431400\n",
      "11  2002     1223.628514\n",
      "12  2003     1310.043267\n",
      "13  2004     1726.625725\n",
      "14  2005     2134.066096\n",
      "15  2006     2955.140996\n",
      "16  2007     3534.448956\n",
      "17  2008     2504.604781\n",
      "18  2009     1928.434405\n",
      "19  2010     2500.836324\n",
      "20  2011     2601.240120\n",
      "21  2012     2312.705622\n",
      "22  2013     2525.098745\n",
      "23  2014     2584.703896\n",
      "24  2015     2453.743705\n",
      "25  2016     2054.290558\n",
      "26  2017     2691.098400\n",
      "27  2018     2626.163563\n",
      "28  2019     2573.805685\n",
      "29  2020     2399.263778\n",
      "        first     last  Annual Growth\n",
      "rok                                  \n",
      "1991    98.65    89.68          -8.97\n",
      "1992    95.10   101.52           6.42\n",
      "1993   101.12  1213.25        1112.13\n",
      "1994  1272.34   722.15        -550.19\n",
      "1995   739.61   781.24          41.63\n",
      "1996   799.79  1422.40         622.61\n",
      "1997  1442.82  1467.19          24.37\n",
      "1998  1461.17  1224.50        -236.67\n",
      "1999  1271.75  1764.53         492.78\n",
      "2000  1827.96  1791.75         -36.21\n",
      "2001  1770.50  1192.08        -578.42\n",
      "2002  1200.94  1159.82         -41.12\n",
      "2003  1160.68  1552.86         392.18\n",
      "2004  1595.03  1934.19         339.16\n",
      "2005  1940.22  2619.22         679.00\n",
      "2006  2658.65  3241.28         582.63\n",
      "2007  3302.70  3409.54         106.84\n",
      "2008  3395.82  1672.38       -1723.44\n",
      "2009  1745.11  2405.10         659.99\n",
      "2010  2455.68  2760.07         304.39\n",
      "2011  2798.40  2198.22        -600.18\n",
      "2012  2241.74  2582.98         341.24\n",
      "2013  2624.35  2537.53         -86.82\n",
      "2014  2569.68  2487.52         -82.16\n",
      "2015  2484.88  2075.51        -409.37\n",
      "2016  2017.44  2243.30         225.86\n",
      "2017  2249.35  2825.27         575.92\n",
      "2018  2835.24  2581.52        -253.72\n",
      "2019  2612.62  2472.20        -140.42\n",
      "2020  2527.76  2112.25        -415.51\n",
      "Data\n",
      "1991-04-16    98.65\n",
      "1991-04-23    94.41\n",
      "1991-04-30    92.24\n",
      "1991-05-14    91.65\n",
      "1991-05-21    94.21\n",
      "Name: EUR30, dtype: float64\n"
     ]
    },
    {
     "data": {
      "text/plain": [
       "Data\n",
       "1991-04-30    95.100000\n",
       "1991-05-31    93.063333\n",
       "1991-06-30    88.937500\n",
       "1991-07-31    83.322000\n",
       "1991-08-31    74.655000\n",
       "Freq: M, Name: EUR30, dtype: float64"
      ]
     },
     "execution_count": 81,
     "metadata": {},
     "output_type": "execute_result"
    }
   ],
   "source": [
    "#zad 3\n",
    "yearly_counts = wig30.groupby('rok').size()\n",
    "yearly_counts = yearly_counts.reset_index(name='Liczba notowań w latach')\n",
    "print(yearly_counts)\n",
    "\n",
    "day_counts = wig30.groupby('dzien_tyg').size()\n",
    "day_counts = day_counts.reset_index(name='Liczba notowań w danym dniu tygodnia')\n",
    "print(day_counts)\n",
    "\n",
    "yearly_avg = wig30.groupby('rok')['wartosc'].mean()\n",
    "yearly_avg = yearly_avg.reset_index(name='Średnia w roku')\n",
    "print(yearly_avg)\n",
    "\n",
    "wig30['Annual Growth'] = wig30.groupby('rok')['wartosc'].diff()\n",
    "annual_growth = wig30.groupby('rok')['wartosc'].agg(['first', 'last'])\n",
    "annual_growth['Annual Growth'] = annual_growth['last'] - annual_growth['first']\n",
    "print(annual_growth)\n",
    "\n",
    "#po zad\n",
    "print(wig30seria.head())\n",
    "wig30mies = wig30seria.resample(rule = 'M').mean()\n",
    "wig30mies.head()"
   ]
  },
  {
   "cell_type": "markdown",
   "metadata": {},
   "source": [
    "> **Zadanie** Zorientuj się jakie inne parametry mogą być użyte w powyższym przykładzie i jaki będzie efekt ich zastosowania."
   ]
  },
  {
   "cell_type": "markdown",
   "metadata": {},
   "source": [
    "Metoda shift pozwala na przesunięcie danych w skali czasu o zadaną liczbę próbek."
   ]
  },
  {
   "cell_type": "code",
   "execution_count": null,
   "metadata": {},
   "outputs": [],
   "source": [
    "print(wig30mies.head())\n",
    "print(wig30mies.shift(2).head())\n",
    "print(wig30mies.shift(-2).head())"
   ]
  },
  {
   "cell_type": "markdown",
   "metadata": {},
   "source": [
    "# 4. Dane rastrowe - pakiet `scikit-image`"
   ]
  },
  {
   "cell_type": "markdown",
   "metadata": {},
   "source": [
    "Istnieje kilka pakietów umożliwiających wykonywanie operacji na obrazach cyfrowych. Jednym z najważniejszych jest pakiet `scikit-image` (`scimage`). Pakiet ten będzie wykorzystywany podczas zajęć. Innym znanym pakietem jest OpenCV (`cv2`), który umożliwia dostęp z poziomu Pythona do jednej z największych bibliotek przetwarzania obrazów, biblioteki [openCV](https://opencv.org/). "
   ]
  },
  {
   "cell_type": "markdown",
   "metadata": {},
   "source": [
    "Jak każdy pakiet, także i `scimage` wymaga wczytania w całości lub jedynie wybranych, przyadatnych w konkretnym zastosowaniu funkcji. W poniższych przykładach funkcje będą doładowywane sukcesywnie stosownie dopotrzeb. Dodatkowo wykorzystywana będzie część pakietu `matplotlib` jako niezbędna do wyświetlania obrazów. Pakiet ten służy do wizualizacji danych i zostanie omówiony bardziej wyczerpująco w ćwiczeniu poświęconym wizualizacji. "
   ]
  },
  {
   "cell_type": "code",
   "execution_count": null,
   "metadata": {},
   "outputs": [],
   "source": [
    "import numpy as np\n",
    "from matplotlib import pyplot as plt\n",
    "%matplotlib inline"
   ]
  },
  {
   "cell_type": "markdown",
   "metadata": {},
   "source": [
    "## 4.1 Wczytywanie i wyświetlanie obrazów"
   ]
  },
  {
   "cell_type": "markdown",
   "metadata": {},
   "source": [
    "Wczytywanie obrazu do macierzy - macierzowej struktury danych pakietu `numpy` - jest wykonywane z użyciem metody `imread`. W przypadku gdy otwrcie pliku i ściągnięcie z niego danych się powiedzie, funkcja zwraca macierz. Dla obrazu kolorwego jest to macierz trójwymiarowa - wymiar to trzy warstwy odpowiadające poszczególnym składowym koloru. Jeden ze sposobów wyświetlenia obrazu (najwygodniejszym w przypadku korzystania z Jupyter Notebook) polega na wykorzystaniu komendy `imshow` z pakietu `matplotlib`."
   ]
  },
  {
   "cell_type": "code",
   "execution_count": null,
   "metadata": {},
   "outputs": [],
   "source": [
    "from skimage import io\n",
    "obraz = io.imread('baboon.jpg')\n",
    "# parametry macierzy obrazu - obraz kolorowy\n",
    "print(obraz.shape, type(obraz))\n",
    "plt.imshow(obraz)\n",
    "# obraz2 = cv2.imread('baboon.jpg',0)\n",
    "# parametry macierzy obra zu - obraz w skali szarości\n",
    "# print(obraz2.shape, type(obraz2))"
   ]
  },
  {
   "cell_type": "markdown",
   "metadata": {},
   "source": [
    "Wykorzystując funkcję `imread` możliwy jest także import obrazu z sieci, przez podanie jego adresu url. "
   ]
  },
  {
   "cell_type": "code",
   "execution_count": null,
   "metadata": {},
   "outputs": [],
   "source": [
    "from skimage import io\n",
    "url = \"http://www.ee.pw.edu.pl/wp-content/uploads/2016/11/WE-znak.png\"\n",
    "obraz_www = io.imread(url)\n",
    "print(obraz.shape, type(obraz_www))\n",
    "plt.imshow(obraz_www) "
   ]
  },
  {
   "cell_type": "markdown",
   "metadata": {},
   "source": [
    "Dostęp do pikseli obrazu."
   ]
  },
  {
   "cell_type": "code",
   "execution_count": null,
   "metadata": {},
   "outputs": [],
   "source": [
    "px = 100\n",
    "py = 100\n",
    "piks1 = obraz[px,py]\n",
    "piks1g = obraz[px,py,1]\n",
    "piks2 = obraz[px,py]\n",
    "print(\"obraz(\",px,\",\",py,\")=\",piks1)\n",
    "print(\"obraz(\",px,\",\",py,\",1)=\",piks1g)\n",
    "print(\"obraz(\",px,\",\",py,\")=\",piks2)"
   ]
  },
  {
   "cell_type": "markdown",
   "metadata": {},
   "source": [
    "Zmiana wartości pikseli"
   ]
  },
  {
   "cell_type": "code",
   "execution_count": null,
   "metadata": {},
   "outputs": [],
   "source": [
    "# pojedyncza składowa\n",
    "print(\"przed: \",obraz[px,py])\n",
    "obraz[px,py,2]=1\n",
    "print(\"po zmianie jednej składowej: \",obraz[px,py])\n",
    "# cały piksel\n",
    "obraz[px,py]= [10,20,30]\n",
    "print(\"po zmianie całego piksela: \",obraz[px,py])"
   ]
  },
  {
   "cell_type": "markdown",
   "metadata": {},
   "source": [
    "Wycinanie fragmentu obrazu (ROI = Region Of Interests) wymaga odwołania poprzez zakres współrzędnych."
   ]
  },
  {
   "cell_type": "code",
   "execution_count": null,
   "metadata": {},
   "outputs": [],
   "source": [
    "oko = obraz[40:80,140:210]\n",
    "plt.imshow(oko)"
   ]
  },
  {
   "cell_type": "markdown",
   "metadata": {},
   "source": [
    "## 4.2 Przestrzenie kolorów"
   ]
  },
  {
   "cell_type": "markdown",
   "metadata": {},
   "source": [
    "Obraz kolorowy składa się z trzech składowych. W modelu RGB składowe te określają intensywność trzech barw podstawowych czerwonej, zielonej i niebieskiej. Aby otrzymać poszczególne składowe, obraz kolorowy należy zdekomponować na trzy obrazy w skali szarości. Możliwa jest także operacja odwrotna - z trzech obrazów składowych koloru tworzony jest jeden obraz kolorowy."
   ]
  },
  {
   "cell_type": "markdown",
   "metadata": {},
   "source": [
    "---\n",
    "---\n",
    "Historia zmian:\n",
    "* wersja pierwotna r.akad 18/19: 24.03.2019 (MI)\n",
    "* wersja r.akad 19/20: 18.03.2020 (MI)\n",
    "* wersja r.akad 19/20: 21.03.2020 (GS)\n",
    "* wersja r.akad 20/21: 22.10.2020 (MI)\n"
   ]
  },
  {
   "cell_type": "code",
   "execution_count": null,
   "metadata": {},
   "outputs": [],
   "source": [
    "obraz = io.imread('baboon.jpg')\n",
    "plt.figure(figsize=(12,12), dpi= 80)\n",
    "ax = plt.subplot(3,4,1)   \n",
    "ax.set_title(\"RGB\")\n",
    "plt.imshow(obraz)\n",
    "ax = plt.subplot(3,4,2)\n",
    "ax.set_title(\"Red\")\n",
    "plt.imshow(obraz[:,:,0],cmap='gray')\n",
    "ax = plt.subplot(3,4,3)\n",
    "ax.set_title(\"Green\")\n",
    "plt.imshow(obraz[:,:,1],cmap='gray')\n",
    "ax = plt.subplot(3,4,4)\n",
    "ax.set_title(\"Blue\")\n",
    "plt.imshow(obraz[:,:,2],cmap='gray')\n",
    "# wyznaczamy składowe CMY\n",
    "cmy_c = 255 - obraz[:,:,0]\n",
    "cmy_m = 255 - obraz[:,:,1]\n",
    "cmy_y = 255 - obraz[:,:,2] \n",
    "ax = plt.subplot(3,4,6)\n",
    "ax.set_title(\"Cyan (CMY)\")\n",
    "plt.imshow(cmy_c,cmap='gray')\n",
    "ax = plt.subplot(3,4,7)\n",
    "ax.set_title(\"Magenta (CMY)\")\n",
    "plt.imshow(cmy_m,cmap='gray')\n",
    "ax = plt.subplot(3,4,8)\n",
    "ax.set_title(\"Yellow (CMY)\")\n",
    "plt.imshow(cmy_y,cmap='gray')\n",
    "# wyznaczamy składowe CMYK\n",
    "cmyk_k = np.minimum(cmy_c,np.minimum(cmy_m,cmy_y))\n",
    "cmyk_c = cmy_c - cmyk_k\n",
    "cmyk_m = cmy_m - cmyk_k\n",
    "cmyk_y = cmy_y - cmyk_k\n",
    "ax = plt.subplot(3,4,9)\n",
    "ax.set_title(\"blacK (CMYK)\")\n",
    "plt.imshow(cmyk_k,cmap='gray')\n",
    "ax = plt.subplot(3,4,10)\n",
    "ax.set_title(\"Cyan (CMYK)\")\n",
    "plt.imshow(cmyk_c,cmap='gray')\n",
    "ax = plt.subplot(3,4,11)\n",
    "ax.set_title(\"Magenta (CMYK)\")\n",
    "plt.imshow(cmyk_m,cmap='gray')\n",
    "ax = plt.subplot(3,4,12)\n",
    "ax.set_title(\"Yellow (CMYK)\")\n",
    "plt.imshow(cmyk_y,cmap='gray')"
   ]
  },
  {
   "cell_type": "markdown",
   "metadata": {},
   "source": [
    "Inny sposób wyświetlania - jako pojedyncza macierz, sklejona z trzech. Obraz kolorowy może być reprentowany a także przetwarzany w innych przestrzeniach kolorów. Poniższe przykłady przedstawiają separację barwną (rozbicie na składowe koloru) na trzy składowe przestrzeni RGB, YUV oraz HSV. Przykład pokazuje przy okazji inny sposób wyświetlania składowych obrazów kolorowych."
   ]
  },
  {
   "cell_type": "code",
   "execution_count": null,
   "metadata": {},
   "outputs": [],
   "source": [
    "cmy_c = 255 - obraz[:,:,0]\n",
    "cmy_m = 255 - obraz[:,:,1]\n",
    "cmy_k = 255 - obraz[:,:,2] \n",
    "\n",
    "cmyk_k = 255 - np.maximum(obraz[:,:,0],obraz[:,:,1],obraz[:,:,1])\n",
    "cmyk_c = cmy_c - cmyk_k\n",
    "cmyk_m = cmy_m - cmyk_k\n",
    "cmyk_k = cmy_k - cmyk_k"
   ]
  },
  {
   "cell_type": "code",
   "execution_count": null,
   "metadata": {},
   "outputs": [],
   "source": [
    "from skimage.color import rgb2hsv,rgb2yuv\n",
    "plt.figure(figsize=(10,5),dpi = 80)\n",
    "plt.imshow(np.hstack((obraz[:,:,0],obraz[:,:,1],obraz[:,:,2])),cmap='gray')\n",
    "plt.title('przestrzeń RGB')\n",
    "obraz_yuv = rgb2yuv(obraz)\n",
    "plt.figure(figsize=(10,5),dpi = 80)\n",
    "plt.imshow(np.hstack((obraz_yuv[:,:,0],obraz_yuv[:,:,1],obraz_yuv[:,:,2])),cmap='gray')\n",
    "plt.title('przestrzeń YUV')\n",
    "obraz_hsv = rgb2hsv(obraz)\n",
    "plt.figure(figsize=(10,5),dpi = 80)\n",
    "plt.imshow(np.hstack((obraz_hsv[:,:,0],obraz_hsv[:,:,1],obraz_hsv[:,:,2])),cmap='gray')\n",
    "plt.title('przestrzeń HSV')"
   ]
  },
  {
   "cell_type": "markdown",
   "metadata": {},
   "source": [
    "> **Zadanie** Wykonaj separacje barwne dla różnych przestrzeni docelowych dla dowolnego innego obrazu kolorowego, zwróć uwagę jak, w poszczególnych przestrzeniach, wyglądają obszar o określonych kolorach."
   ]
  },
  {
   "cell_type": "markdown",
   "metadata": {},
   "source": [
    "## Dla dociekliwych"
   ]
  },
  {
   "cell_type": "markdown",
   "metadata": {},
   "source": [
    "* [Pakiet Pandas w 10 minut](https://pandas.pydata.org/pandas-docs/stable/getting_started/10min.html)\n",
    "* [Inny tutorial Pandasa](https://data36.com/pandas-tutorial-1-basics-reading-data-files-dataframes-data-selection/) \n",
    "* [I jeszcze jeden](https://www.datacamp.com/community/tutorials/pandas-tutorial-dataframe-python)\n",
    "* [Serie danych](https://www.geeksforgeeks.org/python-pandas-series/)\n",
    "* [Serie danych 2](https://www.machinelearningplus.com/time-series/time-series-analysis-python/)\n",
    "* [Szeregi czasowe](https://www.dataquest.io/blog/tutorial-time-series-analysis-with-pandas/)\n",
    "* [Szeregi czasowe 2](https://jakevdp.github.io/PythonDataScienceHandbook/03.11-working-with-time-series.html)\n",
    "* [Python+OpenCV](https://docs.opencv.org/3.0-beta/doc/py_tutorials/py_tutorials.html)"
   ]
  }
 ],
 "metadata": {
  "kernelspec": {
   "display_name": "Python 3 (ipykernel)",
   "language": "python",
   "name": "python3"
  },
  "language_info": {
   "codemirror_mode": {
    "name": "ipython",
    "version": 3
   },
   "file_extension": ".py",
   "mimetype": "text/x-python",
   "name": "python",
   "nbconvert_exporter": "python",
   "pygments_lexer": "ipython3",
   "version": "3.11.5"
  }
 },
 "nbformat": 4,
 "nbformat_minor": 4
}
